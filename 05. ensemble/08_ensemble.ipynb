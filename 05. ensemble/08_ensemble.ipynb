{
 "cells": [
  {
   "cell_type": "markdown",
   "id": "a7870542",
   "metadata": {},
   "source": [
    "# Métodos de Ensemble\n"
   ]
  },
  {
   "cell_type": "markdown",
   "id": "d204c3e0",
   "metadata": {},
   "source": [
    "## Instabilidade"
   ]
  },
  {
   "cell_type": "markdown",
   "id": "65d10fe4",
   "metadata": {},
   "source": [
    "Vamos montar um modelo clássico para identificação de mensagens de spam. O modelo consiste em contar quantas vezes uma determinada palavra aparece na mensagem e classificá-la como spam ou não. **O foco da aula não é o modelo, mas estudar a estabilidade dele!**"
   ]
  },
  {
   "cell_type": "markdown",
   "id": "43a665e8",
   "metadata": {},
   "source": [
    "### Coleta e limpeza de dados"
   ]
  },
  {
   "cell_type": "code",
   "execution_count": 1,
   "id": "5de60289",
   "metadata": {
    "ExecuteTime": {
     "end_time": "2022-02-21T16:37:01.985647Z",
     "start_time": "2022-02-21T16:36:56.680683Z"
    }
   },
   "outputs": [],
   "source": [
    "import pandas as pd\n",
    "import string\n",
    "import seaborn as sns\n",
    "import matplotlib.pyplot as plt\n",
    "import numpy as np"
   ]
  },
  {
   "cell_type": "code",
   "execution_count": 2,
   "id": "a707ff5f",
   "metadata": {
    "ExecuteTime": {
     "end_time": "2022-02-21T16:37:25.235624Z",
     "start_time": "2022-02-21T16:37:25.126381Z"
    }
   },
   "outputs": [
    {
     "data": {
      "text/html": [
       "<div>\n",
       "<style scoped>\n",
       "    .dataframe tbody tr th:only-of-type {\n",
       "        vertical-align: middle;\n",
       "    }\n",
       "\n",
       "    .dataframe tbody tr th {\n",
       "        vertical-align: top;\n",
       "    }\n",
       "\n",
       "    .dataframe thead th {\n",
       "        text-align: right;\n",
       "    }\n",
       "</style>\n",
       "<table border=\"1\" class=\"dataframe\">\n",
       "  <thead>\n",
       "    <tr style=\"text-align: right;\">\n",
       "      <th></th>\n",
       "      <th>type</th>\n",
       "      <th>text</th>\n",
       "    </tr>\n",
       "  </thead>\n",
       "  <tbody>\n",
       "    <tr>\n",
       "      <th>0</th>\n",
       "      <td>ham</td>\n",
       "      <td>Hope you are having a good week. Just checking in</td>\n",
       "    </tr>\n",
       "    <tr>\n",
       "      <th>1</th>\n",
       "      <td>ham</td>\n",
       "      <td>K..give back my thanks.</td>\n",
       "    </tr>\n",
       "    <tr>\n",
       "      <th>2</th>\n",
       "      <td>ham</td>\n",
       "      <td>Am also doing in cbe only. But have to pay.</td>\n",
       "    </tr>\n",
       "    <tr>\n",
       "      <th>3</th>\n",
       "      <td>spam</td>\n",
       "      <td>complimentary 4 STAR Ibiza Holiday or £10,000 ...</td>\n",
       "    </tr>\n",
       "    <tr>\n",
       "      <th>4</th>\n",
       "      <td>spam</td>\n",
       "      <td>okmail: Dear Dave this is your final notice to...</td>\n",
       "    </tr>\n",
       "  </tbody>\n",
       "</table>\n",
       "</div>"
      ],
      "text/plain": [
       "   type                                               text\n",
       "0   ham  Hope you are having a good week. Just checking in\n",
       "1   ham                            K..give back my thanks.\n",
       "2   ham        Am also doing in cbe only. But have to pay.\n",
       "3  spam  complimentary 4 STAR Ibiza Holiday or £10,000 ...\n",
       "4  spam  okmail: Dear Dave this is your final notice to..."
      ]
     },
     "execution_count": 2,
     "metadata": {},
     "output_type": "execute_result"
    }
   ],
   "source": [
    "# dataset de mensagens de email\n",
    "df = pd.read_csv('data/spam_ham.csv')\n",
    "\n",
    "df.head()\n"
   ]
  },
  {
   "cell_type": "code",
   "execution_count": 3,
   "id": "b6fe4ab1",
   "metadata": {
    "ExecuteTime": {
     "end_time": "2022-02-21T16:39:23.520801Z",
     "start_time": "2022-02-21T16:39:23.362204Z"
    }
   },
   "outputs": [
    {
     "data": {
      "text/html": [
       "<div>\n",
       "<style scoped>\n",
       "    .dataframe tbody tr th:only-of-type {\n",
       "        vertical-align: middle;\n",
       "    }\n",
       "\n",
       "    .dataframe tbody tr th {\n",
       "        vertical-align: top;\n",
       "    }\n",
       "\n",
       "    .dataframe thead th {\n",
       "        text-align: right;\n",
       "    }\n",
       "</style>\n",
       "<table border=\"1\" class=\"dataframe\">\n",
       "  <thead>\n",
       "    <tr style=\"text-align: right;\">\n",
       "      <th></th>\n",
       "      <th>type</th>\n",
       "      <th>text</th>\n",
       "      <th>text_clean</th>\n",
       "    </tr>\n",
       "  </thead>\n",
       "  <tbody>\n",
       "    <tr>\n",
       "      <th>0</th>\n",
       "      <td>ham</td>\n",
       "      <td>Hope you are having a good week. Just checking in</td>\n",
       "      <td>hope you are having a good week  just checking in</td>\n",
       "    </tr>\n",
       "    <tr>\n",
       "      <th>1</th>\n",
       "      <td>ham</td>\n",
       "      <td>K..give back my thanks.</td>\n",
       "      <td>k  give back my thanks</td>\n",
       "    </tr>\n",
       "    <tr>\n",
       "      <th>2</th>\n",
       "      <td>ham</td>\n",
       "      <td>Am also doing in cbe only. But have to pay.</td>\n",
       "      <td>am also doing in cbe only  but have to pay</td>\n",
       "    </tr>\n",
       "    <tr>\n",
       "      <th>3</th>\n",
       "      <td>spam</td>\n",
       "      <td>complimentary 4 STAR Ibiza Holiday or £10,000 ...</td>\n",
       "      <td>complimentary  star ibiza holiday or £  cash n...</td>\n",
       "    </tr>\n",
       "    <tr>\n",
       "      <th>4</th>\n",
       "      <td>spam</td>\n",
       "      <td>okmail: Dear Dave this is your final notice to...</td>\n",
       "      <td>okmail  dear dave this is your final notice to...</td>\n",
       "    </tr>\n",
       "  </tbody>\n",
       "</table>\n",
       "</div>"
      ],
      "text/plain": [
       "   type                                               text  \\\n",
       "0   ham  Hope you are having a good week. Just checking in   \n",
       "1   ham                            K..give back my thanks.   \n",
       "2   ham        Am also doing in cbe only. But have to pay.   \n",
       "3  spam  complimentary 4 STAR Ibiza Holiday or £10,000 ...   \n",
       "4  spam  okmail: Dear Dave this is your final notice to...   \n",
       "\n",
       "                                          text_clean  \n",
       "0  hope you are having a good week  just checking in  \n",
       "1                            k  give back my thanks   \n",
       "2        am also doing in cbe only  but have to pay   \n",
       "3  complimentary  star ibiza holiday or £  cash n...  \n",
       "4  okmail  dear dave this is your final notice to...  "
      ]
     },
     "execution_count": 3,
     "metadata": {},
     "output_type": "execute_result"
    }
   ],
   "source": [
    "# um pouco de preprocessamento\n",
    "\n",
    "def clean_text(df_input, column_to_clean):\n",
    "    \n",
    "    # converte para letras minusculas\n",
    "    df_input['text_clean'] = df_input[column_to_clean].str.lower()\n",
    "    \n",
    "    # remove pontução\n",
    "    remover = f\"[{string.punctuation}]\"\n",
    "    df_input['text_clean'] = df_input['text_clean'].str.replace(remover, ' ', regex=True)\n",
    "    \n",
    "    # remove numeros\n",
    "    numeros = f\"[1234567890]\"\n",
    "    df_input['text_clean'] = df_input['text_clean'].str.replace(numeros, '', regex=True)\n",
    "    \n",
    "    return df_input['text_clean']\n",
    "\n",
    "# criar coluna text clean\n",
    "df['text_clean'] = clean_text(df, 'text')\n",
    "\n",
    "df.head()"
   ]
  },
  {
   "cell_type": "code",
   "execution_count": 4,
   "id": "da9eef12",
   "metadata": {
    "ExecuteTime": {
     "end_time": "2022-02-21T16:43:54.258184Z",
     "start_time": "2022-02-21T16:43:54.244322Z"
    }
   },
   "outputs": [
    {
     "data": {
      "text/plain": [
       "(5559, 3)"
      ]
     },
     "execution_count": 4,
     "metadata": {},
     "output_type": "execute_result"
    }
   ],
   "source": [
    "df.shape"
   ]
  },
  {
   "cell_type": "markdown",
   "id": "8c96f304",
   "metadata": {},
   "source": [
    "### Divisão do dataset"
   ]
  },
  {
   "cell_type": "code",
   "execution_count": 5,
   "id": "82fa3b8d",
   "metadata": {
    "ExecuteTime": {
     "end_time": "2022-02-21T16:45:51.507715Z",
     "start_time": "2022-02-21T16:45:48.225657Z"
    }
   },
   "outputs": [],
   "source": [
    "from sklearn.feature_extraction.text import CountVectorizer \n",
    "from sklearn.model_selection import train_test_split\n",
    "\n",
    "def create_train_test_sets(df_input, semente):\n",
    "    X = df_input['text_clean'].copy()\n",
    "    y = df_input['type'].map({'ham':0, 'spam': 1})\n",
    "\n",
    "\n",
    "    X_treino_bruto, X_teste_bruto, y_treino_, y_teste_ = train_test_split(X, y, \n",
    "                                                                          test_size=0.3, \n",
    "                                                                          random_state=semente)\n",
    "    # preparação para a aula de NLP - exercicio do WordCount\n",
    "    bag_of_words = CountVectorizer(max_features=100)\n",
    "    bag_of_words.fit(X_treino_bruto)\n",
    "    \n",
    "    X_treino_ = bag_of_words.transform(X_treino_bruto)\n",
    "    X_teste_ = bag_of_words.transform(X_teste_bruto)\n",
    "    \n",
    "    return X_treino_, X_teste_, y_treino_, y_teste_\n",
    "\n",
    "# cria os datasets de treino e teste na prática\n",
    "X_treino, X_teste, y_treino, y_teste = create_train_test_sets(df, 13)"
   ]
  },
  {
   "cell_type": "code",
   "execution_count": 6,
   "id": "9c7bbef8",
   "metadata": {
    "ExecuteTime": {
     "end_time": "2022-02-21T16:45:54.568752Z",
     "start_time": "2022-02-21T16:45:54.540269Z"
    }
   },
   "outputs": [
    {
     "data": {
      "text/plain": [
       "1633    0\n",
       "426     0\n",
       "1830    0\n",
       "5333    0\n",
       "4307    0\n",
       "       ..\n",
       "153     0\n",
       "866     0\n",
       "2790    1\n",
       "74      0\n",
       "338     0\n",
       "Name: type, Length: 3891, dtype: int64"
      ]
     },
     "execution_count": 6,
     "metadata": {},
     "output_type": "execute_result"
    }
   ],
   "source": [
    "y_treino"
   ]
  },
  {
   "cell_type": "code",
   "execution_count": 7,
   "id": "923e607b",
   "metadata": {
    "ExecuteTime": {
     "end_time": "2022-02-21T16:47:49.701625Z",
     "start_time": "2022-02-21T16:47:49.689791Z"
    }
   },
   "outputs": [
    {
     "data": {
      "text/plain": [
       "1010    0\n",
       "3377    0\n",
       "572     0\n",
       "2768    0\n",
       "2043    0\n",
       "       ..\n",
       "5466    0\n",
       "3809    0\n",
       "3286    0\n",
       "5321    1\n",
       "2063    1\n",
       "Name: type, Length: 1668, dtype: int64"
      ]
     },
     "execution_count": 7,
     "metadata": {},
     "output_type": "execute_result"
    }
   ],
   "source": [
    "y_teste"
   ]
  },
  {
   "cell_type": "code",
   "execution_count": 12,
   "id": "b6c2614b",
   "metadata": {
    "ExecuteTime": {
     "end_time": "2022-02-21T16:49:15.380369Z",
     "start_time": "2022-02-21T16:49:15.367763Z"
    }
   },
   "outputs": [
    {
     "data": {
      "text/plain": [
       "matrix([[0, 0, 0, ..., 0, 0, 0],\n",
       "        [0, 0, 0, ..., 0, 0, 0],\n",
       "        [1, 0, 1, ..., 0, 2, 0],\n",
       "        ...,\n",
       "        [0, 0, 0, ..., 0, 0, 0],\n",
       "        [0, 0, 0, ..., 0, 1, 0],\n",
       "        [0, 0, 0, ..., 0, 0, 2]], dtype=int64)"
      ]
     },
     "execution_count": 12,
     "metadata": {},
     "output_type": "execute_result"
    }
   ],
   "source": [
    "X_treino.todense()"
   ]
  },
  {
   "cell_type": "code",
   "execution_count": 13,
   "id": "370d1dbc",
   "metadata": {
    "ExecuteTime": {
     "end_time": "2022-02-21T16:50:44.152938Z",
     "start_time": "2022-02-21T16:50:44.145085Z"
    }
   },
   "outputs": [
    {
     "data": {
      "text/plain": [
       "'sir  i have been late in paying rent for the past few months and had to pay a      charge  i felt it would be inconsiderate of me to nag about something you give at great cost to yourself and that s why i didnt speak up  i however am in a recession and wont be able to pay the charge this month hence my askin well ahead of month s end  can you please help  thanks'"
      ]
     },
     "execution_count": 13,
     "metadata": {},
     "output_type": "execute_result"
    }
   ],
   "source": [
    "df.loc[1830, 'text_clean']"
   ]
  },
  {
   "cell_type": "markdown",
   "id": "6d941d94",
   "metadata": {},
   "source": [
    "### Função para avaliar o modelo"
   ]
  },
  {
   "cell_type": "code",
   "execution_count": 20,
   "id": "478629b4",
   "metadata": {
    "ExecuteTime": {
     "end_time": "2022-02-21T17:18:07.357580Z",
     "start_time": "2022-02-21T17:18:06.838470Z"
    }
   },
   "outputs": [
    {
     "data": {
      "text/plain": [
       "DecisionTreeClassifier(random_state=2)"
      ]
     },
     "execution_count": 20,
     "metadata": {},
     "output_type": "execute_result"
    }
   ],
   "source": [
    "from sklearn.tree import DecisionTreeClassifier\n",
    "from sklearn.metrics import roc_auc_score, roc_curve\n",
    "\n",
    "tree_model = DecisionTreeClassifier(random_state=2)\n",
    "\n",
    "X_treino, X_teste, y_treino, y_teste = create_train_test_sets(df, 13)\n",
    "\n",
    "tree_model.fit(X_treino, y_treino)"
   ]
  },
  {
   "cell_type": "code",
   "execution_count": 22,
   "id": "88afc320",
   "metadata": {
    "ExecuteTime": {
     "end_time": "2022-02-21T17:22:59.239493Z",
     "start_time": "2022-02-21T17:22:59.227925Z"
    }
   },
   "outputs": [
    {
     "data": {
      "text/plain": [
       "array([[1., 0.],\n",
       "       [1., 0.],\n",
       "       [1., 0.],\n",
       "       ...,\n",
       "       [1., 0.],\n",
       "       [0., 1.],\n",
       "       [0., 1.]])"
      ]
     },
     "execution_count": 22,
     "metadata": {},
     "output_type": "execute_result"
    }
   ],
   "source": [
    "y_pred = tree_model.predict_proba(X_teste)\n",
    "y_pred"
   ]
  },
  {
   "cell_type": "code",
   "execution_count": 27,
   "id": "a36cc69f",
   "metadata": {
    "ExecuteTime": {
     "end_time": "2022-02-21T17:24:11.234124Z",
     "start_time": "2022-02-21T17:24:11.225334Z"
    }
   },
   "outputs": [
    {
     "data": {
      "text/plain": [
       "array([0., 0., 0., ..., 0., 1., 1.])"
      ]
     },
     "execution_count": 27,
     "metadata": {},
     "output_type": "execute_result"
    }
   ],
   "source": [
    "y_pred[0:,1]"
   ]
  },
  {
   "cell_type": "code",
   "execution_count": 28,
   "id": "ee8081b1",
   "metadata": {
    "ExecuteTime": {
     "end_time": "2022-02-21T17:24:20.619347Z",
     "start_time": "2022-02-21T17:24:20.605682Z"
    }
   },
   "outputs": [
    {
     "data": {
      "text/plain": [
       "0.8966712898751733"
      ]
     },
     "execution_count": 28,
     "metadata": {},
     "output_type": "execute_result"
    }
   ],
   "source": [
    "roc_auc_score(y_teste, y_pred[0:,1])"
   ]
  },
  {
   "cell_type": "code",
   "execution_count": 21,
   "id": "4a2a9313",
   "metadata": {
    "ExecuteTime": {
     "end_time": "2022-02-21T17:18:40.541974Z",
     "start_time": "2022-02-21T17:18:40.525705Z"
    }
   },
   "outputs": [
    {
     "data": {
      "text/plain": [
       "(array([0.        , 0.03883495, 1.        ]),\n",
       " array([0.        , 0.82743363, 1.        ]),\n",
       " array([2, 1, 0], dtype=int64))"
      ]
     },
     "execution_count": 21,
     "metadata": {},
     "output_type": "execute_result"
    }
   ],
   "source": [
    "roc_curve(y_teste, y_pred)"
   ]
  },
  {
   "cell_type": "code",
   "execution_count": null,
   "id": "6442df43",
   "metadata": {},
   "outputs": [],
   "source": []
  },
  {
   "cell_type": "code",
   "execution_count": 55,
   "id": "a5d99236",
   "metadata": {
    "ExecuteTime": {
     "end_time": "2022-02-21T17:44:41.918754Z",
     "start_time": "2022-02-21T17:44:41.911920Z"
    }
   },
   "outputs": [],
   "source": [
    "# encapsuland tudo na função!\n",
    "def evaluate_model(df_input, modelo, scoring_function, semente):\n",
    "    \n",
    "    X_treino_, X_teste_, y_treino_, y_teste_ = create_train_test_sets(df_input, semente)\n",
    "    \n",
    "    modelo.fit(X_treino_, y_treino_)\n",
    "    \n",
    "    y_pred = modelo.predict_proba(X_teste_)\n",
    "    \n",
    "    score = scoring_function(y_teste_, y_pred[:,1])\n",
    "    \n",
    "    return score\n",
    "    "
   ]
  },
  {
   "cell_type": "code",
   "execution_count": 56,
   "id": "4be85ed4",
   "metadata": {
    "ExecuteTime": {
     "end_time": "2022-02-21T17:44:42.805614Z",
     "start_time": "2022-02-21T17:44:42.323423Z"
    }
   },
   "outputs": [
    {
     "data": {
      "text/plain": [
       "0.8966712898751733"
      ]
     },
     "execution_count": 56,
     "metadata": {},
     "output_type": "execute_result"
    }
   ],
   "source": [
    "evaluate_model(df, tree_model, roc_auc_score, semente=13)"
   ]
  },
  {
   "cell_type": "markdown",
   "id": "21eaf87f",
   "metadata": {},
   "source": [
    "### O que acontece quando mudamos os dados de treino?"
   ]
  },
  {
   "cell_type": "code",
   "execution_count": 35,
   "id": "50df3fa4",
   "metadata": {
    "ExecuteTime": {
     "end_time": "2022-02-21T17:29:23.484919Z",
     "start_time": "2022-02-21T17:29:23.050399Z"
    }
   },
   "outputs": [
    {
     "data": {
      "text/plain": [
       "0.9024712303333919"
      ]
     },
     "execution_count": 35,
     "metadata": {},
     "output_type": "execute_result"
    }
   ],
   "source": [
    "evaluate_model(df, tree_model, roc_auc_score, semente=81)"
   ]
  },
  {
   "cell_type": "code",
   "execution_count": 57,
   "id": "5b782c0f",
   "metadata": {
    "ExecuteTime": {
     "end_time": "2022-02-21T17:45:13.788151Z",
     "start_time": "2022-02-21T17:45:13.506709Z"
    }
   },
   "outputs": [
    {
     "data": {
      "text/plain": [
       "0.8927344809109568"
      ]
     },
     "execution_count": 57,
     "metadata": {},
     "output_type": "execute_result"
    }
   ],
   "source": [
    "evaluate_model(df, tree_model, roc_auc_score, semente=1)"
   ]
  },
  {
   "cell_type": "code",
   "execution_count": 37,
   "id": "9a39ef70",
   "metadata": {
    "ExecuteTime": {
     "end_time": "2022-02-21T17:30:33.473970Z",
     "start_time": "2022-02-21T17:30:33.460718Z"
    }
   },
   "outputs": [
    {
     "data": {
      "text/plain": [
       "[0, 1, 2, 3, 4, 5, 6, 7, 8, 9, 10, 11, 12, 13, 14, 15, 16, 17, 18, 19, 20]"
      ]
     },
     "execution_count": 37,
     "metadata": {},
     "output_type": "execute_result"
    }
   ],
   "source": [
    "sementes = list(range(0,21))\n",
    "sementes"
   ]
  },
  {
   "cell_type": "code",
   "execution_count": 58,
   "id": "93419f3c",
   "metadata": {
    "ExecuteTime": {
     "end_time": "2022-02-21T17:45:31.528543Z",
     "start_time": "2022-02-21T17:45:25.896996Z"
    }
   },
   "outputs": [
    {
     "data": {
      "text/plain": [
       "[0.9074436810243223,\n",
       " 0.8927344809109568,\n",
       " 0.8813116216683711,\n",
       " 0.8954288323165107,\n",
       " 0.8736636635718588,\n",
       " 0.9032948924027762,\n",
       " 0.909859062170706,\n",
       " 0.9104271727155647,\n",
       " 0.880179398148148,\n",
       " 0.8856000027014979,\n",
       " 0.8892384692384693,\n",
       " 0.9009227069393045,\n",
       " 0.909213193236464,\n",
       " 0.8966712898751733,\n",
       " 0.9058040982727176,\n",
       " 0.8807820812002514,\n",
       " 0.8839162049861496,\n",
       " 0.8890970758693361,\n",
       " 0.8869013840882952,\n",
       " 0.867761968021255,\n",
       " 0.8800173264953196]"
      ]
     },
     "execution_count": 58,
     "metadata": {},
     "output_type": "execute_result"
    }
   ],
   "source": [
    "scores = []\n",
    "\n",
    "for semente_ in sementes:\n",
    "    score = evaluate_model(df, tree_model,  roc_auc_score, semente=semente_)\n",
    "    scores.append(score)\n",
    "        \n",
    "scores"
   ]
  },
  {
   "cell_type": "code",
   "execution_count": 59,
   "id": "5bca8c7e",
   "metadata": {
    "ExecuteTime": {
     "end_time": "2022-02-21T17:45:32.892352Z",
     "start_time": "2022-02-21T17:45:32.630436Z"
    }
   },
   "outputs": [
    {
     "name": "stderr",
     "output_type": "stream",
     "text": [
      "C:\\Users\\lcode\\anaconda3\\lib\\site-packages\\seaborn\\_decorators.py:36: FutureWarning: Pass the following variables as keyword args: x, y. From version 0.12, the only valid positional argument will be `data`, and passing other arguments without an explicit keyword will result in an error or misinterpretation.\n",
      "  warnings.warn(\n"
     ]
    },
    {
     "data": {
      "text/plain": [
       "<AxesSubplot:>"
      ]
     },
     "execution_count": 59,
     "metadata": {},
     "output_type": "execute_result"
    },
    {
     "data": {
      "image/png": "[encoded data removed]",
      "text/plain": [
       "<Figure size 432x288 with 1 Axes>"
      ]
     },
     "metadata": {
      "needs_background": "light"
     },
     "output_type": "display_data"
    }
   ],
   "source": [
    "sns.lineplot(sementes, scores)"
   ]
  },
  {
   "cell_type": "code",
   "execution_count": 60,
   "id": "5a65481b",
   "metadata": {
    "ExecuteTime": {
     "end_time": "2022-02-21T17:45:36.141300Z",
     "start_time": "2022-02-21T17:45:35.815037Z"
    }
   },
   "outputs": [
    {
     "data": {
      "text/plain": [
       "<AxesSubplot:ylabel='Count'>"
      ]
     },
     "execution_count": 60,
     "metadata": {},
     "output_type": "execute_result"
    },
    {
     "data": {
      "image/png": "[encoded data removed]",
      "text/plain": [
       "<Figure size 432x288 with 1 Axes>"
      ]
     },
     "metadata": {
      "needs_background": "light"
     },
     "output_type": "display_data"
    }
   ],
   "source": [
    "sns.histplot(scores)"
   ]
  },
  {
   "cell_type": "markdown",
   "id": "3c4c82bb",
   "metadata": {},
   "source": [
    "**Para pensar:** Só mudamos quais emails estão usando para treinar e a performance está instável!"
   ]
  },
  {
   "cell_type": "markdown",
   "id": "01ef2e4d",
   "metadata": {},
   "source": [
    "### Enfim, as instabilidade!"
   ]
  },
  {
   "cell_type": "code",
   "execution_count": 62,
   "id": "54a24a9f",
   "metadata": {
    "ExecuteTime": {
     "end_time": "2022-02-21T17:46:05.487574Z",
     "start_time": "2022-02-21T17:46:05.478421Z"
    }
   },
   "outputs": [],
   "source": [
    "# função que sumariza os passos acima\n",
    "\n",
    "def plot_scores(quantidade, modelo_eval, score_eval):\n",
    "    sementes = [i for i in range(quantidade)]\n",
    "    scores = [evaluate_model(df, modelo=modelo_eval, scoring_function=score_eval, semente=j) for j in sementes]\n",
    "    \n",
    "    sns.lineplot(x=sementes, y=scores)\n",
    "    print(f\"média: {np.mean(scores)}, desvio padrão: {np.std(scores)}\")"
   ]
  },
  {
   "cell_type": "code",
   "execution_count": 63,
   "id": "3b7ab4ef",
   "metadata": {
    "ExecuteTime": {
     "end_time": "2022-02-21T17:46:09.861433Z",
     "start_time": "2022-02-21T17:46:06.066586Z"
    }
   },
   "outputs": [
    {
     "name": "stdout",
     "output_type": "stream",
     "text": [
      "média: 0.8961195043461896, desvio padrão: 0.011574075616600933\n"
     ]
    },
    {
     "data": {
      "image/png": "[encoded data removed]",
      "text/plain": [
       "<Figure size 432x288 with 1 Axes>"
      ]
     },
     "metadata": {
      "needs_background": "light"
     },
     "output_type": "display_data"
    }
   ],
   "source": [
    "plot_scores(quantidade=15, modelo_eval=tree_model, score_eval=roc_auc_score)"
   ]
  },
  {
   "cell_type": "code",
   "execution_count": null,
   "id": "a64c19cf",
   "metadata": {},
   "outputs": [],
   "source": []
  },
  {
   "cell_type": "markdown",
   "id": "b807b0ff",
   "metadata": {},
   "source": [
    "# Bagging\n",
    "Um meio de evitar a instabilidade é treinar diversos modelos **em paralelo** com **amostras** dos dados (técnia de **bootstrapping**) e combinar a decisão de todos eles no final. No caso de *regressão* fazemos a **média** dos resultados e para *classificação*, uma **votação**.\n",
    "\n",
    "* Bootstrapping: Amostragem dos dados com reposição\n",
    "* Modelos em paralelo: um modelo é idependente do outro\n",
    "* Weak learner: Conjunto de amostra de dados + instancia do modelo\n",
    "\n",
    "\n",
    "<img src=\"images/bagging_sketch.png\">"
   ]
  },
  {
   "cell_type": "code",
   "execution_count": 67,
   "id": "a38334f5",
   "metadata": {
    "ExecuteTime": {
     "end_time": "2022-02-21T18:05:51.971579Z",
     "start_time": "2022-02-21T18:05:51.789978Z"
    }
   },
   "outputs": [
    {
     "data": {
      "text/plain": [
       "BaggingClassifier(base_estimator=DecisionTreeClassifier(random_state=2),\n",
       "                  max_features=0.6, max_samples=0.2, random_state=42)"
      ]
     },
     "execution_count": 67,
     "metadata": {},
     "output_type": "execute_result"
    }
   ],
   "source": [
    "# implementação do BaggingClassifier no sklearn\n",
    "from sklearn.ensemble import BaggingClassifier, BaggingRegressor\n",
    "\n",
    "X_treino, X_teste, y_treino, y_teste = create_train_test_sets(df, 13)\n",
    "\n",
    "tree_model = DecisionTreeClassifier(random_state=2)\n",
    "\n",
    "bc_trees = BaggingClassifier(base_estimator=tree_model, \n",
    "                       n_estimators=10, max_samples=0.2, \n",
    "                       max_features=0.6, random_state=42)\n",
    "\n",
    "\n",
    "bc_trees.fit(X_treino, y_treino)"
   ]
  },
  {
   "cell_type": "code",
   "execution_count": 68,
   "id": "8130da75",
   "metadata": {
    "ExecuteTime": {
     "end_time": "2022-02-21T18:06:42.946522Z",
     "start_time": "2022-02-21T18:06:42.925219Z"
    }
   },
   "outputs": [
    {
     "data": {
      "text/plain": [
       "array([[0.99622642, 0.00377358],\n",
       "       [0.97090847, 0.02909153],\n",
       "       [0.8       , 0.2       ],\n",
       "       ...,\n",
       "       [0.9       , 0.1       ],\n",
       "       [0.1       , 0.9       ],\n",
       "       [0.1       , 0.9       ]])"
      ]
     },
     "execution_count": 68,
     "metadata": {},
     "output_type": "execute_result"
    }
   ],
   "source": [
    "y_pred = bc_trees.predict_proba(X_teste)\n",
    "y_pred"
   ]
  },
  {
   "cell_type": "code",
   "execution_count": 69,
   "id": "2424e66a",
   "metadata": {
    "ExecuteTime": {
     "end_time": "2022-02-21T18:07:15.405176Z",
     "start_time": "2022-02-21T18:07:15.397804Z"
    }
   },
   "outputs": [
    {
     "data": {
      "text/plain": [
       "0.9598793465319799"
      ]
     },
     "execution_count": 69,
     "metadata": {},
     "output_type": "execute_result"
    }
   ],
   "source": [
    "# será que é mais estável?\n",
    "roc_auc_score(y_teste, y_pred[:,1])"
   ]
  },
  {
   "cell_type": "code",
   "execution_count": 70,
   "id": "28864e2a",
   "metadata": {
    "ExecuteTime": {
     "end_time": "2022-02-21T18:08:54.027793Z",
     "start_time": "2022-02-21T18:08:50.235386Z"
    }
   },
   "outputs": [
    {
     "name": "stdout",
     "output_type": "stream",
     "text": [
      "média: 0.9584297317110896, desvio padrão: 0.007663058103664294\n"
     ]
    },
    {
     "data": {
      "image/png": "[encoded data removed]",
      "text/plain": [
       "<Figure size 432x288 with 1 Axes>"
      ]
     },
     "metadata": {
      "needs_background": "light"
     },
     "output_type": "display_data"
    }
   ],
   "source": [
    "plot_scores(quantidade=15, modelo_eval=bc_trees, score_eval=roc_auc_score)"
   ]
  },
  {
   "cell_type": "code",
   "execution_count": null,
   "id": "e753f5a5",
   "metadata": {
    "ExecuteTime": {
     "end_time": "2021-09-01T14:36:23.040114Z",
     "start_time": "2021-09-01T14:36:17.712289Z"
    }
   },
   "outputs": [],
   "source": []
  },
  {
   "cell_type": "markdown",
   "id": "918850b8",
   "metadata": {},
   "source": [
    "**Para pensar:** Qual o custo da estabilidade trazida pelo bagging?"
   ]
  },
  {
   "cell_type": "markdown",
   "id": "149d7fb5",
   "metadata": {
    "ExecuteTime": {
     "end_time": "2021-08-31T13:09:36.883250Z",
     "start_time": "2021-08-31T13:09:36.871655Z"
    }
   },
   "source": [
    "> Tempo de processamento."
   ]
  },
  {
   "cell_type": "code",
   "execution_count": 71,
   "id": "4c934119",
   "metadata": {
    "ExecuteTime": {
     "end_time": "2022-02-21T18:19:22.737337Z",
     "start_time": "2022-02-21T18:19:17.285086Z"
    }
   },
   "outputs": [
    {
     "name": "stdout",
     "output_type": "stream",
     "text": [
      "67 ms ± 5.61 ms per loop (mean ± std. dev. of 7 runs, 10 loops each)\n"
     ]
    }
   ],
   "source": [
    "%%timeit\n",
    "# verificar o tempo de forma ordenada\n",
    "tree_model = DecisionTreeClassifier(random_state=2)\n",
    "\n",
    "bc_trees = BaggingClassifier(base_estimator=tree_model, \n",
    "                       n_estimators=10, max_samples=0.2, \n",
    "                       max_features=0.6, random_state=42)\n",
    "\n",
    "\n",
    "bc_trees.fit(X_treino, y_treino)"
   ]
  },
  {
   "cell_type": "code",
   "execution_count": 73,
   "id": "cce1743c",
   "metadata": {
    "ExecuteTime": {
     "end_time": "2022-02-21T18:19:52.798743Z",
     "start_time": "2022-02-21T18:19:50.219040Z"
    }
   },
   "outputs": [
    {
     "name": "stdout",
     "output_type": "stream",
     "text": [
      "32 ms ± 1.43 ms per loop (mean ± std. dev. of 7 runs, 10 loops each)\n"
     ]
    }
   ],
   "source": [
    "%%timeit\n",
    "tree_model = DecisionTreeClassifier(random_state=2)\n",
    "\n",
    "tree_model.fit(X_treino, y_treino)"
   ]
  },
  {
   "cell_type": "code",
   "execution_count": null,
   "id": "19482142",
   "metadata": {},
   "outputs": [],
   "source": []
  },
  {
   "cell_type": "markdown",
   "id": "b6f4a9c9",
   "metadata": {},
   "source": [
    "## Qualquer algoritimo"
   ]
  },
  {
   "cell_type": "code",
   "execution_count": 74,
   "id": "3cf2b0c4",
   "metadata": {
    "ExecuteTime": {
     "end_time": "2022-02-21T18:22:54.504380Z",
     "start_time": "2022-02-21T18:22:54.010800Z"
    }
   },
   "outputs": [
    {
     "data": {
      "text/plain": [
       "array([[0.96850251, 0.03149749],\n",
       "       [0.96338391, 0.03661609],\n",
       "       [0.84077821, 0.15922179],\n",
       "       ...,\n",
       "       [0.97573427, 0.02426573],\n",
       "       [0.57977674, 0.42022326],\n",
       "       [0.26225824, 0.73774176]])"
      ]
     },
     "execution_count": 74,
     "metadata": {},
     "output_type": "execute_result"
    }
   ],
   "source": [
    "from sklearn.linear_model import LogisticRegression\n",
    "\n",
    "X_treino, X_teste, y_treino, y_teste = create_train_test_sets(df, 13)\n",
    "\n",
    "log_model = LogisticRegression()\n",
    "\n",
    "bc_trees = BaggingClassifier(base_estimator=log_model, \n",
    "                       n_estimators=10, max_samples=0.2, \n",
    "                       max_features=0.6, random_state=42)\n",
    "\n",
    "\n",
    "bc_trees.fit(X_treino, y_treino)\n",
    "\n",
    "y_pred = bc_trees.predict_proba(X_teste)\n",
    "\n",
    "y_pred"
   ]
  },
  {
   "cell_type": "code",
   "execution_count": 75,
   "id": "0b411240",
   "metadata": {
    "ExecuteTime": {
     "end_time": "2022-02-21T18:23:17.243961Z",
     "start_time": "2022-02-21T18:23:14.233287Z"
    }
   },
   "outputs": [
    {
     "name": "stdout",
     "output_type": "stream",
     "text": [
      "média: 0.9675669201145948, desvio padrão: 0.005713056799854984\n"
     ]
    },
    {
     "data": {
      "image/png": "[encoded data removed]",
      "text/plain": [
       "<Figure size 432x288 with 1 Axes>"
      ]
     },
     "metadata": {
      "needs_background": "light"
     },
     "output_type": "display_data"
    }
   ],
   "source": [
    "plot_scores(quantidade=15, modelo_eval=log_model, score_eval=roc_auc_score)"
   ]
  },
  {
   "cell_type": "code",
   "execution_count": null,
   "id": "76afa637",
   "metadata": {},
   "outputs": [],
   "source": []
  },
  {
   "cell_type": "markdown",
   "id": "0bd48035",
   "metadata": {},
   "source": [
    "## Bagging of trees: **Random Forest**\n",
    "\n",
    "Aplica a técnica de bootstrapping para criar diversas árvores!\n",
    "\n",
    "- cada árvore é um weak learned! \n",
    "\n",
    "<img src=\"images/random_forest.png\">"
   ]
  },
  {
   "cell_type": "code",
   "execution_count": 78,
   "id": "c2af0fb8",
   "metadata": {
    "ExecuteTime": {
     "end_time": "2022-02-21T18:27:56.099975Z",
     "start_time": "2022-02-21T18:27:55.238380Z"
    }
   },
   "outputs": [
    {
     "data": {
      "text/plain": [
       "0.978268874351012"
      ]
     },
     "execution_count": 78,
     "metadata": {},
     "output_type": "execute_result"
    }
   ],
   "source": [
    "# implementação do random forest no sklearn\n",
    "from sklearn.ensemble import RandomForestClassifier\n",
    "\n",
    "X_treino, X_teste, y_treino, y_teste = create_train_test_sets(df, 13)\n",
    "\n",
    "rfc = RandomForestClassifier(random_state=10)\n",
    "\n",
    "rfc.fit(X_treino, y_treino)\n",
    "\n",
    "y_pred = rfc.predict_proba(X_teste)\n",
    "\n",
    "roc_auc_score(y_teste, y_pred[:,1])"
   ]
  },
  {
   "cell_type": "code",
   "execution_count": 79,
   "id": "b93d205b",
   "metadata": {
    "ExecuteTime": {
     "end_time": "2022-02-21T18:28:32.401644Z",
     "start_time": "2022-02-21T18:28:18.719510Z"
    }
   },
   "outputs": [
    {
     "name": "stdout",
     "output_type": "stream",
     "text": [
      "média: 0.974717156480829, desvio padrão: 0.0059106998195250955\n"
     ]
    },
    {
     "data": {
      "image/png": "[encoded data removed]",
      "text/plain": [
       "<Figure size 432x288 with 1 Axes>"
      ]
     },
     "metadata": {
      "needs_background": "light"
     },
     "output_type": "display_data"
    }
   ],
   "source": [
    "plot_scores(quantidade=15, modelo_eval=rfc, score_eval=roc_auc_score)"
   ]
  },
  {
   "cell_type": "markdown",
   "id": "7533b88c",
   "metadata": {},
   "source": [
    "A implementação do random forest é muito mais eficiente do que implementar um bagging de árvores na mão!"
   ]
  },
  {
   "cell_type": "code",
   "execution_count": 85,
   "id": "b0b42713",
   "metadata": {
    "ExecuteTime": {
     "end_time": "2022-02-21T18:31:27.398321Z",
     "start_time": "2022-02-21T18:31:25.531492Z"
    }
   },
   "outputs": [
    {
     "name": "stdout",
     "output_type": "stream",
     "text": [
      "229 ms ± 8.02 ms per loop (mean ± std. dev. of 7 runs, 1 loop each)\n"
     ]
    }
   ],
   "source": [
    "%%timeit\n",
    "rfc = RandomForestClassifier(random_state=10, max_depth=5)\n",
    "\n",
    "rfc.fit(X_treino, y_treino)"
   ]
  },
  {
   "cell_type": "code",
   "execution_count": 86,
   "id": "1edd8a4f",
   "metadata": {
    "ExecuteTime": {
     "end_time": "2022-02-21T18:31:30.235058Z",
     "start_time": "2022-02-21T18:31:27.400675Z"
    }
   },
   "outputs": [
    {
     "name": "stdout",
     "output_type": "stream",
     "text": [
      "351 ms ± 9.65 ms per loop (mean ± std. dev. of 7 runs, 1 loop each)\n"
     ]
    }
   ],
   "source": [
    "%%timeit\n",
    "tree_model = DecisionTreeClassifier(random_state=2, max_depth=5)\n",
    "\n",
    "bc_trees = BaggingClassifier(base_estimator=tree_model, \n",
    "                       n_estimators=100, max_samples=0.2, \n",
    "                       max_features=0.6, random_state=42)\n",
    "\n",
    "\n",
    "bc_trees.fit(X_treino, y_treino)"
   ]
  },
  {
   "cell_type": "code",
   "execution_count": null,
   "id": "3bdda94a",
   "metadata": {},
   "outputs": [],
   "source": []
  },
  {
   "cell_type": "markdown",
   "id": "689a39c7",
   "metadata": {},
   "source": [
    "# Boosting"
   ]
  },
  {
   "cell_type": "markdown",
   "id": "1ae0b47b",
   "metadata": {},
   "source": [
    "Ao contrário do bagging, o método de boosting treina diversos modelos **em sequência**. \n",
    "\n",
    "<img src=\"images/boosting.png\">\n",
    "\n"
   ]
  },
  {
   "cell_type": "markdown",
   "id": "c3b6d9f0",
   "metadata": {},
   "source": [
    "\n",
    "Essa técnica usa todos os dados e a cada iteração atribui diferentes pesos (importâncias) para os pontos que são classificados erroneamente (pode se tornar obcecado por outilers!). \n",
    "\n",
    "<img src=\"images/boosting1.jpeg\">"
   ]
  },
  {
   "cell_type": "markdown",
   "id": "fbb6a777",
   "metadata": {},
   "source": [
    "<img src=\"https://i.stack.imgur.com/mQ9Np.png\"/>"
   ]
  },
  {
   "cell_type": "code",
   "execution_count": null,
   "id": "443ec1ad",
   "metadata": {},
   "outputs": [],
   "source": []
  },
  {
   "cell_type": "markdown",
   "id": "bd5c99c8",
   "metadata": {},
   "source": [
    "## Entendo os pesos!"
   ]
  },
  {
   "cell_type": "code",
   "execution_count": null,
   "id": "08f993a1",
   "metadata": {
    "ExecuteTime": {
     "end_time": "2021-09-01T15:12:05.902032Z",
     "start_time": "2021-09-01T15:12:05.759511Z"
    }
   },
   "outputs": [],
   "source": [
    "err_m = np.sort(np.random.random(100))\n",
    "\n",
    "def a_m(x):\n",
    "    return np.log((1-x)/x)\n",
    "\n",
    "plt.plot(err_m, a_m(err_m))\n",
    "plt.xlabel('err_m')\n",
    "plt.ylabel('a_m')"
   ]
  },
  {
   "cell_type": "code",
   "execution_count": null,
   "id": "e5be4caf",
   "metadata": {},
   "outputs": [],
   "source": []
  },
  {
   "cell_type": "markdown",
   "id": "2c6cd33d",
   "metadata": {},
   "source": [
    "## Algoritimos de boosting"
   ]
  },
  {
   "cell_type": "markdown",
   "id": "aefa4502",
   "metadata": {},
   "source": [
    "### [AdaBoost](https://en.wikipedia.org/wiki/AdaBoost): Adaptative boosting"
   ]
  },
  {
   "cell_type": "code",
   "execution_count": null,
   "id": "5512783e",
   "metadata": {
    "ExecuteTime": {
     "end_time": "2021-09-01T15:19:04.780697Z",
     "start_time": "2021-09-01T15:19:04.431811Z"
    }
   },
   "outputs": [],
   "source": []
  },
  {
   "cell_type": "code",
   "execution_count": null,
   "id": "0cc81e1d",
   "metadata": {
    "ExecuteTime": {
     "end_time": "2021-09-01T15:19:50.962176Z",
     "start_time": "2021-09-01T15:19:44.324750Z"
    }
   },
   "outputs": [],
   "source": []
  },
  {
   "cell_type": "code",
   "execution_count": null,
   "id": "69267ab5",
   "metadata": {
    "ExecuteTime": {
     "end_time": "2021-09-01T15:20:48.344329Z",
     "start_time": "2021-09-01T15:20:42.535966Z"
    }
   },
   "outputs": [],
   "source": []
  },
  {
   "cell_type": "code",
   "execution_count": null,
   "id": "60e67512",
   "metadata": {},
   "outputs": [],
   "source": []
  },
  {
   "cell_type": "markdown",
   "id": "02b6db08",
   "metadata": {},
   "source": [
    "### [LightGBM](https://lightgbm.readthedocs.io/en/latest/Installation-Guide.html): Light Gradient Boosting Machine\n",
    "\n",
    "pip install lightgbm"
   ]
  },
  {
   "cell_type": "code",
   "execution_count": null,
   "id": "d5d43288",
   "metadata": {
    "ExecuteTime": {
     "end_time": "2021-09-01T15:29:07.667406Z",
     "start_time": "2021-09-01T15:29:06.900863Z"
    }
   },
   "outputs": [],
   "source": []
  },
  {
   "cell_type": "code",
   "execution_count": null,
   "id": "c307180e",
   "metadata": {
    "ExecuteTime": {
     "end_time": "2021-09-01T15:30:16.916350Z",
     "start_time": "2021-09-01T15:30:16.906351Z"
    }
   },
   "outputs": [],
   "source": []
  },
  {
   "cell_type": "code",
   "execution_count": null,
   "id": "6ac35335",
   "metadata": {
    "ExecuteTime": {
     "end_time": "2021-09-01T15:30:24.561294Z",
     "start_time": "2021-09-01T15:30:24.550295Z"
    }
   },
   "outputs": [],
   "source": []
  },
  {
   "cell_type": "code",
   "execution_count": null,
   "id": "6f77e13a",
   "metadata": {
    "ExecuteTime": {
     "end_time": "2021-09-01T15:30:38.739295Z",
     "start_time": "2021-09-01T15:30:38.606298Z"
    }
   },
   "outputs": [],
   "source": []
  },
  {
   "cell_type": "markdown",
   "id": "02e87fbc",
   "metadata": {},
   "source": [
    "### [Xgboost](https://xgboost.readthedocs.io/en/latest/): Extreme gradient boosting\n",
    "\n",
    "pip install xgboost"
   ]
  },
  {
   "cell_type": "code",
   "execution_count": null,
   "id": "9363738a",
   "metadata": {
    "ExecuteTime": {
     "end_time": "2021-09-01T15:34:36.144794Z",
     "start_time": "2021-09-01T15:34:35.166988Z"
    }
   },
   "outputs": [],
   "source": []
  },
  {
   "cell_type": "code",
   "execution_count": null,
   "id": "83c1dcf1",
   "metadata": {},
   "outputs": [],
   "source": []
  },
  {
   "cell_type": "markdown",
   "id": "3233eb9f",
   "metadata": {},
   "source": [
    "# Bonus: Stacking models - Para casa!\n",
    "\n",
    "Para expandir nosso horizonte, vamos estender as idéais acima para a combinação de diferentes modelos, técnica conhecida como [Stacking](https://scikit-learn.org/stable/modules/generated/sklearn.ensemble.StackingClassifier.html)."
   ]
  },
  {
   "cell_type": "code",
   "execution_count": null,
   "id": "f03147a2",
   "metadata": {
    "ExecuteTime": {
     "end_time": "2021-09-01T15:36:20.943696Z",
     "start_time": "2021-09-01T15:36:20.531411Z"
    }
   },
   "outputs": [],
   "source": []
  },
  {
   "cell_type": "code",
   "execution_count": null,
   "id": "b31b6107",
   "metadata": {},
   "outputs": [],
   "source": []
  }
 ],
 "metadata": {
  "kernelspec": {
   "display_name": "Python 3",
   "language": "python",
   "name": "python3"
  },
  "language_info": {
   "codemirror_mode": {
    "name": "ipython",
    "version": 3
   },
   "file_extension": ".py",
   "mimetype": "text/x-python",
   "name": "python",
   "nbconvert_exporter": "python",
   "pygments_lexer": "ipython3",
   "version": "3.8.8"
  },
  "toc": {
   "base_numbering": 1,
   "nav_menu": {},
   "number_sections": true,
   "sideBar": true,
   "skip_h1_title": false,
   "title_cell": "Table of Contents",
   "title_sidebar": "Contents",
   "toc_cell": false,
   "toc_position": {
    "height": "calc(100% - 180px)",
    "left": "10px",
    "top": "150px",
    "width": "236.875px"
   },
   "toc_section_display": true,
   "toc_window_display": true
  },
  "varInspector": {
   "cols": {
    "lenName": 16,
    "lenType": 16,
    "lenVar": 40
   },
   "kernels_config": {
    "python": {
     "delete_cmd_postfix": "",
     "delete_cmd_prefix": "del ",
     "library": "var_list.py",
     "varRefreshCmd": "print(var_dic_list())"
    },
    "r": {
     "delete_cmd_postfix": ") ",
     "delete_cmd_prefix": "rm(",
     "library": "var_list.r",
     "varRefreshCmd": "cat(var_dic_list()) "
    }
   },
   "types_to_exclude": [
    "module",
    "function",
    "builtin_function_or_method",
    "instance",
    "_Feature"
   ],
   "window_display": false
  }
 },
 "nbformat": 4,
 "nbformat_minor": 5
}
