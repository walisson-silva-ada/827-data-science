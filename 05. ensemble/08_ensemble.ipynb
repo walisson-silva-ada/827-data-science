{
 "cells": [
  {
   "cell_type": "markdown",
   "id": "a7870542",
   "metadata": {},
   "source": [
    "# Métodos de Ensemble\n"
   ]
  },
  {
   "cell_type": "markdown",
   "id": "d204c3e0",
   "metadata": {},
   "source": [
    "## Instabilidade"
   ]
  },
  {
   "cell_type": "markdown",
   "id": "65d10fe4",
   "metadata": {},
   "source": [
    "Vamos montar um modelo clássico para identificação de mensagens de spam. O modelo consiste em contar quantas vezes uma determinada palavra aparece na mensagem e classificá-la como spam ou não. **O foco da aula não é o modelo, mas estudar a estabilidade dele!**"
   ]
  },
  {
   "cell_type": "markdown",
   "id": "43a665e8",
   "metadata": {},
   "source": [
    "### Coleta e limpeza de dados"
   ]
  },
  {
   "cell_type": "code",
   "execution_count": null,
   "id": "5de60289",
   "metadata": {
    "ExecuteTime": {
     "end_time": "2021-08-31T15:18:01.327001Z",
     "start_time": "2021-08-31T15:18:00.309721Z"
    }
   },
   "outputs": [],
   "source": [
    "import pandas as pd\n",
    "import string\n",
    "import seaborn as sns\n",
    "import matplotlib.pyplot as plt\n",
    "import numpy as np"
   ]
  },
  {
   "cell_type": "code",
   "execution_count": null,
   "id": "a707ff5f",
   "metadata": {
    "ExecuteTime": {
     "end_time": "2021-08-31T15:18:02.951359Z",
     "start_time": "2021-08-31T15:18:02.920362Z"
    }
   },
   "outputs": [],
   "source": [
    "# dataset de mensagens de email\n",
    "df = pd.read_csv('data/spam_ham.csv')\n",
    "\n",
    "df.head()\n"
   ]
  },
  {
   "cell_type": "code",
   "execution_count": null,
   "id": "b6fe4ab1",
   "metadata": {
    "ExecuteTime": {
     "end_time": "2021-08-31T15:28:53.624025Z",
     "start_time": "2021-08-31T15:28:53.586015Z"
    }
   },
   "outputs": [],
   "source": [
    "# um pouco de preprocessamento\n",
    "\n",
    "def clean_text(df_input, column_to_clean):\n",
    "    \n",
    "    # converte para letras minusculas\n",
    "    df_input['text_clean'] = df_input[column_to_clean].str.lower()\n",
    "    \n",
    "    # remove pontução\n",
    "    remover = f\"[{string.punctuation}]\"\n",
    "    df_input['text_clean'] = df_input['text_clean'].str.replace(remover, ' ', regex=True)\n",
    "    \n",
    "    # remove numeros\n",
    "    numeros = f\"[1234567890]\"\n",
    "    df_input['text_clean'] = df_input['text_clean'].str.replace(numeros, '', regex=True)\n",
    "    \n",
    "    return df_input['text_clean']\n",
    "\n",
    "# criar coluna text clean\n",
    "df['text_clean'] = clean_text(df, 'text')\n",
    "\n",
    "df.head()"
   ]
  },
  {
   "cell_type": "code",
   "execution_count": null,
   "id": "da9eef12",
   "metadata": {},
   "outputs": [],
   "source": []
  },
  {
   "cell_type": "markdown",
   "id": "8c96f304",
   "metadata": {},
   "source": [
    "### Divisão do dataset"
   ]
  },
  {
   "cell_type": "code",
   "execution_count": null,
   "id": "82fa3b8d",
   "metadata": {
    "ExecuteTime": {
     "end_time": "2021-08-31T15:40:58.651220Z",
     "start_time": "2021-08-31T15:40:58.488090Z"
    }
   },
   "outputs": [],
   "source": [
    "from sklearn.feature_extraction.text import CountVectorizer \n",
    "from sklearn.model_selection import train_test_split\n",
    "\n",
    "def create_train_test_sets(df_input, semente):\n",
    "    X = df_input['text_clean'].copy()\n",
    "    y = df_input['type'].map({'ham':0, 'spam': 1})\n",
    "\n",
    "\n",
    "    X_treino_bruto, X_teste_bruto, y_treino_, y_teste_ = train_test_split(X, y, \n",
    "                                                                          test_size=0.3, \n",
    "                                                                          random_state=semente)\n",
    "    # preparação para a aula de NLP - exercicio do WordCount\n",
    "    bag_of_words = CountVectorizer(max_features=100)\n",
    "    bag_of_words.fit(X_treino_bruto)\n",
    "    \n",
    "    X_treino_ = bag_of_words.transform(X_treino_bruto)\n",
    "    X_teste_ = bag_of_words.transform(X_teste_bruto)\n",
    "    \n",
    "    return X_treino_, X_teste_, y_treino_, y_teste_\n",
    "\n",
    "# cria os datasets de treino e teste na prática\n",
    "X_treino, X_teste, y_treino, y_teste = create_train_test_sets(df, 13)"
   ]
  },
  {
   "cell_type": "code",
   "execution_count": null,
   "id": "9c7bbef8",
   "metadata": {
    "ExecuteTime": {
     "end_time": "2021-08-31T15:40:52.130369Z",
     "start_time": "2021-08-31T15:40:52.125371Z"
    }
   },
   "outputs": [],
   "source": [
    "y_treino"
   ]
  },
  {
   "cell_type": "code",
   "execution_count": null,
   "id": "923e607b",
   "metadata": {
    "ExecuteTime": {
     "end_time": "2021-08-31T15:29:04.377390Z",
     "start_time": "2021-08-31T15:29:04.357861Z"
    }
   },
   "outputs": [],
   "source": [
    "y_teste"
   ]
  },
  {
   "cell_type": "code",
   "execution_count": null,
   "id": "b6c2614b",
   "metadata": {
    "ExecuteTime": {
     "end_time": "2021-08-31T15:27:16.379917Z",
     "start_time": "2021-08-31T15:27:16.371403Z"
    }
   },
   "outputs": [],
   "source": [
    "X_treino.todense()"
   ]
  },
  {
   "cell_type": "code",
   "execution_count": null,
   "id": "370d1dbc",
   "metadata": {
    "ExecuteTime": {
     "end_time": "2021-08-31T15:30:28.016963Z",
     "start_time": "2021-08-31T15:30:28.006960Z"
    }
   },
   "outputs": [],
   "source": [
    "df.loc[1830, 'text_clean']"
   ]
  },
  {
   "cell_type": "markdown",
   "id": "6d941d94",
   "metadata": {},
   "source": [
    "### Função para avaliar o modelo"
   ]
  },
  {
   "cell_type": "code",
   "execution_count": null,
   "id": "478629b4",
   "metadata": {
    "ExecuteTime": {
     "end_time": "2021-08-31T15:43:48.335410Z",
     "start_time": "2021-08-31T15:43:48.159625Z"
    }
   },
   "outputs": [],
   "source": []
  },
  {
   "cell_type": "code",
   "execution_count": null,
   "id": "a5d99236",
   "metadata": {
    "ExecuteTime": {
     "end_time": "2021-08-31T15:35:14.881072Z",
     "start_time": "2021-08-31T15:35:14.873544Z"
    }
   },
   "outputs": [],
   "source": [
    "# encapsuland tudo na função!\n"
   ]
  },
  {
   "cell_type": "code",
   "execution_count": null,
   "id": "4be85ed4",
   "metadata": {
    "ExecuteTime": {
     "end_time": "2021-08-31T15:45:53.118705Z",
     "start_time": "2021-08-31T15:45:52.937475Z"
    }
   },
   "outputs": [],
   "source": [
    "evaluate_model(df, tree_model, roc_auc_score, semente=13)"
   ]
  },
  {
   "cell_type": "markdown",
   "id": "21eaf87f",
   "metadata": {},
   "source": [
    "### O que acontece quando mudamos os dados de treino?"
   ]
  },
  {
   "cell_type": "code",
   "execution_count": null,
   "id": "50df3fa4",
   "metadata": {
    "ExecuteTime": {
     "end_time": "2021-08-31T15:46:16.951336Z",
     "start_time": "2021-08-31T15:46:16.771661Z"
    }
   },
   "outputs": [],
   "source": []
  },
  {
   "cell_type": "code",
   "execution_count": null,
   "id": "5b782c0f",
   "metadata": {
    "ExecuteTime": {
     "end_time": "2021-08-31T15:47:15.391986Z",
     "start_time": "2021-08-31T15:47:15.214985Z"
    }
   },
   "outputs": [],
   "source": []
  },
  {
   "cell_type": "code",
   "execution_count": null,
   "id": "9a39ef70",
   "metadata": {
    "ExecuteTime": {
     "end_time": "2021-08-31T15:48:51.407441Z",
     "start_time": "2021-08-31T15:48:49.294268Z"
    }
   },
   "outputs": [],
   "source": []
  },
  {
   "cell_type": "code",
   "execution_count": null,
   "id": "5bca8c7e",
   "metadata": {
    "ExecuteTime": {
     "end_time": "2021-08-31T15:49:33.317945Z",
     "start_time": "2021-08-31T15:49:33.145881Z"
    }
   },
   "outputs": [],
   "source": []
  },
  {
   "cell_type": "code",
   "execution_count": null,
   "id": "5a65481b",
   "metadata": {},
   "outputs": [],
   "source": []
  },
  {
   "cell_type": "markdown",
   "id": "3c4c82bb",
   "metadata": {},
   "source": [
    "**Para pensar:** Só mudamos quais emails estão usando para treinar e a performance está instável!"
   ]
  },
  {
   "cell_type": "markdown",
   "id": "01ef2e4d",
   "metadata": {},
   "source": [
    "### Enfim, as instabilidade!"
   ]
  },
  {
   "cell_type": "code",
   "execution_count": null,
   "id": "54a24a9f",
   "metadata": {
    "ExecuteTime": {
     "end_time": "2021-08-31T15:56:03.030150Z",
     "start_time": "2021-08-31T15:56:03.025149Z"
    }
   },
   "outputs": [],
   "source": [
    "# função que sumariza os passos acima\n",
    "\n",
    "def plot_scores(quantidade, modelo_eval, score_eval):\n",
    "    sementes = [i for i in range(quantidade)]\n",
    "    scores = [evaluate_model(df, modelo=modelo_eval, scoring_function=score_eval, semente=j) for j in sementes]\n",
    "    \n",
    "    sns.lineplot(x=sementes, y=scores)\n",
    "    print(f\"média: {np.mean(scores)}, desvio padrão: {np.std(scores)}\")"
   ]
  },
  {
   "cell_type": "code",
   "execution_count": null,
   "id": "3b7ab4ef",
   "metadata": {
    "ExecuteTime": {
     "end_time": "2021-08-31T15:57:03.226977Z",
     "start_time": "2021-08-31T15:57:00.832962Z"
    }
   },
   "outputs": [],
   "source": [
    "plot_scores(quantidade=15, modelo_eval=tree_model, score_eval=roc_auc_score)"
   ]
  },
  {
   "cell_type": "code",
   "execution_count": null,
   "id": "a64c19cf",
   "metadata": {},
   "outputs": [],
   "source": []
  },
  {
   "cell_type": "markdown",
   "id": "b807b0ff",
   "metadata": {},
   "source": [
    "# Bagging\n",
    "Um meio de evitar a instabilidade é treinar diversos modelos **em paralelo** com **amostras** dos dados (técnia de **bootstrapping**) e combinar a decisão de todos eles no final. No caso de *regressão* fazemos a **média** dos resultados e para *classificação*, uma **votação**.\n",
    "\n",
    "* Bootstrapping: Amostragem dos dados com reposição\n",
    "* Modelos em paralelo: um modelo é idependente do outro\n",
    "* Weak learner: Conjunto de amostra de dados + instancia do modelo\n",
    "\n",
    "\n",
    "<img src=\"images/bagging_sketch.png\">"
   ]
  },
  {
   "cell_type": "code",
   "execution_count": null,
   "id": "a38334f5",
   "metadata": {
    "ExecuteTime": {
     "end_time": "2021-09-01T14:28:04.876830Z",
     "start_time": "2021-09-01T14:28:04.560032Z"
    }
   },
   "outputs": [],
   "source": [
    "# implementação do BaggingClassifier no sklearn\n"
   ]
  },
  {
   "cell_type": "code",
   "execution_count": null,
   "id": "2424e66a",
   "metadata": {
    "ExecuteTime": {
     "end_time": "2021-09-01T14:29:26.745841Z",
     "start_time": "2021-09-01T14:29:21.189149Z"
    }
   },
   "outputs": [],
   "source": [
    "# será que é mais estável?\n"
   ]
  },
  {
   "cell_type": "code",
   "execution_count": null,
   "id": "28864e2a",
   "metadata": {
    "ExecuteTime": {
     "end_time": "2021-09-01T14:31:26.710903Z",
     "start_time": "2021-09-01T14:31:22.020852Z"
    }
   },
   "outputs": [],
   "source": []
  },
  {
   "cell_type": "code",
   "execution_count": null,
   "id": "e753f5a5",
   "metadata": {
    "ExecuteTime": {
     "end_time": "2021-09-01T14:36:23.040114Z",
     "start_time": "2021-09-01T14:36:17.712289Z"
    }
   },
   "outputs": [],
   "source": []
  },
  {
   "cell_type": "markdown",
   "id": "918850b8",
   "metadata": {},
   "source": [
    "**Para pensar:** Qual o custo da estabilidade trazida pelo bagging?"
   ]
  },
  {
   "cell_type": "markdown",
   "id": "149d7fb5",
   "metadata": {
    "ExecuteTime": {
     "end_time": "2021-08-31T13:09:36.883250Z",
     "start_time": "2021-08-31T13:09:36.871655Z"
    }
   },
   "source": [
    ">"
   ]
  },
  {
   "cell_type": "code",
   "execution_count": null,
   "id": "4c934119",
   "metadata": {
    "ExecuteTime": {
     "end_time": "2022-02-21T13:40:39.327707Z",
     "start_time": "2022-02-21T13:40:39.156510Z"
    }
   },
   "outputs": [],
   "source": [
    "%%timeit\n",
    "# verificar o tempo de forma ordenada\n"
   ]
  },
  {
   "cell_type": "code",
   "execution_count": null,
   "id": "9e3734d8",
   "metadata": {},
   "outputs": [],
   "source": []
  },
  {
   "cell_type": "markdown",
   "id": "0bd48035",
   "metadata": {},
   "source": [
    "## Bagging of trees: **Random Forest**\n",
    "\n",
    "Aplica a técnica de bootstrapping para criar diversas árvores!\n",
    "\n",
    "- cada árvore é um weak learned! \n",
    "\n",
    "<img src=\"images/random_forest.png\">"
   ]
  },
  {
   "cell_type": "code",
   "execution_count": null,
   "id": "c2af0fb8",
   "metadata": {
    "ExecuteTime": {
     "end_time": "2021-09-01T14:42:54.864288Z",
     "start_time": "2021-09-01T14:42:54.298826Z"
    }
   },
   "outputs": [],
   "source": [
    "# implementação do random forest no sklearn\n"
   ]
  },
  {
   "cell_type": "code",
   "execution_count": null,
   "id": "b93d205b",
   "metadata": {
    "ExecuteTime": {
     "end_time": "2021-09-01T14:43:58.380797Z",
     "start_time": "2021-09-01T14:43:48.394080Z"
    }
   },
   "outputs": [],
   "source": []
  },
  {
   "cell_type": "markdown",
   "id": "7533b88c",
   "metadata": {},
   "source": [
    "A implementação do random forest é muito mais eficiente do que implementar um bagging de árvores na mão!"
   ]
  },
  {
   "cell_type": "code",
   "execution_count": null,
   "id": "b0b42713",
   "metadata": {
    "ExecuteTime": {
     "end_time": "2021-09-01T14:45:20.177849Z",
     "start_time": "2021-09-01T14:45:15.817848Z"
    }
   },
   "outputs": [],
   "source": [
    "%%timeit\n"
   ]
  },
  {
   "cell_type": "code",
   "execution_count": null,
   "id": "1edd8a4f",
   "metadata": {},
   "outputs": [],
   "source": []
  },
  {
   "cell_type": "markdown",
   "id": "689a39c7",
   "metadata": {},
   "source": [
    "# Boosting"
   ]
  },
  {
   "cell_type": "markdown",
   "id": "1ae0b47b",
   "metadata": {},
   "source": [
    "Ao contrário do bagging, o método de boosting treina diversos modelos **em sequência**. \n",
    "\n",
    "<img src=\"images/boosting.png\">\n",
    "\n"
   ]
  },
  {
   "cell_type": "markdown",
   "id": "c3b6d9f0",
   "metadata": {},
   "source": [
    "\n",
    "Essa técnica usa todos os dados e a cada iteração atribui diferentes pesos (importâncias) para os pontos que são classificados erroneamente (pode se tornar obcecado por outilers!). \n",
    "\n",
    "<img src=\"images/boosting1.jpeg\">"
   ]
  },
  {
   "cell_type": "markdown",
   "id": "fbb6a777",
   "metadata": {},
   "source": [
    "<img src=\"https://i.stack.imgur.com/mQ9Np.png\"/>"
   ]
  },
  {
   "cell_type": "code",
   "execution_count": null,
   "id": "443ec1ad",
   "metadata": {},
   "outputs": [],
   "source": []
  },
  {
   "cell_type": "markdown",
   "id": "bd5c99c8",
   "metadata": {},
   "source": [
    "## Entendo os pesos!"
   ]
  },
  {
   "cell_type": "code",
   "execution_count": null,
   "id": "08f993a1",
   "metadata": {
    "ExecuteTime": {
     "end_time": "2021-09-01T15:12:05.902032Z",
     "start_time": "2021-09-01T15:12:05.759511Z"
    }
   },
   "outputs": [],
   "source": [
    "err_m = np.sort(np.random.random(100))\n",
    "\n",
    "def a_m(x):\n",
    "    return np.log((1-x)/x)\n",
    "\n",
    "plt.plot(err_m, a_m(err_m))\n",
    "plt.xlabel('err_m')\n",
    "plt.ylabel('a_m')"
   ]
  },
  {
   "cell_type": "code",
   "execution_count": null,
   "id": "e5be4caf",
   "metadata": {},
   "outputs": [],
   "source": []
  },
  {
   "cell_type": "markdown",
   "id": "2c6cd33d",
   "metadata": {},
   "source": [
    "## Algoritimos de boosting"
   ]
  },
  {
   "cell_type": "markdown",
   "id": "aefa4502",
   "metadata": {},
   "source": [
    "### [AdaBoost](https://en.wikipedia.org/wiki/AdaBoost): Adaptative boosting"
   ]
  },
  {
   "cell_type": "code",
   "execution_count": null,
   "id": "5512783e",
   "metadata": {
    "ExecuteTime": {
     "end_time": "2021-09-01T15:19:04.780697Z",
     "start_time": "2021-09-01T15:19:04.431811Z"
    }
   },
   "outputs": [],
   "source": []
  },
  {
   "cell_type": "code",
   "execution_count": null,
   "id": "0cc81e1d",
   "metadata": {
    "ExecuteTime": {
     "end_time": "2021-09-01T15:19:50.962176Z",
     "start_time": "2021-09-01T15:19:44.324750Z"
    }
   },
   "outputs": [],
   "source": []
  },
  {
   "cell_type": "code",
   "execution_count": null,
   "id": "69267ab5",
   "metadata": {
    "ExecuteTime": {
     "end_time": "2021-09-01T15:20:48.344329Z",
     "start_time": "2021-09-01T15:20:42.535966Z"
    }
   },
   "outputs": [],
   "source": []
  },
  {
   "cell_type": "code",
   "execution_count": null,
   "id": "60e67512",
   "metadata": {},
   "outputs": [],
   "source": []
  },
  {
   "cell_type": "markdown",
   "id": "02b6db08",
   "metadata": {},
   "source": [
    "### [LightGBM](https://lightgbm.readthedocs.io/en/latest/Installation-Guide.html): Light Gradient Boosting Machine\n",
    "\n",
    "pip install lightgbm"
   ]
  },
  {
   "cell_type": "code",
   "execution_count": null,
   "id": "d5d43288",
   "metadata": {
    "ExecuteTime": {
     "end_time": "2021-09-01T15:29:07.667406Z",
     "start_time": "2021-09-01T15:29:06.900863Z"
    }
   },
   "outputs": [],
   "source": []
  },
  {
   "cell_type": "code",
   "execution_count": null,
   "id": "c307180e",
   "metadata": {
    "ExecuteTime": {
     "end_time": "2021-09-01T15:30:16.916350Z",
     "start_time": "2021-09-01T15:30:16.906351Z"
    }
   },
   "outputs": [],
   "source": []
  },
  {
   "cell_type": "code",
   "execution_count": null,
   "id": "6ac35335",
   "metadata": {
    "ExecuteTime": {
     "end_time": "2021-09-01T15:30:24.561294Z",
     "start_time": "2021-09-01T15:30:24.550295Z"
    }
   },
   "outputs": [],
   "source": []
  },
  {
   "cell_type": "code",
   "execution_count": null,
   "id": "6f77e13a",
   "metadata": {
    "ExecuteTime": {
     "end_time": "2021-09-01T15:30:38.739295Z",
     "start_time": "2021-09-01T15:30:38.606298Z"
    }
   },
   "outputs": [],
   "source": []
  },
  {
   "cell_type": "markdown",
   "id": "02e87fbc",
   "metadata": {},
   "source": [
    "### [Xgboost](https://xgboost.readthedocs.io/en/latest/): Extreme gradient boosting\n",
    "\n",
    "pip install xgboost"
   ]
  },
  {
   "cell_type": "code",
   "execution_count": null,
   "id": "9363738a",
   "metadata": {
    "ExecuteTime": {
     "end_time": "2021-09-01T15:34:36.144794Z",
     "start_time": "2021-09-01T15:34:35.166988Z"
    }
   },
   "outputs": [],
   "source": []
  },
  {
   "cell_type": "code",
   "execution_count": null,
   "id": "83c1dcf1",
   "metadata": {},
   "outputs": [],
   "source": []
  },
  {
   "cell_type": "markdown",
   "id": "3233eb9f",
   "metadata": {},
   "source": [
    "# Bonus: Stacking models - Para casa!\n",
    "\n",
    "Para expandir nosso horizonte, vamos estender as idéais acima para a combinação de diferentes modelos, técnica conhecida como [Stacking](https://scikit-learn.org/stable/modules/generated/sklearn.ensemble.StackingClassifier.html)."
   ]
  },
  {
   "cell_type": "code",
   "execution_count": null,
   "id": "f03147a2",
   "metadata": {
    "ExecuteTime": {
     "end_time": "2021-09-01T15:36:20.943696Z",
     "start_time": "2021-09-01T15:36:20.531411Z"
    }
   },
   "outputs": [],
   "source": []
  },
  {
   "cell_type": "code",
   "execution_count": null,
   "id": "b31b6107",
   "metadata": {},
   "outputs": [],
   "source": []
  }
 ],
 "metadata": {
  "kernelspec": {
   "display_name": "Python 3",
   "language": "python",
   "name": "python3"
  },
  "language_info": {
   "codemirror_mode": {
    "name": "ipython",
    "version": 3
   },
   "file_extension": ".py",
   "mimetype": "text/x-python",
   "name": "python",
   "nbconvert_exporter": "python",
   "pygments_lexer": "ipython3",
   "version": "3.8.8"
  },
  "toc": {
   "base_numbering": 1,
   "nav_menu": {},
   "number_sections": true,
   "sideBar": true,
   "skip_h1_title": false,
   "title_cell": "Table of Contents",
   "title_sidebar": "Contents",
   "toc_cell": false,
   "toc_position": {
    "height": "calc(100% - 180px)",
    "left": "10px",
    "top": "150px",
    "width": "236.875px"
   },
   "toc_section_display": true,
   "toc_window_display": true
  },
  "varInspector": {
   "cols": {
    "lenName": 16,
    "lenType": 16,
    "lenVar": 40
   },
   "kernels_config": {
    "python": {
     "delete_cmd_postfix": "",
     "delete_cmd_prefix": "del ",
     "library": "var_list.py",
     "varRefreshCmd": "print(var_dic_list())"
    },
    "r": {
     "delete_cmd_postfix": ") ",
     "delete_cmd_prefix": "rm(",
     "library": "var_list.r",
     "varRefreshCmd": "cat(var_dic_list()) "
    }
   },
   "types_to_exclude": [
    "module",
    "function",
    "builtin_function_or_method",
    "instance",
    "_Feature"
   ],
   "window_display": false
  }
 },
 "nbformat": 4,
 "nbformat_minor": 5
}
