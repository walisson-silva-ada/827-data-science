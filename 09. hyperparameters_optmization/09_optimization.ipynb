{
 "cells": [
  {
   "cell_type": "markdown",
   "id": "72dedc3f",
   "metadata": {},
   "source": [
    "# Hiperparâmetro x Parâmetro"
   ]
  },
  {
   "cell_type": "markdown",
   "id": "7eab0729",
   "metadata": {},
   "source": [
    ">"
   ]
  },
  {
   "cell_type": "code",
   "execution_count": null,
   "id": "b0f96747",
   "metadata": {},
   "outputs": [],
   "source": []
  },
  {
   "cell_type": "markdown",
   "id": "61ef77f3",
   "metadata": {},
   "source": [
    "# Otimização de Hiperparâmetros"
   ]
  },
  {
   "cell_type": "markdown",
   "id": "d019e424",
   "metadata": {},
   "source": [
    "Problema? "
   ]
  },
  {
   "cell_type": "code",
   "execution_count": null,
   "id": "fe743ca3",
   "metadata": {},
   "outputs": [],
   "source": []
  },
  {
   "cell_type": "markdown",
   "id": "f5daf1db",
   "metadata": {},
   "source": [
    "# Grid Search\n",
    "\n",
    "Talvez a primeira coisa que qualquer pessoa pense ao se deparar com esse problema é criar listas de parâmetros e testar todas as combinações possíveis. Logo, ao tentar otimizar 2 hiperparâmetros com três possibilidades em cada, testaremos então $3 \\times 3 = 9$ modelos. O modelo que tiver melhor desempenho, será o escolhido.\n",
    "\n",
    "<img src=\"https://s3-sa-east-1.amazonaws.com/lcpi/14f61637-c80b-4ec3-8a1f-0c6e547ecb8d.png\" style=\"height: 250px\"/>"
   ]
  },
  {
   "cell_type": "markdown",
   "id": "da6ddd8f",
   "metadata": {},
   "source": [
    "## Plano\n",
    "\n",
    "1. ler dataset titanic\n",
    "2. Criar features (X) e target (y)\n",
    "3. Dividir dataset em treino e teste\n",
    "4. Aplicar tecnicas do começo da aula para missing values e categorias\n",
    "5. Treinar um modelo. **Qual?**\n",
    "6. avaliar o modelo: **qual métrica?**\n",
    "\n",
    "e finalmente...\n",
    "\n",
    "7. Fazer o grid search\n",
    "8. Discussão!"
   ]
  },
  {
   "cell_type": "code",
   "execution_count": 1,
   "id": "5162a376",
   "metadata": {
    "ExecuteTime": {
     "end_time": "2022-03-03T12:26:21.367483Z",
     "start_time": "2022-03-03T12:26:20.944463Z"
    }
   },
   "outputs": [
    {
     "data": {
      "text/html": [
       "<div>\n",
       "<style scoped>\n",
       "    .dataframe tbody tr th:only-of-type {\n",
       "        vertical-align: middle;\n",
       "    }\n",
       "\n",
       "    .dataframe tbody tr th {\n",
       "        vertical-align: top;\n",
       "    }\n",
       "\n",
       "    .dataframe thead th {\n",
       "        text-align: right;\n",
       "    }\n",
       "</style>\n",
       "<table border=\"1\" class=\"dataframe\">\n",
       "  <thead>\n",
       "    <tr style=\"text-align: right;\">\n",
       "      <th></th>\n",
       "      <th>PassengerId</th>\n",
       "      <th>Survived</th>\n",
       "      <th>Pclass</th>\n",
       "      <th>Name</th>\n",
       "      <th>Sex</th>\n",
       "      <th>Age</th>\n",
       "      <th>SibSp</th>\n",
       "      <th>Parch</th>\n",
       "      <th>Ticket</th>\n",
       "      <th>Fare</th>\n",
       "      <th>Cabin</th>\n",
       "      <th>Embarked</th>\n",
       "    </tr>\n",
       "  </thead>\n",
       "  <tbody>\n",
       "    <tr>\n",
       "      <th>0</th>\n",
       "      <td>1</td>\n",
       "      <td>0</td>\n",
       "      <td>3</td>\n",
       "      <td>Braund, Mr. Owen Harris</td>\n",
       "      <td>male</td>\n",
       "      <td>22.0</td>\n",
       "      <td>1</td>\n",
       "      <td>0</td>\n",
       "      <td>A/5 21171</td>\n",
       "      <td>7.2500</td>\n",
       "      <td>NaN</td>\n",
       "      <td>S</td>\n",
       "    </tr>\n",
       "    <tr>\n",
       "      <th>1</th>\n",
       "      <td>2</td>\n",
       "      <td>1</td>\n",
       "      <td>1</td>\n",
       "      <td>Cumings, Mrs. John Bradley (Florence Briggs Th...</td>\n",
       "      <td>female</td>\n",
       "      <td>38.0</td>\n",
       "      <td>1</td>\n",
       "      <td>0</td>\n",
       "      <td>PC 17599</td>\n",
       "      <td>71.2833</td>\n",
       "      <td>C85</td>\n",
       "      <td>C</td>\n",
       "    </tr>\n",
       "    <tr>\n",
       "      <th>2</th>\n",
       "      <td>3</td>\n",
       "      <td>1</td>\n",
       "      <td>3</td>\n",
       "      <td>Heikkinen, Miss. Laina</td>\n",
       "      <td>female</td>\n",
       "      <td>26.0</td>\n",
       "      <td>0</td>\n",
       "      <td>0</td>\n",
       "      <td>STON/O2. 3101282</td>\n",
       "      <td>7.9250</td>\n",
       "      <td>NaN</td>\n",
       "      <td>S</td>\n",
       "    </tr>\n",
       "    <tr>\n",
       "      <th>3</th>\n",
       "      <td>4</td>\n",
       "      <td>1</td>\n",
       "      <td>1</td>\n",
       "      <td>Futrelle, Mrs. Jacques Heath (Lily May Peel)</td>\n",
       "      <td>female</td>\n",
       "      <td>35.0</td>\n",
       "      <td>1</td>\n",
       "      <td>0</td>\n",
       "      <td>113803</td>\n",
       "      <td>53.1000</td>\n",
       "      <td>C123</td>\n",
       "      <td>S</td>\n",
       "    </tr>\n",
       "    <tr>\n",
       "      <th>4</th>\n",
       "      <td>5</td>\n",
       "      <td>0</td>\n",
       "      <td>3</td>\n",
       "      <td>Allen, Mr. William Henry</td>\n",
       "      <td>male</td>\n",
       "      <td>35.0</td>\n",
       "      <td>0</td>\n",
       "      <td>0</td>\n",
       "      <td>373450</td>\n",
       "      <td>8.0500</td>\n",
       "      <td>NaN</td>\n",
       "      <td>S</td>\n",
       "    </tr>\n",
       "  </tbody>\n",
       "</table>\n",
       "</div>"
      ],
      "text/plain": [
       "   PassengerId  Survived  Pclass  \\\n",
       "0            1         0       3   \n",
       "1            2         1       1   \n",
       "2            3         1       3   \n",
       "3            4         1       1   \n",
       "4            5         0       3   \n",
       "\n",
       "                                                Name     Sex   Age  SibSp  \\\n",
       "0                            Braund, Mr. Owen Harris    male  22.0      1   \n",
       "1  Cumings, Mrs. John Bradley (Florence Briggs Th...  female  38.0      1   \n",
       "2                             Heikkinen, Miss. Laina  female  26.0      0   \n",
       "3       Futrelle, Mrs. Jacques Heath (Lily May Peel)  female  35.0      1   \n",
       "4                           Allen, Mr. William Henry    male  35.0      0   \n",
       "\n",
       "   Parch            Ticket     Fare Cabin Embarked  \n",
       "0      0         A/5 21171   7.2500   NaN        S  \n",
       "1      0          PC 17599  71.2833   C85        C  \n",
       "2      0  STON/O2. 3101282   7.9250   NaN        S  \n",
       "3      0            113803  53.1000  C123        S  \n",
       "4      0            373450   8.0500   NaN        S  "
      ]
     },
     "execution_count": 1,
     "metadata": {},
     "output_type": "execute_result"
    }
   ],
   "source": [
    "# passo 1\n",
    "import pandas as pd\n",
    "import numpy as np \n",
    "\n",
    "df = pd.read_csv('titanic.csv')\n",
    "df.head()"
   ]
  },
  {
   "cell_type": "code",
   "execution_count": 3,
   "id": "58b40cfa",
   "metadata": {
    "ExecuteTime": {
     "end_time": "2022-03-03T12:26:52.053831Z",
     "start_time": "2022-03-03T12:26:52.039796Z"
    }
   },
   "outputs": [],
   "source": [
    "# passo 2\n",
    "X = df[['Sex', 'Age', 'Fare']].copy()\n",
    "y = df['Survived'].copy()"
   ]
  },
  {
   "cell_type": "code",
   "execution_count": 4,
   "id": "e4a3cf46",
   "metadata": {
    "ExecuteTime": {
     "end_time": "2022-03-03T12:26:52.569461Z",
     "start_time": "2022-03-03T12:26:52.547127Z"
    }
   },
   "outputs": [
    {
     "name": "stdout",
     "output_type": "stream",
     "text": [
      "(623, 3) (268, 3) (623,) (268,)\n"
     ]
    }
   ],
   "source": [
    "# passo 3\n",
    "from sklearn.model_selection import train_test_split\n",
    "\n",
    "X_train_tmp, X_test, y_train_tmp, y_test = train_test_split(X, y, test_size=0.3, random_state=13)\n",
    "\n",
    "print(X_train_tmp.shape, X_test.shape, y_train_tmp.shape, y_test.shape)"
   ]
  },
  {
   "cell_type": "code",
   "execution_count": 5,
   "id": "2ebb97d9",
   "metadata": {
    "ExecuteTime": {
     "end_time": "2022-03-03T12:26:53.052132Z",
     "start_time": "2022-03-03T12:26:53.045590Z"
    }
   },
   "outputs": [
    {
     "name": "stdout",
     "output_type": "stream",
     "text": [
      "(436, 3) (187, 3) (436,) (187,)\n"
     ]
    }
   ],
   "source": [
    "# create validation set\n",
    "X_train, X_val, y_train, y_val = train_test_split(X_train_tmp, y_train_tmp, test_size=0.3, random_state=13)\n",
    "print(X_train.shape, X_val.shape, y_train.shape, y_val.shape)"
   ]
  },
  {
   "cell_type": "code",
   "execution_count": 6,
   "id": "91f4c754",
   "metadata": {
    "ExecuteTime": {
     "end_time": "2022-03-03T12:26:53.581804Z",
     "start_time": "2022-03-03T12:26:53.564569Z"
    }
   },
   "outputs": [
    {
     "data": {
      "text/plain": [
       "male      287\n",
       "female    149\n",
       "Name: Sex, dtype: int64"
      ]
     },
     "execution_count": 6,
     "metadata": {},
     "output_type": "execute_result"
    }
   ],
   "source": [
    "# passo 4\n",
    "\n",
    "X_train['Sex'].value_counts()"
   ]
  },
  {
   "cell_type": "code",
   "execution_count": 7,
   "id": "58ab9347",
   "metadata": {
    "ExecuteTime": {
     "end_time": "2022-03-03T12:26:54.114923Z",
     "start_time": "2022-03-03T12:26:54.091269Z"
    }
   },
   "outputs": [],
   "source": [
    "# passo 4\n",
    "from sklearn.preprocessing import OrdinalEncoder\n",
    "\n",
    "ordinal = OrdinalEncoder()\n",
    "\n",
    "X_train = X_train.copy()\n",
    "X_val = X_val.copy()\n",
    "X_test = X_test.copy()\n",
    "\n",
    "ordinal.fit(X_train[['Sex']])\n",
    "\n",
    "X_train['Sex'] = ordinal.transform(X_train[['Sex']])\n",
    "X_val['Sex'] = ordinal.transform(X_val[['Sex']])\n",
    "X_test['Sex'] = ordinal.transform(X_test[['Sex']])\n",
    "\n",
    "# warnings são incompatibilidade entre pandas e sklearn!"
   ]
  },
  {
   "cell_type": "code",
   "execution_count": 8,
   "id": "ae848395",
   "metadata": {
    "ExecuteTime": {
     "end_time": "2022-03-03T12:26:54.847162Z",
     "start_time": "2022-03-03T12:26:54.839648Z"
    }
   },
   "outputs": [
    {
     "data": {
      "text/plain": [
       "1.0    287\n",
       "0.0    149\n",
       "Name: Sex, dtype: int64"
      ]
     },
     "execution_count": 8,
     "metadata": {},
     "output_type": "execute_result"
    }
   ],
   "source": [
    "X_train['Sex'].value_counts()"
   ]
  },
  {
   "cell_type": "code",
   "execution_count": 9,
   "id": "69ddbba9",
   "metadata": {
    "ExecuteTime": {
     "end_time": "2022-03-03T12:26:55.332703Z",
     "start_time": "2022-03-03T12:26:55.321252Z"
    }
   },
   "outputs": [
    {
     "data": {
      "text/plain": [
       "Sex      0\n",
       "Age     95\n",
       "Fare     0\n",
       "dtype: int64"
      ]
     },
     "execution_count": 9,
     "metadata": {},
     "output_type": "execute_result"
    }
   ],
   "source": [
    "# passo 4 continuação\n",
    "X_train.isnull().sum()"
   ]
  },
  {
   "cell_type": "code",
   "execution_count": 10,
   "id": "208543b9",
   "metadata": {
    "ExecuteTime": {
     "end_time": "2022-03-03T12:26:55.876816Z",
     "start_time": "2022-03-03T12:26:55.711098Z"
    }
   },
   "outputs": [],
   "source": [
    "# passo 4 continuação\n",
    "from sklearn.impute import SimpleImputer\n",
    "\n",
    "imputer = SimpleImputer(strategy='mean')\n",
    "\n",
    "imputer.fit(X_train[['Age']])\n",
    "\n",
    "X_train['Age'] = imputer.transform(X_train[['Age']])\n",
    "X_val['Age'] = imputer.transform(X_val[['Age']])\n",
    "X_test['Age'] = imputer.transform(X_test[['Age']])\n",
    "\n",
    "# warnings são incompatibilidade entre pandas e sklearn!"
   ]
  },
  {
   "cell_type": "code",
   "execution_count": 18,
   "id": "caf0bb15",
   "metadata": {
    "ExecuteTime": {
     "end_time": "2022-03-03T12:27:44.479321Z",
     "start_time": "2022-03-03T12:27:44.340212Z"
    }
   },
   "outputs": [
    {
     "data": {
      "text/plain": [
       "RandomForestClassifier()"
      ]
     },
     "execution_count": 18,
     "metadata": {},
     "output_type": "execute_result"
    }
   ],
   "source": [
    "# passo 5\n",
    "from sklearn.ensemble import RandomForestClassifier\n",
    "\n",
    "model = RandomForestClassifier()\n",
    "\n",
    "model.fit(X_train, y_train)"
   ]
  },
  {
   "cell_type": "code",
   "execution_count": 19,
   "id": "5d233b86",
   "metadata": {
    "ExecuteTime": {
     "end_time": "2022-03-03T12:27:44.714707Z",
     "start_time": "2022-03-03T12:27:44.689713Z"
    }
   },
   "outputs": [
    {
     "data": {
      "text/plain": [
       "0    0.616162\n",
       "1    0.383838\n",
       "Name: Survived, dtype: float64"
      ]
     },
     "execution_count": 19,
     "metadata": {},
     "output_type": "execute_result"
    }
   ],
   "source": [
    "# passo 6: qual métrica?\n",
    "y.value_counts(dropna=False, normalize=True)"
   ]
  },
  {
   "cell_type": "code",
   "execution_count": 20,
   "id": "63790960",
   "metadata": {
    "ExecuteTime": {
     "end_time": "2022-03-03T12:27:44.949503Z",
     "start_time": "2022-03-03T12:27:44.924039Z"
    }
   },
   "outputs": [
    {
     "data": {
      "text/plain": [
       "0.8295896066051481"
      ]
     },
     "execution_count": 20,
     "metadata": {},
     "output_type": "execute_result"
    }
   ],
   "source": [
    "# passo 6\n",
    "from sklearn.metrics import roc_auc_score\n",
    "\n",
    "y_pred = model.predict_proba(X_val)\n",
    "\n",
    "roc_auc_score(y_val, y_pred[:,1])"
   ]
  },
  {
   "cell_type": "code",
   "execution_count": 21,
   "id": "26ed9ac5",
   "metadata": {
    "ExecuteTime": {
     "end_time": "2022-03-03T12:27:45.356840Z",
     "start_time": "2022-03-03T12:27:45.347193Z"
    }
   },
   "outputs": [
    {
     "data": {
      "text/plain": [
       "{'bootstrap': True,\n",
       " 'ccp_alpha': 0.0,\n",
       " 'class_weight': None,\n",
       " 'criterion': 'gini',\n",
       " 'max_depth': None,\n",
       " 'max_features': 'auto',\n",
       " 'max_leaf_nodes': None,\n",
       " 'max_samples': None,\n",
       " 'min_impurity_decrease': 0.0,\n",
       " 'min_impurity_split': None,\n",
       " 'min_samples_leaf': 1,\n",
       " 'min_samples_split': 2,\n",
       " 'min_weight_fraction_leaf': 0.0,\n",
       " 'n_estimators': 100,\n",
       " 'n_jobs': None,\n",
       " 'oob_score': False,\n",
       " 'random_state': None,\n",
       " 'verbose': 0,\n",
       " 'warm_start': False}"
      ]
     },
     "execution_count": 21,
     "metadata": {},
     "output_type": "execute_result"
    }
   ],
   "source": [
    "model.get_params()"
   ]
  },
  {
   "cell_type": "markdown",
   "id": "d49c5d89",
   "metadata": {},
   "source": [
    "## Otimizar os hiperparâmetros"
   ]
  },
  {
   "cell_type": "code",
   "execution_count": null,
   "id": "377d6837",
   "metadata": {},
   "outputs": [],
   "source": []
  },
  {
   "cell_type": "markdown",
   "id": "cfe4cde4",
   "metadata": {},
   "source": [
    "## Exercicio\n",
    "\n",
    "Vamos testar e otimizar outro modelo?\n",
    "\n",
    "Crie um modelo de árvore para os dados que já temos no problema do titanic, meça sua performance e em seguida utilize o grid search para otimizar 3 hiperparâmetros de sua escolha. \n",
    "\n",
    "**Para pensar:** Quais hiperparâmetros podem ser utlizados?"
   ]
  },
  {
   "cell_type": "code",
   "execution_count": null,
   "id": "ce12444d",
   "metadata": {},
   "outputs": [],
   "source": []
  },
  {
   "cell_type": "markdown",
   "id": "2db82cb4",
   "metadata": {},
   "source": [
    "# Random Search\n",
    "\n",
    "Funciona de forma muito similar ao Grid Search, criando um grid de parâmetros a serem testados. Porém, com a diferença de que a seleção dos valores escolhidos para teste é *aleatória* dado um conjunto de possibilidades. Ao invés de testar todos com todos, essa metodologia escolhe um valor ao acaso a partir de um conjunto pré-determinado. Mas uma escolha aleatória trás ganho?\n",
    "\n",
    "Sim! [Alguns pesquisadores](https://s3-sa-east-1.amazonaws.com/lcpi/879e38fe-51f5-4f0e-abf1-339de202611b.pdf) perceberam que o Grid Search trás um problema na otimização dos valores: vamos supor que estamos testando os hiperparâmetros W, X, Y e Z, sendo $w$, $x$, $y$ e $z$ a quantidade de valores que cada hiperparâmetro receberá. Porém, modificar o W, por exemplo, trará uma variação desprezível no resultado do nosso modelo. Mas mesmo assim, por estar especificada no Grid Search, essa metodologia irá testar $ w \\times x \\times y \\times z$, o que pode ser um desperdício. \n",
    "\n",
    "Além disso, ao especificar pontos estamos colocando um viés e pode ser que acabemos por não explorar espaços com máximos locais.\n",
    "\n",
    "<img src=\"https://s3-sa-east-1.amazonaws.com/lcpi/ccb2c843-3e26-4f56-bca5-e380d6964751.png\" style=\"height: 250px\"/>\n"
   ]
  },
  {
   "cell_type": "code",
   "execution_count": null,
   "id": "7c9a2096",
   "metadata": {},
   "outputs": [],
   "source": []
  },
  {
   "cell_type": "markdown",
   "id": "6ae86bca",
   "metadata": {},
   "source": [
    "## Exercicio\n",
    "\n",
    "Otimize seu modelo de knn usando o random search."
   ]
  },
  {
   "cell_type": "code",
   "execution_count": null,
   "id": "09bbf1e1",
   "metadata": {},
   "outputs": [],
   "source": []
  }
 ],
 "metadata": {
  "kernelspec": {
   "display_name": "Python 3",
   "language": "python",
   "name": "python3"
  },
  "language_info": {
   "codemirror_mode": {
    "name": "ipython",
    "version": 3
   },
   "file_extension": ".py",
   "mimetype": "text/x-python",
   "name": "python",
   "nbconvert_exporter": "python",
   "pygments_lexer": "ipython3",
   "version": "3.8.8"
  },
  "toc": {
   "base_numbering": 1,
   "nav_menu": {},
   "number_sections": true,
   "sideBar": true,
   "skip_h1_title": false,
   "title_cell": "Table of Contents",
   "title_sidebar": "Contents",
   "toc_cell": false,
   "toc_position": {
    "height": "calc(100% - 180px)",
    "left": "10px",
    "top": "150px",
    "width": "263.097px"
   },
   "toc_section_display": true,
   "toc_window_display": true
  }
 },
 "nbformat": 4,
 "nbformat_minor": 5
}
