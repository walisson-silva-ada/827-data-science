{
 "cells": [
  {
   "cell_type": "markdown",
   "id": "72dedc3f",
   "metadata": {},
   "source": [
    "# Hiperparâmetro x Parâmetro"
   ]
  },
  {
   "cell_type": "markdown",
   "id": "7eab0729",
   "metadata": {},
   "source": [
    "- Parâmetro: Sâo calculados pelo algoritimo.\n",
    "    * Ex: coeficientes da regressão linear\n",
    "\n",
    "- Hiperparâmetro: São ajustados antes do modelo (devem ser encontrados e otimizados).\n",
    "    * Ex: valores ajustáveis do algoritimo antes do fit -> profundidade da árvores."
   ]
  },
  {
   "cell_type": "code",
   "execution_count": 3,
   "id": "b0f96747",
   "metadata": {
    "ExecuteTime": {
     "end_time": "2022-03-03T16:40:10.403286Z",
     "start_time": "2022-03-03T16:40:10.392546Z"
    }
   },
   "outputs": [
    {
     "data": {
      "text/plain": [
       "DecisionTreeClassifier()"
      ]
     },
     "execution_count": 3,
     "metadata": {},
     "output_type": "execute_result"
    }
   ],
   "source": [
    "from sklearn.linear_model import LinearRegression\n",
    "from sklearn.tree import DecisionTreeClassifier\n",
    "\n",
    "DecisionTreeClassifier()"
   ]
  },
  {
   "cell_type": "markdown",
   "id": "61ef77f3",
   "metadata": {},
   "source": [
    "# Otimização de Hiperparâmetros"
   ]
  },
  {
   "cell_type": "markdown",
   "id": "d019e424",
   "metadata": {},
   "source": [
    "Problema? \n",
    "\n",
    "> A complexidade cresce rapidamente com o número de hiperparâmetros e seus valores possíveis."
   ]
  },
  {
   "cell_type": "code",
   "execution_count": null,
   "id": "fe743ca3",
   "metadata": {},
   "outputs": [],
   "source": []
  },
  {
   "cell_type": "markdown",
   "id": "f5daf1db",
   "metadata": {},
   "source": [
    "# Grid Search\n",
    "\n",
    "Talvez a primeira coisa que qualquer pessoa pense ao se deparar com esse problema é criar listas de parâmetros e testar todas as combinações possíveis. Logo, ao tentar otimizar 2 hiperparâmetros com três possibilidades em cada, testaremos então $3 \\times 3 = 9$ modelos. O modelo que tiver melhor desempenho, será o escolhido.\n",
    "\n",
    "<img src=\"https://s3-sa-east-1.amazonaws.com/lcpi/14f61637-c80b-4ec3-8a1f-0c6e547ecb8d.png\" style=\"height: 250px\"/>"
   ]
  },
  {
   "cell_type": "markdown",
   "id": "da6ddd8f",
   "metadata": {},
   "source": [
    "## Plano\n",
    "\n",
    "1. ler dataset titanic\n",
    "2. Criar features (X) e target (y)\n",
    "3. Dividir dataset em treino e teste\n",
    "4. Aplicar tecnicas das aulas anteriores para missing values e categorias\n",
    "5. Treinar um modelo. **Qual?**\n",
    "6. avaliar o modelo: **qual métrica?**\n",
    "\n",
    "e finalmente...\n",
    "\n",
    "7. Fazer o grid search\n",
    "8. Discussão!"
   ]
  },
  {
   "cell_type": "code",
   "execution_count": 4,
   "id": "5162a376",
   "metadata": {
    "ExecuteTime": {
     "end_time": "2022-03-03T16:52:14.115914Z",
     "start_time": "2022-03-03T16:52:13.225839Z"
    }
   },
   "outputs": [
    {
     "data": {
      "text/html": [
       "<div>\n",
       "<style scoped>\n",
       "    .dataframe tbody tr th:only-of-type {\n",
       "        vertical-align: middle;\n",
       "    }\n",
       "\n",
       "    .dataframe tbody tr th {\n",
       "        vertical-align: top;\n",
       "    }\n",
       "\n",
       "    .dataframe thead th {\n",
       "        text-align: right;\n",
       "    }\n",
       "</style>\n",
       "<table border=\"1\" class=\"dataframe\">\n",
       "  <thead>\n",
       "    <tr style=\"text-align: right;\">\n",
       "      <th></th>\n",
       "      <th>PassengerId</th>\n",
       "      <th>Survived</th>\n",
       "      <th>Pclass</th>\n",
       "      <th>Name</th>\n",
       "      <th>Sex</th>\n",
       "      <th>Age</th>\n",
       "      <th>SibSp</th>\n",
       "      <th>Parch</th>\n",
       "      <th>Ticket</th>\n",
       "      <th>Fare</th>\n",
       "      <th>Cabin</th>\n",
       "      <th>Embarked</th>\n",
       "    </tr>\n",
       "  </thead>\n",
       "  <tbody>\n",
       "    <tr>\n",
       "      <th>0</th>\n",
       "      <td>1</td>\n",
       "      <td>0</td>\n",
       "      <td>3</td>\n",
       "      <td>Braund, Mr. Owen Harris</td>\n",
       "      <td>male</td>\n",
       "      <td>22.0</td>\n",
       "      <td>1</td>\n",
       "      <td>0</td>\n",
       "      <td>A/5 21171</td>\n",
       "      <td>7.2500</td>\n",
       "      <td>NaN</td>\n",
       "      <td>S</td>\n",
       "    </tr>\n",
       "    <tr>\n",
       "      <th>1</th>\n",
       "      <td>2</td>\n",
       "      <td>1</td>\n",
       "      <td>1</td>\n",
       "      <td>Cumings, Mrs. John Bradley (Florence Briggs Th...</td>\n",
       "      <td>female</td>\n",
       "      <td>38.0</td>\n",
       "      <td>1</td>\n",
       "      <td>0</td>\n",
       "      <td>PC 17599</td>\n",
       "      <td>71.2833</td>\n",
       "      <td>C85</td>\n",
       "      <td>C</td>\n",
       "    </tr>\n",
       "    <tr>\n",
       "      <th>2</th>\n",
       "      <td>3</td>\n",
       "      <td>1</td>\n",
       "      <td>3</td>\n",
       "      <td>Heikkinen, Miss. Laina</td>\n",
       "      <td>female</td>\n",
       "      <td>26.0</td>\n",
       "      <td>0</td>\n",
       "      <td>0</td>\n",
       "      <td>STON/O2. 3101282</td>\n",
       "      <td>7.9250</td>\n",
       "      <td>NaN</td>\n",
       "      <td>S</td>\n",
       "    </tr>\n",
       "    <tr>\n",
       "      <th>3</th>\n",
       "      <td>4</td>\n",
       "      <td>1</td>\n",
       "      <td>1</td>\n",
       "      <td>Futrelle, Mrs. Jacques Heath (Lily May Peel)</td>\n",
       "      <td>female</td>\n",
       "      <td>35.0</td>\n",
       "      <td>1</td>\n",
       "      <td>0</td>\n",
       "      <td>113803</td>\n",
       "      <td>53.1000</td>\n",
       "      <td>C123</td>\n",
       "      <td>S</td>\n",
       "    </tr>\n",
       "    <tr>\n",
       "      <th>4</th>\n",
       "      <td>5</td>\n",
       "      <td>0</td>\n",
       "      <td>3</td>\n",
       "      <td>Allen, Mr. William Henry</td>\n",
       "      <td>male</td>\n",
       "      <td>35.0</td>\n",
       "      <td>0</td>\n",
       "      <td>0</td>\n",
       "      <td>373450</td>\n",
       "      <td>8.0500</td>\n",
       "      <td>NaN</td>\n",
       "      <td>S</td>\n",
       "    </tr>\n",
       "  </tbody>\n",
       "</table>\n",
       "</div>"
      ],
      "text/plain": [
       "   PassengerId  Survived  Pclass  \\\n",
       "0            1         0       3   \n",
       "1            2         1       1   \n",
       "2            3         1       3   \n",
       "3            4         1       1   \n",
       "4            5         0       3   \n",
       "\n",
       "                                                Name     Sex   Age  SibSp  \\\n",
       "0                            Braund, Mr. Owen Harris    male  22.0      1   \n",
       "1  Cumings, Mrs. John Bradley (Florence Briggs Th...  female  38.0      1   \n",
       "2                             Heikkinen, Miss. Laina  female  26.0      0   \n",
       "3       Futrelle, Mrs. Jacques Heath (Lily May Peel)  female  35.0      1   \n",
       "4                           Allen, Mr. William Henry    male  35.0      0   \n",
       "\n",
       "   Parch            Ticket     Fare Cabin Embarked  \n",
       "0      0         A/5 21171   7.2500   NaN        S  \n",
       "1      0          PC 17599  71.2833   C85        C  \n",
       "2      0  STON/O2. 3101282   7.9250   NaN        S  \n",
       "3      0            113803  53.1000  C123        S  \n",
       "4      0            373450   8.0500   NaN        S  "
      ]
     },
     "execution_count": 4,
     "metadata": {},
     "output_type": "execute_result"
    }
   ],
   "source": [
    "# passo 1\n",
    "import pandas as pd\n",
    "import numpy as np \n",
    "\n",
    "df = pd.read_csv('titanic.csv')\n",
    "df.head()"
   ]
  },
  {
   "cell_type": "code",
   "execution_count": 5,
   "id": "58b40cfa",
   "metadata": {
    "ExecuteTime": {
     "end_time": "2022-03-03T16:52:28.302830Z",
     "start_time": "2022-03-03T16:52:28.292835Z"
    }
   },
   "outputs": [],
   "source": [
    "# passo 2\n",
    "X = df[['Sex', 'Age', 'Fare']].copy()\n",
    "y = df['Survived'].copy()"
   ]
  },
  {
   "cell_type": "code",
   "execution_count": 7,
   "id": "e4a3cf46",
   "metadata": {
    "ExecuteTime": {
     "end_time": "2022-03-03T16:53:04.388705Z",
     "start_time": "2022-03-03T16:53:04.369858Z"
    }
   },
   "outputs": [
    {
     "name": "stdout",
     "output_type": "stream",
     "text": [
      "(623, 3) (268, 3) (623,) (268,)\n"
     ]
    }
   ],
   "source": [
    "# passo 3\n",
    "from sklearn.model_selection import train_test_split\n",
    "\n",
    "X_train_tmp, X_test, y_train_tmp, y_test = train_test_split(X, y, test_size=0.3, random_state=13)\n",
    "\n",
    "print(X_train_tmp.shape, X_test.shape, y_train_tmp.shape, y_test.shape)"
   ]
  },
  {
   "cell_type": "code",
   "execution_count": 8,
   "id": "2ebb97d9",
   "metadata": {
    "ExecuteTime": {
     "end_time": "2022-03-03T16:53:04.995728Z",
     "start_time": "2022-03-03T16:53:04.974265Z"
    }
   },
   "outputs": [
    {
     "name": "stdout",
     "output_type": "stream",
     "text": [
      "(436, 3) (187, 3) (436,) (187,)\n"
     ]
    }
   ],
   "source": [
    "# create validation set\n",
    "X_train, X_val, y_train, y_val = train_test_split(X_train_tmp, y_train_tmp, test_size=0.3, random_state=13)\n",
    "print(X_train.shape, X_val.shape, y_train.shape, y_val.shape)"
   ]
  },
  {
   "cell_type": "code",
   "execution_count": 9,
   "id": "91f4c754",
   "metadata": {
    "ExecuteTime": {
     "end_time": "2022-03-03T16:55:01.494329Z",
     "start_time": "2022-03-03T16:55:01.485367Z"
    }
   },
   "outputs": [
    {
     "data": {
      "text/plain": [
       "male      287\n",
       "female    149\n",
       "Name: Sex, dtype: int64"
      ]
     },
     "execution_count": 9,
     "metadata": {},
     "output_type": "execute_result"
    }
   ],
   "source": [
    "# passo 4\n",
    "\n",
    "X_train['Sex'].value_counts()"
   ]
  },
  {
   "cell_type": "code",
   "execution_count": 10,
   "id": "58ab9347",
   "metadata": {
    "ExecuteTime": {
     "end_time": "2022-03-03T16:55:54.985478Z",
     "start_time": "2022-03-03T16:55:54.967110Z"
    }
   },
   "outputs": [],
   "source": [
    "# passo 4\n",
    "from sklearn.preprocessing import OrdinalEncoder\n",
    "\n",
    "ordinal = OrdinalEncoder()\n",
    "\n",
    "X_train = X_train.copy()\n",
    "X_val = X_val.copy()\n",
    "X_test = X_test.copy()\n",
    "\n",
    "ordinal.fit(X_train[['Sex']])\n",
    "\n",
    "X_train['Sex'] = ordinal.transform(X_train[['Sex']])\n",
    "X_val['Sex'] = ordinal.transform(X_val[['Sex']])\n",
    "X_test['Sex'] = ordinal.transform(X_test[['Sex']])\n",
    "\n",
    "# warnings são incompatibilidade entre pandas e sklearn!"
   ]
  },
  {
   "cell_type": "code",
   "execution_count": 11,
   "id": "ae848395",
   "metadata": {
    "ExecuteTime": {
     "end_time": "2022-03-03T16:56:00.061125Z",
     "start_time": "2022-03-03T16:56:00.053118Z"
    }
   },
   "outputs": [
    {
     "data": {
      "text/plain": [
       "1.0    287\n",
       "0.0    149\n",
       "Name: Sex, dtype: int64"
      ]
     },
     "execution_count": 11,
     "metadata": {},
     "output_type": "execute_result"
    }
   ],
   "source": [
    "X_train['Sex'].value_counts()"
   ]
  },
  {
   "cell_type": "code",
   "execution_count": 12,
   "id": "69ddbba9",
   "metadata": {
    "ExecuteTime": {
     "end_time": "2022-03-03T17:01:14.203042Z",
     "start_time": "2022-03-03T17:01:14.183127Z"
    }
   },
   "outputs": [
    {
     "data": {
      "text/plain": [
       "Sex      0\n",
       "Age     95\n",
       "Fare     0\n",
       "dtype: int64"
      ]
     },
     "execution_count": 12,
     "metadata": {},
     "output_type": "execute_result"
    }
   ],
   "source": [
    "# passo 4 continuação\n",
    "X_train.isnull().sum()"
   ]
  },
  {
   "cell_type": "code",
   "execution_count": 13,
   "id": "208543b9",
   "metadata": {
    "ExecuteTime": {
     "end_time": "2022-03-03T17:02:37.929825Z",
     "start_time": "2022-03-03T17:02:37.888704Z"
    }
   },
   "outputs": [],
   "source": [
    "# passo 4 continuação\n",
    "from sklearn.impute import SimpleImputer\n",
    "\n",
    "imputer = SimpleImputer(strategy='mean')\n",
    "\n",
    "imputer.fit(X_train[['Age']])\n",
    "\n",
    "X_train['Age'] = imputer.transform(X_train[['Age']])\n",
    "X_val['Age'] = imputer.transform(X_val[['Age']])\n",
    "X_test['Age'] = imputer.transform(X_test[['Age']])\n",
    "\n",
    "# warnings são incompatibilidade entre pandas e sklearn!"
   ]
  },
  {
   "cell_type": "code",
   "execution_count": 14,
   "id": "caf0bb15",
   "metadata": {
    "ExecuteTime": {
     "end_time": "2022-03-03T17:03:21.259873Z",
     "start_time": "2022-03-03T17:03:21.239216Z"
    }
   },
   "outputs": [
    {
     "data": {
      "text/plain": [
       "DecisionTreeClassifier()"
      ]
     },
     "execution_count": 14,
     "metadata": {},
     "output_type": "execute_result"
    }
   ],
   "source": [
    "# passo 5\n",
    "from sklearn.tree import DecisionTreeClassifier\n",
    "\n",
    "model = DecisionTreeClassifier()\n",
    "\n",
    "model.fit(X_train, y_train)"
   ]
  },
  {
   "cell_type": "code",
   "execution_count": 15,
   "id": "5d233b86",
   "metadata": {
    "ExecuteTime": {
     "end_time": "2022-03-03T17:03:33.648865Z",
     "start_time": "2022-03-03T17:03:33.615653Z"
    }
   },
   "outputs": [
    {
     "data": {
      "text/plain": [
       "0    0.616162\n",
       "1    0.383838\n",
       "Name: Survived, dtype: float64"
      ]
     },
     "execution_count": 15,
     "metadata": {},
     "output_type": "execute_result"
    }
   ],
   "source": [
    "# passo 6: qual métrica?\n",
    "y.value_counts(dropna=False, normalize=True)"
   ]
  },
  {
   "cell_type": "code",
   "execution_count": 16,
   "id": "63790960",
   "metadata": {
    "ExecuteTime": {
     "end_time": "2022-03-03T17:07:14.964773Z",
     "start_time": "2022-03-03T17:07:14.946773Z"
    }
   },
   "outputs": [
    {
     "data": {
      "text/plain": [
       "0.7475109276347742"
      ]
     },
     "execution_count": 16,
     "metadata": {},
     "output_type": "execute_result"
    }
   ],
   "source": [
    "# passo 6\n",
    "from sklearn.metrics import roc_auc_score\n",
    "\n",
    "y_pred = model.predict_proba(X_val)\n",
    "\n",
    "roc_auc_score(y_val, y_pred[:,1])"
   ]
  },
  {
   "cell_type": "code",
   "execution_count": 28,
   "id": "9cd244e8",
   "metadata": {
    "ExecuteTime": {
     "end_time": "2022-03-03T17:32:33.947322Z",
     "start_time": "2022-03-03T17:32:33.903869Z"
    }
   },
   "outputs": [
    {
     "data": {
      "text/plain": [
       "array([0.70343073, 0.72650698])"
      ]
     },
     "execution_count": 28,
     "metadata": {},
     "output_type": "execute_result"
    }
   ],
   "source": [
    "from sklearn.model_selection import cross_val_score\n",
    "\n",
    "model = DecisionTreeClassifier()\n",
    "\n",
    "cross_val_score(model, X_train, y_train, scoring='roc_auc', cv=2)"
   ]
  },
  {
   "cell_type": "code",
   "execution_count": 17,
   "id": "26ed9ac5",
   "metadata": {
    "ExecuteTime": {
     "end_time": "2022-03-03T17:07:32.252805Z",
     "start_time": "2022-03-03T17:07:32.232109Z"
    }
   },
   "outputs": [
    {
     "data": {
      "text/plain": [
       "{'ccp_alpha': 0.0,\n",
       " 'class_weight': None,\n",
       " 'criterion': 'gini',\n",
       " 'max_depth': None,\n",
       " 'max_features': None,\n",
       " 'max_leaf_nodes': None,\n",
       " 'min_impurity_decrease': 0.0,\n",
       " 'min_impurity_split': None,\n",
       " 'min_samples_leaf': 1,\n",
       " 'min_samples_split': 2,\n",
       " 'min_weight_fraction_leaf': 0.0,\n",
       " 'random_state': None,\n",
       " 'splitter': 'best'}"
      ]
     },
     "execution_count": 17,
     "metadata": {},
     "output_type": "execute_result"
    }
   ],
   "source": [
    "model.get_params()"
   ]
  },
  {
   "cell_type": "markdown",
   "id": "d49c5d89",
   "metadata": {},
   "source": [
    "## Otimizar os hiperparâmetros"
   ]
  },
  {
   "cell_type": "code",
   "execution_count": 23,
   "id": "714b753e",
   "metadata": {
    "ExecuteTime": {
     "end_time": "2022-03-03T17:27:22.219589Z",
     "start_time": "2022-03-03T17:27:22.043409Z"
    },
    "scrolled": true
   },
   "outputs": [
    {
     "data": {
      "text/plain": [
       "GridSearchCV(cv=2, estimator=DecisionTreeClassifier(),\n",
       "             param_grid={'max_depth': [3, 5, 7, 10],\n",
       "                         'max_leaf_nodes': [10, 20, 30]},\n",
       "             scoring='roc_auc')"
      ]
     },
     "execution_count": 23,
     "metadata": {},
     "output_type": "execute_result"
    }
   ],
   "source": [
    "# passo: 7\n",
    "from sklearn.model_selection import GridSearchCV\n",
    "\n",
    "model = DecisionTreeClassifier()\n",
    "\n",
    "hyper_params = {'max_depth': [3,5,7,10],\n",
    "                 'max_leaf_nodes': [10, 20, 30]}\n",
    "\n",
    "gscv = GridSearchCV(estimator=model, param_grid=hyper_params, scoring='roc_auc', cv=2)\n",
    "\n",
    "gscv.fit(X_train, y_train)\n",
    "\n",
    "gscv"
   ]
  },
  {
   "cell_type": "code",
   "execution_count": 24,
   "id": "f0e8a2e9",
   "metadata": {
    "ExecuteTime": {
     "end_time": "2022-03-03T17:27:25.695998Z",
     "start_time": "2022-03-03T17:27:25.677306Z"
    }
   },
   "outputs": [
    {
     "data": {
      "text/plain": [
       "GridSearchCV(cv=2, estimator=DecisionTreeClassifier(),\n",
       "             param_grid={'max_depth': [3, 5, 7, 10],\n",
       "                         'max_leaf_nodes': [10, 20, 30]},\n",
       "             scoring='roc_auc')"
      ]
     },
     "execution_count": 24,
     "metadata": {},
     "output_type": "execute_result"
    }
   ],
   "source": [
    "gscv"
   ]
  },
  {
   "cell_type": "code",
   "execution_count": 25,
   "id": "4556f4ff",
   "metadata": {
    "ExecuteTime": {
     "end_time": "2022-03-03T17:27:26.424636Z",
     "start_time": "2022-03-03T17:27:26.415203Z"
    }
   },
   "outputs": [
    {
     "data": {
      "text/plain": [
       "{'max_depth': 3, 'max_leaf_nodes': 10}"
      ]
     },
     "execution_count": 25,
     "metadata": {},
     "output_type": "execute_result"
    }
   ],
   "source": [
    "gscv.best_params_"
   ]
  },
  {
   "cell_type": "code",
   "execution_count": 26,
   "id": "20b1d1b7",
   "metadata": {
    "ExecuteTime": {
     "end_time": "2022-03-03T17:27:26.954343Z",
     "start_time": "2022-03-03T17:27:26.939220Z"
    }
   },
   "outputs": [
    {
     "data": {
      "text/plain": [
       "0.8012634903922085"
      ]
     },
     "execution_count": 26,
     "metadata": {},
     "output_type": "execute_result"
    }
   ],
   "source": [
    "gscv.best_score_"
   ]
  },
  {
   "cell_type": "code",
   "execution_count": 29,
   "id": "072d82f7",
   "metadata": {
    "ExecuteTime": {
     "end_time": "2022-03-03T17:36:17.805608Z",
     "start_time": "2022-03-03T17:36:17.787898Z"
    }
   },
   "outputs": [
    {
     "data": {
      "text/plain": [
       "{'mean_fit_time': array([0.00355256, 0.00274563, 0.00248504, 0.00217497, 0.00300896,\n",
       "        0.00150359, 0.00201952, 0.00250065, 0.00250554, 0.00197458,\n",
       "        0.00251567, 0.00302815]),\n",
       " 'std_fit_time': array([5.48958778e-04, 2.52962112e-04, 5.21183014e-04, 1.39355659e-04,\n",
       "        9.92655754e-04, 4.67896461e-04, 1.51395798e-05, 5.01513481e-04,\n",
       "        5.05924225e-04, 2.40802765e-05, 5.17725945e-04, 2.24113464e-05]),\n",
       " 'mean_score_time': array([0.00599527, 0.00419974, 0.00268567, 0.00275767, 0.00348365,\n",
       "        0.00398576, 0.00199938, 0.00349772, 0.00249505, 0.00153399,\n",
       "        0.00298822, 0.00347555]),\n",
       " 'std_score_time': array([9.98020172e-04, 7.29560852e-05, 6.38127327e-04, 7.95006752e-04,\n",
       "        5.20586967e-04, 1.02365017e-03, 7.62939453e-06, 4.96268272e-04,\n",
       "        4.94003296e-04, 4.67061996e-04, 1.02388859e-03, 5.27739525e-04]),\n",
       " 'param_max_depth': masked_array(data=[3, 3, 3, 5, 5, 5, 7, 7, 7, 10, 10, 10],\n",
       "              mask=[False, False, False, False, False, False, False, False,\n",
       "                    False, False, False, False],\n",
       "        fill_value='?',\n",
       "             dtype=object),\n",
       " 'param_max_leaf_nodes': masked_array(data=[10, 20, 30, 10, 20, 30, 10, 20, 30, 10, 20, 30],\n",
       "              mask=[False, False, False, False, False, False, False, False,\n",
       "                    False, False, False, False],\n",
       "        fill_value='?',\n",
       "             dtype=object),\n",
       " 'params': [{'max_depth': 3, 'max_leaf_nodes': 10},\n",
       "  {'max_depth': 3, 'max_leaf_nodes': 20},\n",
       "  {'max_depth': 3, 'max_leaf_nodes': 30},\n",
       "  {'max_depth': 5, 'max_leaf_nodes': 10},\n",
       "  {'max_depth': 5, 'max_leaf_nodes': 20},\n",
       "  {'max_depth': 5, 'max_leaf_nodes': 30},\n",
       "  {'max_depth': 7, 'max_leaf_nodes': 10},\n",
       "  {'max_depth': 7, 'max_leaf_nodes': 20},\n",
       "  {'max_depth': 7, 'max_leaf_nodes': 30},\n",
       "  {'max_depth': 10, 'max_leaf_nodes': 10},\n",
       "  {'max_depth': 10, 'max_leaf_nodes': 20},\n",
       "  {'max_depth': 10, 'max_leaf_nodes': 30}],\n",
       " 'split0_test_score': array([0.79700798, 0.79700798, 0.79700798, 0.69228744, 0.67544091,\n",
       "        0.63613232, 0.69228744, 0.66184084, 0.65521628, 0.69228744,\n",
       "        0.62472581, 0.67930157]),\n",
       " 'split1_test_score': array([0.805519  , 0.805519  , 0.805519  , 0.80424673, 0.82109327,\n",
       "        0.82109327, 0.80424673, 0.79468281, 0.79920154, 0.80424673,\n",
       "        0.79718347, 0.78919891]),\n",
       " 'mean_test_score': array([0.80126349, 0.80126349, 0.80126349, 0.74826709, 0.74826709,\n",
       "        0.72861279, 0.74826709, 0.72826182, 0.72720891, 0.74826709,\n",
       "        0.71095464, 0.73425024]),\n",
       " 'std_test_score': array([0.00425551, 0.00425551, 0.00425551, 0.05597964, 0.07282618,\n",
       "        0.09248048, 0.05597964, 0.06642099, 0.07199263, 0.05597964,\n",
       "        0.08622883, 0.05494867]),\n",
       " 'rank_test_score': array([ 1,  1,  1,  4,  4,  9,  4, 10, 11,  4, 12,  8])}"
      ]
     },
     "execution_count": 29,
     "metadata": {},
     "output_type": "execute_result"
    }
   ],
   "source": [
    "gscv.cv_results_"
   ]
  },
  {
   "cell_type": "code",
   "execution_count": 32,
   "id": "e707e74f",
   "metadata": {
    "ExecuteTime": {
     "end_time": "2022-03-03T17:53:38.785815Z",
     "start_time": "2022-03-03T17:53:38.572665Z"
    }
   },
   "outputs": [
    {
     "data": {
      "text/html": [
       "<div>\n",
       "<style scoped>\n",
       "    .dataframe tbody tr th:only-of-type {\n",
       "        vertical-align: middle;\n",
       "    }\n",
       "\n",
       "    .dataframe tbody tr th {\n",
       "        vertical-align: top;\n",
       "    }\n",
       "\n",
       "    .dataframe thead th {\n",
       "        text-align: right;\n",
       "    }\n",
       "</style>\n",
       "<table border=\"1\" class=\"dataframe\">\n",
       "  <thead>\n",
       "    <tr style=\"text-align: right;\">\n",
       "      <th>param_max_leaf_nodes</th>\n",
       "      <th>10</th>\n",
       "      <th>20</th>\n",
       "      <th>30</th>\n",
       "    </tr>\n",
       "    <tr>\n",
       "      <th>param_max_depth</th>\n",
       "      <th></th>\n",
       "      <th></th>\n",
       "      <th></th>\n",
       "    </tr>\n",
       "  </thead>\n",
       "  <tbody>\n",
       "    <tr>\n",
       "      <th>3</th>\n",
       "      <td>0.801263</td>\n",
       "      <td>0.801263</td>\n",
       "      <td>0.801263</td>\n",
       "    </tr>\n",
       "    <tr>\n",
       "      <th>5</th>\n",
       "      <td>0.748267</td>\n",
       "      <td>0.748267</td>\n",
       "      <td>0.728613</td>\n",
       "    </tr>\n",
       "    <tr>\n",
       "      <th>7</th>\n",
       "      <td>0.748267</td>\n",
       "      <td>0.728262</td>\n",
       "      <td>0.727209</td>\n",
       "    </tr>\n",
       "    <tr>\n",
       "      <th>10</th>\n",
       "      <td>0.748267</td>\n",
       "      <td>0.710955</td>\n",
       "      <td>0.734250</td>\n",
       "    </tr>\n",
       "  </tbody>\n",
       "</table>\n",
       "</div>"
      ],
      "text/plain": [
       "param_max_leaf_nodes        10        20        30\n",
       "param_max_depth                                   \n",
       "3                     0.801263  0.801263  0.801263\n",
       "5                     0.748267  0.748267  0.728613\n",
       "7                     0.748267  0.728262  0.727209\n",
       "10                    0.748267  0.710955  0.734250"
      ]
     },
     "execution_count": 32,
     "metadata": {},
     "output_type": "execute_result"
    },
    {
     "data": {
      "image/png": "[encoded data removed]",
      "text/plain": [
       "<Figure size 432x288 with 2 Axes>"
      ]
     },
     "metadata": {
      "needs_background": "light"
     },
     "output_type": "display_data"
    }
   ],
   "source": [
    "import pandas as pd\n",
    "import seaborn as sns\n",
    "\n",
    "pvt = pd.pivot_table(pd.DataFrame(gscv.cv_results_),\n",
    "    values='mean_test_score', index='param_max_depth', columns='param_max_leaf_nodes')\n",
    "sns.heatmap(pvt, cmap='Blues')\n",
    "pvt"
   ]
  },
  {
   "cell_type": "markdown",
   "id": "cfe4cde4",
   "metadata": {},
   "source": [
    "## Exercicio\n",
    "\n",
    "Vamos testar e otimizar outro modelo?\n",
    "\n",
    "Crie um modelo `random forest` para os dados que já temos no problema do titanic, meça sua performance e em seguida utilize o grid search para otimizar 3 hiperparâmetros de sua escolha. \n",
    "\n",
    "**Para pensar:** Quais hiperparâmetros podem ser utlizados?"
   ]
  },
  {
   "cell_type": "code",
   "execution_count": 37,
   "id": "c1d51655",
   "metadata": {
    "ExecuteTime": {
     "end_time": "2022-03-03T17:59:09.311284Z",
     "start_time": "2022-03-03T17:57:14.122055Z"
    }
   },
   "outputs": [
    {
     "data": {
      "text/plain": [
       "GridSearchCV(cv=3, estimator=RandomForestClassifier(random_state=13),\n",
       "             param_grid={'criterion': ['gini', 'entropy'],\n",
       "                         'max_depth': array([ 5,  6,  7,  8,  9, 10, 11, 12, 13, 14, 15, 16, 17, 18, 19]),\n",
       "                         'min_samples_split': array([2, 3, 4, 5, 6, 7, 8, 9])},\n",
       "             scoring='roc_auc')"
      ]
     },
     "execution_count": 37,
     "metadata": {},
     "output_type": "execute_result"
    }
   ],
   "source": [
    "import numpy as np\n",
    "from sklearn.ensemble import RandomForestClassifier\n",
    "\n",
    "modelo = RandomForestClassifier(random_state=13)\n",
    "\n",
    "grid_search = {\n",
    "    'max_depth': np.arange(5,20,1),\n",
    "    'criterion': ['gini', 'entropy'],\n",
    "    'min_samples_split': np.arange(2, 10, 1)\n",
    "}\n",
    "\n",
    "gscv = GridSearchCV(estimator= modelo,\n",
    "                    param_grid= grid_search, \n",
    "                    scoring='roc_auc' ,\n",
    "                    cv=3)\n",
    "\n",
    "gscv.fit(X_train, y_train)"
   ]
  },
  {
   "cell_type": "code",
   "execution_count": 40,
   "id": "3dc206a7",
   "metadata": {
    "ExecuteTime": {
     "end_time": "2022-03-03T18:00:29.764956Z",
     "start_time": "2022-03-03T18:00:29.749198Z"
    }
   },
   "outputs": [
    {
     "data": {
      "text/plain": [
       "0.8355177818614203"
      ]
     },
     "execution_count": 40,
     "metadata": {},
     "output_type": "execute_result"
    }
   ],
   "source": [
    "gscv.best_score_"
   ]
  },
  {
   "cell_type": "code",
   "execution_count": 42,
   "id": "b4447199",
   "metadata": {
    "ExecuteTime": {
     "end_time": "2022-03-03T18:00:48.314843Z",
     "start_time": "2022-03-03T18:00:48.296753Z"
    }
   },
   "outputs": [
    {
     "data": {
      "text/plain": [
       "{'criterion': 'gini', 'max_depth': 6, 'min_samples_split': 2}"
      ]
     },
     "execution_count": 42,
     "metadata": {},
     "output_type": "execute_result"
    }
   ],
   "source": [
    "gscv.best_params_"
   ]
  },
  {
   "cell_type": "code",
   "execution_count": null,
   "id": "719eb364",
   "metadata": {},
   "outputs": [],
   "source": []
  },
  {
   "cell_type": "markdown",
   "id": "2db82cb4",
   "metadata": {},
   "source": [
    "# Random Search\n",
    "\n",
    "Funciona de forma muito similar ao Grid Search, criando um grid de parâmetros a serem testados. Porém, com a diferença de que a seleção dos valores escolhidos para teste é *aleatória* dado um conjunto de possibilidades. Ao invés de testar todos com todos, essa metodologia escolhe um valor ao acaso a partir de um conjunto pré-determinado. Mas uma escolha aleatória trás ganho?\n",
    "\n",
    "Sim! [Alguns pesquisadores](https://s3-sa-east-1.amazonaws.com/lcpi/879e38fe-51f5-4f0e-abf1-339de202611b.pdf) perceberam que o Grid Search trás um problema na otimização dos valores: vamos supor que estamos testando os hiperparâmetros W, X, Y e Z, sendo $w$, $x$, $y$ e $z$ a quantidade de valores que cada hiperparâmetro receberá. Porém, modificar o W, por exemplo, trará uma variação desprezível no resultado do nosso modelo. Mas mesmo assim, por estar especificada no Grid Search, essa metodologia irá testar $ w \\times x \\times y \\times z$, o que pode ser um desperdício. \n",
    "\n",
    "Além disso, ao especificar pontos estamos colocando um viés e pode ser que acabemos por não explorar espaços com máximos locais.\n",
    "\n",
    "<img src=\"https://s3-sa-east-1.amazonaws.com/lcpi/ccb2c843-3e26-4f56-bca5-e380d6964751.png\" style=\"height: 250px\"/>\n"
   ]
  },
  {
   "cell_type": "code",
   "execution_count": 55,
   "id": "0b1ae3c5",
   "metadata": {
    "ExecuteTime": {
     "end_time": "2022-03-03T18:22:36.592994Z",
     "start_time": "2022-03-03T18:22:34.766847Z"
    }
   },
   "outputs": [
    {
     "data": {
      "text/plain": [
       "RandomizedSearchCV(cv=2, estimator=RandomForestClassifier(), n_iter=5,\n",
       "                   param_distributions={'criterion': ['gini', 'entropy'],\n",
       "                                        'max_depth': array([ 5,  6,  7,  8,  9, 10, 11, 12, 13, 14, 15, 16, 17, 18, 19]),\n",
       "                                        'min_samples_split': array([2, 3, 4, 5, 6, 7, 8, 9])},\n",
       "                   scoring='roc_auc')"
      ]
     },
     "execution_count": 55,
     "metadata": {},
     "output_type": "execute_result"
    }
   ],
   "source": [
    "from sklearn.model_selection import RandomizedSearchCV\n",
    "\n",
    "\n",
    "modelo = RandomForestClassifier()\n",
    "\n",
    "grid_search = {\n",
    "    'max_depth': np.arange(5,20,1),\n",
    "    'criterion': ['gini', 'entropy'],\n",
    "    'min_samples_split': np.arange(2, 10, 1)\n",
    "}\n",
    "\n",
    "rscv = RandomizedSearchCV(estimator=modelo, param_distributions=grid_search, \n",
    "                          n_iter=5, cv=2, scoring='roc_auc')\n",
    "\n",
    "rscv.fit(X_train, y_train)\n",
    "\n",
    "rscv"
   ]
  },
  {
   "cell_type": "code",
   "execution_count": 56,
   "id": "d0849bbf",
   "metadata": {
    "ExecuteTime": {
     "end_time": "2022-03-03T18:22:36.608840Z",
     "start_time": "2022-03-03T18:22:36.594973Z"
    }
   },
   "outputs": [
    {
     "data": {
      "text/plain": [
       "0.8291216986926384"
      ]
     },
     "execution_count": 56,
     "metadata": {},
     "output_type": "execute_result"
    }
   ],
   "source": [
    "rscv.best_score_"
   ]
  },
  {
   "cell_type": "code",
   "execution_count": 57,
   "id": "ea40b474",
   "metadata": {
    "ExecuteTime": {
     "end_time": "2022-03-03T18:23:02.530464Z",
     "start_time": "2022-03-03T18:23:02.519720Z"
    }
   },
   "outputs": [
    {
     "data": {
      "text/plain": [
       "{'min_samples_split': 6, 'max_depth': 6, 'criterion': 'gini'}"
      ]
     },
     "execution_count": 57,
     "metadata": {},
     "output_type": "execute_result"
    }
   ],
   "source": [
    "rscv.best_params_"
   ]
  },
  {
   "cell_type": "code",
   "execution_count": 60,
   "id": "36f96f74",
   "metadata": {
    "ExecuteTime": {
     "end_time": "2022-03-03T18:26:01.086379Z",
     "start_time": "2022-03-03T18:25:59.357120Z"
    }
   },
   "outputs": [
    {
     "data": {
      "text/plain": [
       "0.8290778274984645"
      ]
     },
     "execution_count": 60,
     "metadata": {},
     "output_type": "execute_result"
    }
   ],
   "source": [
    "modelo = RandomForestClassifier()\n",
    "\n",
    "grid_search = {\n",
    "    'max_depth': np.arange(10,100,1),\n",
    "    'criterion': ['gini', 'entropy'],\n",
    "    'min_samples_split': np.arange(5, 50, 1)\n",
    "}\n",
    "\n",
    "rscv = RandomizedSearchCV(estimator=modelo, param_distributions=grid_search, \n",
    "                          n_iter=5, cv=2, scoring='roc_auc')\n",
    "\n",
    "rscv.fit(X_train, y_train)\n",
    "\n",
    "rscv.best_score_"
   ]
  },
  {
   "cell_type": "code",
   "execution_count": 61,
   "id": "26780175",
   "metadata": {
    "ExecuteTime": {
     "end_time": "2022-03-03T18:26:04.003624Z",
     "start_time": "2022-03-03T18:26:03.996332Z"
    }
   },
   "outputs": [
    {
     "data": {
      "text/plain": [
       "{'min_samples_split': 33, 'max_depth': 69, 'criterion': 'entropy'}"
      ]
     },
     "execution_count": 61,
     "metadata": {},
     "output_type": "execute_result"
    }
   ],
   "source": [
    "rscv.best_params_"
   ]
  },
  {
   "cell_type": "markdown",
   "id": "6ae86bca",
   "metadata": {},
   "source": [
    "## Exercicio\n",
    "\n",
    "Otimize seu modelo de `random_forest` usando o random search."
   ]
  },
  {
   "cell_type": "code",
   "execution_count": null,
   "id": "09bbf1e1",
   "metadata": {},
   "outputs": [],
   "source": []
  }
 ],
 "metadata": {
  "kernelspec": {
   "display_name": "Python 3",
   "language": "python",
   "name": "python3"
  },
  "language_info": {
   "codemirror_mode": {
    "name": "ipython",
    "version": 3
   },
   "file_extension": ".py",
   "mimetype": "text/x-python",
   "name": "python",
   "nbconvert_exporter": "python",
   "pygments_lexer": "ipython3",
   "version": "3.8.8"
  },
  "toc": {
   "base_numbering": 1,
   "nav_menu": {},
   "number_sections": true,
   "sideBar": true,
   "skip_h1_title": false,
   "title_cell": "Table of Contents",
   "title_sidebar": "Contents",
   "toc_cell": false,
   "toc_position": {
    "height": "calc(100% - 180px)",
    "left": "10px",
    "top": "150px",
    "width": "263.097px"
   },
   "toc_section_display": true,
   "toc_window_display": true
  }
 },
 "nbformat": 4,
 "nbformat_minor": 5
}
