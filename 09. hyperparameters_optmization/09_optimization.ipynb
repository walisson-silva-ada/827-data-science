{
 "cells": [
  {
   "cell_type": "markdown",
   "id": "72dedc3f",
   "metadata": {},
   "source": [
    "# Hiperparâmetro x Parâmetro"
   ]
  },
  {
   "cell_type": "markdown",
   "id": "7eab0729",
   "metadata": {},
   "source": [
    ">"
   ]
  },
  {
   "cell_type": "code",
   "execution_count": null,
   "id": "b0f96747",
   "metadata": {},
   "outputs": [],
   "source": []
  },
  {
   "cell_type": "markdown",
   "id": "61ef77f3",
   "metadata": {},
   "source": [
    "# Otimização de Hiperparâmetros"
   ]
  },
  {
   "cell_type": "markdown",
   "id": "d019e424",
   "metadata": {},
   "source": [
    "Problema? "
   ]
  },
  {
   "cell_type": "code",
   "execution_count": null,
   "id": "fe743ca3",
   "metadata": {},
   "outputs": [],
   "source": []
  },
  {
   "cell_type": "markdown",
   "id": "f5daf1db",
   "metadata": {},
   "source": [
    "# Grid Search\n",
    "\n",
    "Talvez a primeira coisa que qualquer pessoa pense ao se deparar com esse problema é criar listas de parâmetros e testar todas as combinações possíveis. Logo, ao tentar otimizar 2 hiperparâmetros com três possibilidades em cada, testaremos então $3 \\times 3 = 9$ modelos. O modelo que tiver melhor desempenho, será o escolhido.\n",
    "\n",
    "<img src=\"https://s3-sa-east-1.amazonaws.com/lcpi/14f61637-c80b-4ec3-8a1f-0c6e547ecb8d.png\" style=\"height: 250px\"/>"
   ]
  },
  {
   "cell_type": "markdown",
   "id": "da6ddd8f",
   "metadata": {},
   "source": [
    "## Plano\n",
    "\n",
    "1. ler dataset titanic\n",
    "2. Criar features (X) e target (y)\n",
    "3. Dividir dataset em treino e teste\n",
    "4. Aplicar tecnicas do começo da aula para missing values e categorias\n",
    "5. Treinar um modelo. **Qual?**\n",
    "6. avaliar o modelo: **qual métrica?**\n",
    "\n",
    "e finalmente...\n",
    "\n",
    "7. Fazer o grid search\n",
    "8. Discussão!"
   ]
  },
  {
   "cell_type": "code",
   "execution_count": 1,
   "id": "5162a376",
   "metadata": {
    "ExecuteTime": {
     "end_time": "2022-03-03T12:26:21.367483Z",
     "start_time": "2022-03-03T12:26:20.944463Z"
    }
   },
   "outputs": [
    {
     "data": {
      "text/html": [
       "<div>\n",
       "<style scoped>\n",
       "    .dataframe tbody tr th:only-of-type {\n",
       "        vertical-align: middle;\n",
       "    }\n",
       "\n",
       "    .dataframe tbody tr th {\n",
       "        vertical-align: top;\n",
       "    }\n",
       "\n",
       "    .dataframe thead th {\n",
       "        text-align: right;\n",
       "    }\n",
       "</style>\n",
       "<table border=\"1\" class=\"dataframe\">\n",
       "  <thead>\n",
       "    <tr style=\"text-align: right;\">\n",
       "      <th></th>\n",
       "      <th>PassengerId</th>\n",
       "      <th>Survived</th>\n",
       "      <th>Pclass</th>\n",
       "      <th>Name</th>\n",
       "      <th>Sex</th>\n",
       "      <th>Age</th>\n",
       "      <th>SibSp</th>\n",
       "      <th>Parch</th>\n",
       "      <th>Ticket</th>\n",
       "      <th>Fare</th>\n",
       "      <th>Cabin</th>\n",
       "      <th>Embarked</th>\n",
       "    </tr>\n",
       "  </thead>\n",
       "  <tbody>\n",
       "    <tr>\n",
       "      <th>0</th>\n",
       "      <td>1</td>\n",
       "      <td>0</td>\n",
       "      <td>3</td>\n",
       "      <td>Braund, Mr. Owen Harris</td>\n",
       "      <td>male</td>\n",
       "      <td>22.0</td>\n",
       "      <td>1</td>\n",
       "      <td>0</td>\n",
       "      <td>A/5 21171</td>\n",
       "      <td>7.2500</td>\n",
       "      <td>NaN</td>\n",
       "      <td>S</td>\n",
       "    </tr>\n",
       "    <tr>\n",
       "      <th>1</th>\n",
       "      <td>2</td>\n",
       "      <td>1</td>\n",
       "      <td>1</td>\n",
       "      <td>Cumings, Mrs. John Bradley (Florence Briggs Th...</td>\n",
       "      <td>female</td>\n",
       "      <td>38.0</td>\n",
       "      <td>1</td>\n",
       "      <td>0</td>\n",
       "      <td>PC 17599</td>\n",
       "      <td>71.2833</td>\n",
       "      <td>C85</td>\n",
       "      <td>C</td>\n",
       "    </tr>\n",
       "    <tr>\n",
       "      <th>2</th>\n",
       "      <td>3</td>\n",
       "      <td>1</td>\n",
       "      <td>3</td>\n",
       "      <td>Heikkinen, Miss. Laina</td>\n",
       "      <td>female</td>\n",
       "      <td>26.0</td>\n",
       "      <td>0</td>\n",
       "      <td>0</td>\n",
       "      <td>STON/O2. 3101282</td>\n",
       "      <td>7.9250</td>\n",
       "      <td>NaN</td>\n",
       "      <td>S</td>\n",
       "    </tr>\n",
       "    <tr>\n",
       "      <th>3</th>\n",
       "      <td>4</td>\n",
       "      <td>1</td>\n",
       "      <td>1</td>\n",
       "      <td>Futrelle, Mrs. Jacques Heath (Lily May Peel)</td>\n",
       "      <td>female</td>\n",
       "      <td>35.0</td>\n",
       "      <td>1</td>\n",
       "      <td>0</td>\n",
       "      <td>113803</td>\n",
       "      <td>53.1000</td>\n",
       "      <td>C123</td>\n",
       "      <td>S</td>\n",
       "    </tr>\n",
       "    <tr>\n",
       "      <th>4</th>\n",
       "      <td>5</td>\n",
       "      <td>0</td>\n",
       "      <td>3</td>\n",
       "      <td>Allen, Mr. William Henry</td>\n",
       "      <td>male</td>\n",
       "      <td>35.0</td>\n",
       "      <td>0</td>\n",
       "      <td>0</td>\n",
       "      <td>373450</td>\n",
       "      <td>8.0500</td>\n",
       "      <td>NaN</td>\n",
       "      <td>S</td>\n",
       "    </tr>\n",
       "  </tbody>\n",
       "</table>\n",
       "</div>"
      ],
      "text/plain": [
       "   PassengerId  Survived  Pclass  \\\n",
       "0            1         0       3   \n",
       "1            2         1       1   \n",
       "2            3         1       3   \n",
       "3            4         1       1   \n",
       "4            5         0       3   \n",
       "\n",
       "                                                Name     Sex   Age  SibSp  \\\n",
       "0                            Braund, Mr. Owen Harris    male  22.0      1   \n",
       "1  Cumings, Mrs. John Bradley (Florence Briggs Th...  female  38.0      1   \n",
       "2                             Heikkinen, Miss. Laina  female  26.0      0   \n",
       "3       Futrelle, Mrs. Jacques Heath (Lily May Peel)  female  35.0      1   \n",
       "4                           Allen, Mr. William Henry    male  35.0      0   \n",
       "\n",
       "   Parch            Ticket     Fare Cabin Embarked  \n",
       "0      0         A/5 21171   7.2500   NaN        S  \n",
       "1      0          PC 17599  71.2833   C85        C  \n",
       "2      0  STON/O2. 3101282   7.9250   NaN        S  \n",
       "3      0            113803  53.1000  C123        S  \n",
       "4      0            373450   8.0500   NaN        S  "
      ]
     },
     "execution_count": 1,
     "metadata": {},
     "output_type": "execute_result"
    }
   ],
   "source": [
    "# passo 1\n",
    "import pandas as pd\n",
    "import numpy as np \n",
    "\n",
    "df = pd.read_csv('titanic.csv')\n",
    "df.head()"
   ]
  },
  {
   "cell_type": "code",
   "execution_count": 3,
   "id": "58b40cfa",
   "metadata": {
    "ExecuteTime": {
     "end_time": "2022-03-03T12:26:52.053831Z",
     "start_time": "2022-03-03T12:26:52.039796Z"
    }
   },
   "outputs": [],
   "source": [
    "# passo 2\n",
    "X = df[['Sex', 'Age', 'Fare']].copy()\n",
    "y = df['Survived'].copy()"
   ]
  },
  {
   "cell_type": "code",
   "execution_count": 4,
   "id": "e4a3cf46",
   "metadata": {
    "ExecuteTime": {
     "end_time": "2022-03-03T12:26:52.569461Z",
     "start_time": "2022-03-03T12:26:52.547127Z"
    }
   },
   "outputs": [
    {
     "name": "stdout",
     "output_type": "stream",
     "text": [
      "(623, 3) (268, 3) (623,) (268,)\n"
     ]
    }
   ],
   "source": [
    "# passo 3\n",
    "from sklearn.model_selection import train_test_split\n",
    "\n",
    "X_train_tmp, X_test, y_train_tmp, y_test = train_test_split(X, y, test_size=0.3, random_state=13)\n",
    "\n",
    "print(X_train_tmp.shape, X_test.shape, y_train_tmp.shape, y_test.shape)"
   ]
  },
  {
   "cell_type": "code",
   "execution_count": 5,
   "id": "2ebb97d9",
   "metadata": {
    "ExecuteTime": {
     "end_time": "2022-03-03T12:26:53.052132Z",
     "start_time": "2022-03-03T12:26:53.045590Z"
    }
   },
   "outputs": [
    {
     "name": "stdout",
     "output_type": "stream",
     "text": [
      "(436, 3) (187, 3) (436,) (187,)\n"
     ]
    }
   ],
   "source": [
    "# create validation set\n",
    "X_train, X_val, y_train, y_val = train_test_split(X_train_tmp, y_train_tmp, test_size=0.3, random_state=13)\n",
    "print(X_train.shape, X_val.shape, y_train.shape, y_val.shape)"
   ]
  },
  {
   "cell_type": "code",
   "execution_count": 6,
   "id": "91f4c754",
   "metadata": {
    "ExecuteTime": {
     "end_time": "2022-03-03T12:26:53.581804Z",
     "start_time": "2022-03-03T12:26:53.564569Z"
    }
   },
   "outputs": [
    {
     "data": {
      "text/plain": [
       "male      287\n",
       "female    149\n",
       "Name: Sex, dtype: int64"
      ]
     },
     "execution_count": 6,
     "metadata": {},
     "output_type": "execute_result"
    }
   ],
   "source": [
    "# passo 4\n",
    "\n",
    "X_train['Sex'].value_counts()"
   ]
  },
  {
   "cell_type": "code",
   "execution_count": 7,
   "id": "58ab9347",
   "metadata": {
    "ExecuteTime": {
     "end_time": "2022-03-03T12:26:54.114923Z",
     "start_time": "2022-03-03T12:26:54.091269Z"
    }
   },
   "outputs": [],
   "source": [
    "# passo 4\n",
    "from sklearn.preprocessing import OrdinalEncoder\n",
    "\n",
    "ordinal = OrdinalEncoder()\n",
    "\n",
    "X_train = X_train.copy()\n",
    "X_val = X_val.copy()\n",
    "X_test = X_test.copy()\n",
    "\n",
    "ordinal.fit(X_train[['Sex']])\n",
    "\n",
    "X_train['Sex'] = ordinal.transform(X_train[['Sex']])\n",
    "X_val['Sex'] = ordinal.transform(X_val[['Sex']])\n",
    "X_test['Sex'] = ordinal.transform(X_test[['Sex']])\n",
    "\n",
    "# warnings são incompatibilidade entre pandas e sklearn!"
   ]
  },
  {
   "cell_type": "code",
   "execution_count": 8,
   "id": "ae848395",
   "metadata": {
    "ExecuteTime": {
     "end_time": "2022-03-03T12:26:54.847162Z",
     "start_time": "2022-03-03T12:26:54.839648Z"
    }
   },
   "outputs": [
    {
     "data": {
      "text/plain": [
       "1.0    287\n",
       "0.0    149\n",
       "Name: Sex, dtype: int64"
      ]
     },
     "execution_count": 8,
     "metadata": {},
     "output_type": "execute_result"
    }
   ],
   "source": [
    "X_train['Sex'].value_counts()"
   ]
  },
  {
   "cell_type": "code",
   "execution_count": 9,
   "id": "69ddbba9",
   "metadata": {
    "ExecuteTime": {
     "end_time": "2022-03-03T12:26:55.332703Z",
     "start_time": "2022-03-03T12:26:55.321252Z"
    }
   },
   "outputs": [
    {
     "data": {
      "text/plain": [
       "Sex      0\n",
       "Age     95\n",
       "Fare     0\n",
       "dtype: int64"
      ]
     },
     "execution_count": 9,
     "metadata": {},
     "output_type": "execute_result"
    }
   ],
   "source": [
    "# passo 4 continuação\n",
    "X_train.isnull().sum()"
   ]
  },
  {
   "cell_type": "code",
   "execution_count": 10,
   "id": "208543b9",
   "metadata": {
    "ExecuteTime": {
     "end_time": "2022-03-03T12:26:55.876816Z",
     "start_time": "2022-03-03T12:26:55.711098Z"
    }
   },
   "outputs": [],
   "source": [
    "# passo 4 continuação\n",
    "from sklearn.impute import SimpleImputer\n",
    "\n",
    "imputer = SimpleImputer(strategy='mean')\n",
    "\n",
    "imputer.fit(X_train[['Age']])\n",
    "\n",
    "X_train['Age'] = imputer.transform(X_train[['Age']])\n",
    "X_val['Age'] = imputer.transform(X_val[['Age']])\n",
    "X_test['Age'] = imputer.transform(X_test[['Age']])\n",
    "\n",
    "# warnings são incompatibilidade entre pandas e sklearn!"
   ]
  },
  {
   "cell_type": "code",
   "execution_count": 18,
   "id": "caf0bb15",
   "metadata": {
    "ExecuteTime": {
     "end_time": "2022-03-03T12:27:44.479321Z",
     "start_time": "2022-03-03T12:27:44.340212Z"
    }
   },
   "outputs": [
    {
     "data": {
      "text/plain": [
       "RandomForestClassifier()"
      ]
     },
     "execution_count": 18,
     "metadata": {},
     "output_type": "execute_result"
    }
   ],
   "source": [
    "# passo 5\n",
    "from sklearn.ensemble import RandomForestClassifier\n",
    "\n",
    "model = RandomForestClassifier()\n",
    "\n",
    "model.fit(X_train, y_train)"
   ]
  },
  {
   "cell_type": "code",
   "execution_count": 19,
   "id": "5d233b86",
   "metadata": {
    "ExecuteTime": {
     "end_time": "2022-03-03T12:27:44.714707Z",
     "start_time": "2022-03-03T12:27:44.689713Z"
    }
   },
   "outputs": [
    {
     "data": {
      "text/plain": [
       "0    0.616162\n",
       "1    0.383838\n",
       "Name: Survived, dtype: float64"
      ]
     },
     "execution_count": 19,
     "metadata": {},
     "output_type": "execute_result"
    }
   ],
   "source": [
    "# passo 6: qual métrica?\n",
    "y.value_counts(dropna=False, normalize=True)"
   ]
  },
  {
   "cell_type": "code",
   "execution_count": 20,
   "id": "63790960",
   "metadata": {
    "ExecuteTime": {
     "end_time": "2022-03-03T12:27:44.949503Z",
     "start_time": "2022-03-03T12:27:44.924039Z"
    }
   },
   "outputs": [
    {
     "data": {
      "text/plain": [
       "0.8295896066051481"
      ]
     },
     "execution_count": 20,
     "metadata": {},
     "output_type": "execute_result"
    }
   ],
   "source": [
    "# passo 6\n",
    "from sklearn.metrics import roc_auc_score\n",
    "\n",
    "y_pred = model.predict_proba(X_val)\n",
    "\n",
    "roc_auc_score(y_val, y_pred[:,1])"
   ]
  },
  {
   "cell_type": "code",
   "execution_count": 21,
   "id": "26ed9ac5",
   "metadata": {
    "ExecuteTime": {
     "end_time": "2022-03-03T12:27:45.356840Z",
     "start_time": "2022-03-03T12:27:45.347193Z"
    }
   },
   "outputs": [
    {
     "data": {
      "text/plain": [
       "{'bootstrap': True,\n",
       " 'ccp_alpha': 0.0,\n",
       " 'class_weight': None,\n",
       " 'criterion': 'gini',\n",
       " 'max_depth': None,\n",
       " 'max_features': 'auto',\n",
       " 'max_leaf_nodes': None,\n",
       " 'max_samples': None,\n",
       " 'min_impurity_decrease': 0.0,\n",
       " 'min_impurity_split': None,\n",
       " 'min_samples_leaf': 1,\n",
       " 'min_samples_split': 2,\n",
       " 'min_weight_fraction_leaf': 0.0,\n",
       " 'n_estimators': 100,\n",
       " 'n_jobs': None,\n",
       " 'oob_score': False,\n",
       " 'random_state': None,\n",
       " 'verbose': 0,\n",
       " 'warm_start': False}"
      ]
     },
     "execution_count": 21,
     "metadata": {},
     "output_type": "execute_result"
    }
   ],
   "source": [
    "model.get_params()"
   ]
  },
  {
   "cell_type": "markdown",
   "id": "d49c5d89",
   "metadata": {},
   "source": [
    "## Otimizar os hiperparâmetros"
   ]
  },
  {
   "cell_type": "code",
   "execution_count": 38,
   "id": "f111e64c",
   "metadata": {},
   "outputs": [
    {
     "data": {
      "text/plain": [
       "GridSearchCV(cv=3, error_score=nan,\n",
       "             estimator=KNeighborsClassifier(algorithm='auto', leaf_size=30,\n",
       "                                            metric='minkowski',\n",
       "                                            metric_params=None, n_jobs=None,\n",
       "                                            n_neighbors=5, p=2,\n",
       "                                            weights='uniform'),\n",
       "             iid='deprecated', n_jobs=None,\n",
       "             param_grid={'n_neighbors': array([ 5,  6,  7,  8,  9, 10, 11, 12, 13, 14, 15, 16, 17, 18, 19]),\n",
       "                         'p': [1, 2, 3]},\n",
       "             pre_dispatch='2*n_jobs', refit=True, return_train_score=False,\n",
       "             scoring='roc_auc', verbose=0)"
      ]
     },
     "execution_count": 38,
     "metadata": {},
     "output_type": "execute_result"
    }
   ],
   "source": [
    "# passo 7: encontrando os melhores hiperparâmetros\n",
    "from sklearn.model_selection import GridSearchCV\n",
    "\n",
    "modelo = KNeighborsClassifier()\n",
    "\n",
    "grid_search = {\n",
    "    'n_neighbors': np.arange(5,20,1), #np.random.randint(5,100, 50), #[5, 50, 100],\n",
    "    'p': [1,2,3]\n",
    "}\n",
    "\n",
    "gscv = GridSearchCV(estimator= modelo,\n",
    "                    param_grid= grid_search, \n",
    "                    scoring='roc_auc' ,\n",
    "                    cv=3)\n",
    "\n",
    "gscv.fit(X_train, y_train)"
   ]
  },
  {
   "cell_type": "code",
   "execution_count": 39,
   "id": "2aeba0dc",
   "metadata": {},
   "outputs": [
    {
     "data": {
      "text/plain": [
       "{'n_neighbors': 12, 'p': 1}"
      ]
     },
     "execution_count": 39,
     "metadata": {},
     "output_type": "execute_result"
    }
   ],
   "source": [
    "# Quais os melhores parâmetros?\n",
    "gscv.best_params_"
   ]
  },
  {
   "cell_type": "code",
   "execution_count": 40,
   "id": "8b8e719f",
   "metadata": {},
   "outputs": [
    {
     "data": {
      "text/plain": [
       "0.7352253209863199"
      ]
     },
     "execution_count": 40,
     "metadata": {},
     "output_type": "execute_result"
    }
   ],
   "source": [
    "gscv.best_score_"
   ]
  },
  {
   "cell_type": "code",
   "execution_count": 41,
   "id": "d0f68580",
   "metadata": {},
   "outputs": [
    {
     "data": {
      "text/plain": [
       "0.7354905293831958"
      ]
     },
     "execution_count": 41,
     "metadata": {},
     "output_type": "execute_result"
    }
   ],
   "source": [
    "# Qual a performance? Queremos otimizar o score de dados que não foram vistos!\n",
    "y_pred = gscv.predict_proba(X_val)\n",
    "\n",
    "roc_auc_score(y_val, y_pred[:,1])"
   ]
  },
  {
   "cell_type": "markdown",
   "id": "cfe4cde4",
   "metadata": {},
   "source": [
    "## Exercicio\n",
    "\n",
    "Vamos testar e otimizar outro modelo?\n",
    "\n",
    "Crie um modelo de árvore para os dados que já temos no problema do titanic, meça sua performance e em seguida utilize o grid search para otimizar 3 hiperparâmetros de sua escolha. \n",
    "\n",
    "**Para pensar:** Quais hiperparâmetros podem ser utlizados?"
   ]
  },
  {
   "cell_type": "code",
   "execution_count": 50,
   "id": "5c75bcf1",
   "metadata": {},
   "outputs": [
    {
     "data": {
      "text/plain": [
       "DecisionTreeClassifier(ccp_alpha=0.0, class_weight=None, criterion='gini',\n",
       "                       max_depth=None, max_features=None, max_leaf_nodes=None,\n",
       "                       min_impurity_decrease=0.0, min_impurity_split=None,\n",
       "                       min_samples_leaf=1, min_samples_split=2,\n",
       "                       min_weight_fraction_leaf=0.0, presort='deprecated',\n",
       "                       random_state=13, splitter='best')"
      ]
     },
     "execution_count": 50,
     "metadata": {},
     "output_type": "execute_result"
    }
   ],
   "source": [
    "from sklearn.tree import DecisionTreeClassifier\n",
    "\n",
    "tree = DecisionTreeClassifier(random_state=13)\n",
    "\n",
    "tree.fit(X_train, y_train)"
   ]
  },
  {
   "cell_type": "code",
   "execution_count": 51,
   "id": "d5ae3737",
   "metadata": {},
   "outputs": [
    {
     "data": {
      "text/plain": [
       "0.7557066537153958"
      ]
     },
     "execution_count": 51,
     "metadata": {},
     "output_type": "execute_result"
    }
   ],
   "source": [
    "y_pred = tree.predict_proba(X_val)\n",
    "roc_auc_score(y_val, y_pred[:,1])"
   ]
  },
  {
   "cell_type": "code",
   "execution_count": 62,
   "id": "8c4fc39c",
   "metadata": {},
   "outputs": [
    {
     "data": {
      "text/plain": [
       "{'ccp_alpha': 0.0,\n",
       " 'class_weight': None,\n",
       " 'criterion': 'gini',\n",
       " 'max_depth': None,\n",
       " 'max_features': None,\n",
       " 'max_leaf_nodes': None,\n",
       " 'min_impurity_decrease': 0.0,\n",
       " 'min_impurity_split': None,\n",
       " 'min_samples_leaf': 1,\n",
       " 'min_samples_split': 2,\n",
       " 'min_weight_fraction_leaf': 0.0,\n",
       " 'presort': 'deprecated',\n",
       " 'random_state': 13,\n",
       " 'splitter': 'best'}"
      ]
     },
     "execution_count": 62,
     "metadata": {},
     "output_type": "execute_result"
    }
   ],
   "source": [
    "tree.get_params()"
   ]
  },
  {
   "cell_type": "code",
   "execution_count": 58,
   "id": "7d0ab36e",
   "metadata": {},
   "outputs": [
    {
     "data": {
      "text/plain": [
       "GridSearchCV(cv=3, error_score=nan,\n",
       "             estimator=DecisionTreeClassifier(ccp_alpha=0.0, class_weight=None,\n",
       "                                              criterion='gini', max_depth=None,\n",
       "                                              max_features=None,\n",
       "                                              max_leaf_nodes=None,\n",
       "                                              min_impurity_decrease=0.0,\n",
       "                                              min_impurity_split=None,\n",
       "                                              min_samples_leaf=1,\n",
       "                                              min_samples_split=2,\n",
       "                                              min_weight_fraction_leaf=0.0,\n",
       "                                              presort='deprecated',\n",
       "                                              random_state=13,\n",
       "                                              splitter='best'),\n",
       "             iid='deprecated', n_jobs=None,\n",
       "             param_grid={'criterion': ['gini', 'entropy'],\n",
       "                         'max_depth': array([ 5,  6,  7,  8,  9, 10, 11, 12, 13, 14, 15, 16, 17, 18, 19]),\n",
       "                         'min_samples_split': array([2, 3, 4, 5, 6, 7, 8, 9])},\n",
       "             pre_dispatch='2*n_jobs', refit=True, return_train_score=False,\n",
       "             scoring='roc_auc', verbose=0)"
      ]
     },
     "execution_count": 58,
     "metadata": {},
     "output_type": "execute_result"
    }
   ],
   "source": [
    "modelo = DecisionTreeClassifier(random_state=13)\n",
    "\n",
    "grid_search = {\n",
    "    'max_depth': np.arange(5,20,1),\n",
    "    'criterion': ['gini', 'entropy'],\n",
    "    'min_samples_split': np.arange(2, 10, 1)\n",
    "}\n",
    "\n",
    "gscv = GridSearchCV(estimator= modelo,\n",
    "                    param_grid= grid_search, \n",
    "                    scoring='roc_auc' ,\n",
    "                    cv=3)\n",
    "\n",
    "gscv.fit(X_train, y_train)"
   ]
  },
  {
   "cell_type": "code",
   "execution_count": 59,
   "id": "ae5da4ce",
   "metadata": {},
   "outputs": [
    {
     "data": {
      "text/plain": [
       "0.8311680427391938"
      ]
     },
     "execution_count": 59,
     "metadata": {},
     "output_type": "execute_result"
    }
   ],
   "source": [
    "y_pred = gscv.predict_proba(X_val)\n",
    "roc_auc_score(y_val, y_pred[:,1])"
   ]
  },
  {
   "cell_type": "code",
   "execution_count": 60,
   "id": "1f430478",
   "metadata": {},
   "outputs": [
    {
     "data": {
      "text/plain": [
       "{'criterion': 'entropy', 'max_depth': 5, 'min_samples_split': 7}"
      ]
     },
     "execution_count": 60,
     "metadata": {},
     "output_type": "execute_result"
    }
   ],
   "source": [
    "gscv.best_params_"
   ]
  },
  {
   "cell_type": "code",
   "execution_count": null,
   "id": "6a98a8dd",
   "metadata": {},
   "outputs": [],
   "source": []
  },
  {
   "cell_type": "markdown",
   "id": "2db82cb4",
   "metadata": {},
   "source": [
    "# Random Search\n",
    "\n",
    "Funciona de forma muito similar ao Grid Search, criando um grid de parâmetros a serem testados. Porém, com a diferença de que a seleção dos valores escolhidos para teste é *aleatória* dado um conjunto de possibilidades. Ao invés de testar todos com todos, essa metodologia escolhe um valor ao acaso a partir de um conjunto pré-determinado. Mas uma escolha aleatória trás ganho?\n",
    "\n",
    "Sim! [Alguns pesquisadores](https://s3-sa-east-1.amazonaws.com/lcpi/879e38fe-51f5-4f0e-abf1-339de202611b.pdf) perceberam que o Grid Search trás um problema na otimização dos valores: vamos supor que estamos testando os hiperparâmetros W, X, Y e Z, sendo $w$, $x$, $y$ e $z$ a quantidade de valores que cada hiperparâmetro receberá. Porém, modificar o W, por exemplo, trará uma variação desprezível no resultado do nosso modelo. Mas mesmo assim, por estar especificada no Grid Search, essa metodologia irá testar $ w \\times x \\times y \\times z$, o que pode ser um desperdício. \n",
    "\n",
    "Além disso, ao especificar pontos estamos colocando um viés e pode ser que acabemos por não explorar espaços com máximos locais.\n",
    "\n",
    "<img src=\"https://s3-sa-east-1.amazonaws.com/lcpi/ccb2c843-3e26-4f56-bca5-e380d6964751.png\" style=\"height: 250px\"/>\n"
   ]
  },
  {
   "cell_type": "code",
   "execution_count": 89,
   "id": "5d3d8a4c",
   "metadata": {},
   "outputs": [
    {
     "data": {
      "text/plain": [
       "RandomizedSearchCV(cv=3, error_score=nan,\n",
       "                   estimator=DecisionTreeClassifier(ccp_alpha=0.0,\n",
       "                                                    class_weight=None,\n",
       "                                                    criterion='gini',\n",
       "                                                    max_depth=None,\n",
       "                                                    max_features=None,\n",
       "                                                    max_leaf_nodes=None,\n",
       "                                                    min_impurity_decrease=0.0,\n",
       "                                                    min_impurity_split=None,\n",
       "                                                    min_samples_leaf=1,\n",
       "                                                    min_samples_split=2,\n",
       "                                                    min_weight_fraction_leaf=0.0,\n",
       "                                                    presort='deprecated',\n",
       "                                                    random_state=13,\n",
       "                                                    splitter='best'),\n",
       "                   iid='deprecated', n_iter=10, n_jobs=None,\n",
       "                   param_distributions={'criterion': ['gini', 'entropy'],\n",
       "                                        'max_depth': array([10, 11,  5, 16, 18, 16,  9, 16,  8,  4]),\n",
       "                                        'min_samples_split': array([17,  1, 10, 17,  1,  5, 13, 12, 15,  8])},\n",
       "                   pre_dispatch='2*n_jobs', random_state=None, refit=True,\n",
       "                   return_train_score=False, scoring='roc_auc', verbose=0)"
      ]
     },
     "execution_count": 89,
     "metadata": {},
     "output_type": "execute_result"
    }
   ],
   "source": [
    "#implementar random search\n",
    "from sklearn.model_selection import RandomizedSearchCV\n",
    "\n",
    "modelo = DecisionTreeClassifier(random_state=13)\n",
    "\n",
    "grid_search = {\n",
    "    'max_depth': np.random.randint(1,20, 10),\n",
    "    'criterion': ['gini', 'entropy'],\n",
    "    'min_samples_split': np.random.randint(1,20, 10)\n",
    "}\n",
    "\n",
    "rscv = RandomizedSearchCV(estimator= modelo,\n",
    "                          param_distributions= grid_search, \n",
    "                          scoring='roc_auc' ,\n",
    "                          cv=3)\n",
    "\n",
    "rscv.fit(X_train, y_train)"
   ]
  },
  {
   "cell_type": "code",
   "execution_count": 90,
   "id": "84568502",
   "metadata": {},
   "outputs": [
    {
     "data": {
      "text/plain": [
       "{'min_samples_split': 5, 'max_depth': 4, 'criterion': 'entropy'}"
      ]
     },
     "execution_count": 90,
     "metadata": {},
     "output_type": "execute_result"
    }
   ],
   "source": [
    "# Quais os melhores parâmetros?\n",
    "rscv.best_params_"
   ]
  },
  {
   "cell_type": "code",
   "execution_count": 91,
   "id": "d8608e38",
   "metadata": {},
   "outputs": [
    {
     "data": {
      "text/plain": [
       "0.8332928606119474"
      ]
     },
     "execution_count": 91,
     "metadata": {},
     "output_type": "execute_result"
    }
   ],
   "source": [
    "# Qual a performance?\n",
    "y_pred = rscv.predict_proba(X_val)\n",
    "roc_auc_score(y_val, y_pred[:,1])"
   ]
  },
  {
   "cell_type": "code",
   "execution_count": 92,
   "id": "cb42575a",
   "metadata": {},
   "outputs": [
    {
     "data": {
      "text/plain": [
       "{'mean_fit_time': array([0.00336464, 0.00227944, 0.00225957, 0.00356968, 0.00243227,\n",
       "        0.00241653, 0.00208521, 0.00218773, 0.00259741, 0.00216047]),\n",
       " 'std_fit_time': array([0.00040006, 0.00040729, 0.00040416, 0.00176587, 0.00013909,\n",
       "        0.00023346, 0.00013388, 0.00036023, 0.00075893, 0.00046842]),\n",
       " 'mean_score_time': array([0.00291959, 0.00179601, 0.00229136, 0.00265376, 0.00271614,\n",
       "        0.00248973, 0.00182756, 0.00310151, 0.00188239, 0.00181746]),\n",
       " 'std_score_time': array([0.00075175, 0.00018619, 0.00052695, 0.00044946, 0.00016007,\n",
       "        0.0005513 , 0.0002668 , 0.00090997, 0.00052654, 0.00021167]),\n",
       " 'param_min_samples_split': masked_array(data=[17, 17, 8, 8, 5, 10, 12, 17, 10, 8],\n",
       "              mask=[False, False, False, False, False, False, False, False,\n",
       "                    False, False],\n",
       "        fill_value='?',\n",
       "             dtype=object),\n",
       " 'param_max_depth': masked_array(data=[16, 5, 4, 8, 4, 5, 18, 8, 10, 5],\n",
       "              mask=[False, False, False, False, False, False, False, False,\n",
       "                    False, False],\n",
       "        fill_value='?',\n",
       "             dtype=object),\n",
       " 'param_criterion': masked_array(data=['entropy', 'entropy', 'gini', 'gini', 'entropy',\n",
       "                    'entropy', 'gini', 'gini', 'entropy', 'gini'],\n",
       "              mask=[False, False, False, False, False, False, False, False,\n",
       "                    False, False],\n",
       "        fill_value='?',\n",
       "             dtype=object),\n",
       " 'params': [{'min_samples_split': 17, 'max_depth': 16, 'criterion': 'entropy'},\n",
       "  {'min_samples_split': 17, 'max_depth': 5, 'criterion': 'entropy'},\n",
       "  {'min_samples_split': 8, 'max_depth': 4, 'criterion': 'gini'},\n",
       "  {'min_samples_split': 8, 'max_depth': 8, 'criterion': 'gini'},\n",
       "  {'min_samples_split': 5, 'max_depth': 4, 'criterion': 'entropy'},\n",
       "  {'min_samples_split': 10, 'max_depth': 5, 'criterion': 'entropy'},\n",
       "  {'min_samples_split': 12, 'max_depth': 18, 'criterion': 'gini'},\n",
       "  {'min_samples_split': 17, 'max_depth': 8, 'criterion': 'gini'},\n",
       "  {'min_samples_split': 10, 'max_depth': 10, 'criterion': 'entropy'},\n",
       "  {'min_samples_split': 8, 'max_depth': 5, 'criterion': 'gini'}],\n",
       " 'split0_test_score': array([0.74647335, 0.75999216, 0.77302116, 0.75724922, 0.79839342,\n",
       "        0.73883229, 0.74568966, 0.75333072, 0.7460815 , 0.75734718]),\n",
       " 'split1_test_score': array([0.79151803, 0.80340864, 0.80509314, 0.74038843, 0.79458977,\n",
       "        0.79756243, 0.76555688, 0.77705113, 0.78091558, 0.79756243]),\n",
       " 'split2_test_score': array([0.80935394, 0.8634562 , 0.83006342, 0.79003171, 0.85255648,\n",
       "        0.8566191 , 0.80013872, 0.82154182, 0.8600872 , 0.81866825]),\n",
       " 'mean_test_score': array([0.78244844, 0.80895234, 0.80272591, 0.76255645, 0.81517989,\n",
       "        0.79767127, 0.77046175, 0.78397456, 0.79569476, 0.79119262]),\n",
       " 'std_test_score': array([0.02645985, 0.04242052, 0.02334749, 0.02061131, 0.02647482,\n",
       "        0.04808633, 0.02249768, 0.02827412, 0.04770145, 0.02543619]),\n",
       " 'rank_test_score': array([ 8,  2,  3, 10,  1,  4,  9,  7,  5,  6], dtype=int32)}"
      ]
     },
     "execution_count": 92,
     "metadata": {},
     "output_type": "execute_result"
    }
   ],
   "source": [
    "rscv.cv_results_ # note que encontramos um score muito com com apenas 10 tentativas"
   ]
  },
  {
   "cell_type": "markdown",
   "id": "6ae86bca",
   "metadata": {},
   "source": [
    "## Exercicio\n",
    "\n",
    "Otimize seu modelo de knn usando o random search."
   ]
  },
  {
   "cell_type": "code",
   "execution_count": null,
   "id": "09bbf1e1",
   "metadata": {},
   "outputs": [],
   "source": []
  }
 ],
 "metadata": {
  "kernelspec": {
   "display_name": "Python 3",
   "language": "python",
   "name": "python3"
  },
  "language_info": {
   "codemirror_mode": {
    "name": "ipython",
    "version": 3
   },
   "file_extension": ".py",
   "mimetype": "text/x-python",
   "name": "python",
   "nbconvert_exporter": "python",
   "pygments_lexer": "ipython3",
   "version": "3.8.8"
  },
  "toc": {
   "base_numbering": 1,
   "nav_menu": {},
   "number_sections": true,
   "sideBar": true,
   "skip_h1_title": false,
   "title_cell": "Table of Contents",
   "title_sidebar": "Contents",
   "toc_cell": false,
   "toc_position": {
    "height": "calc(100% - 180px)",
    "left": "10px",
    "top": "150px",
    "width": "263.097px"
   },
   "toc_section_display": true,
   "toc_window_display": true
  }
 },
 "nbformat": 4,
 "nbformat_minor": 5
}
