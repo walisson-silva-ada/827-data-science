{
 "cells": [
  {
   "cell_type": "markdown",
   "metadata": {},
   "source": [
    "# 4. Árvore de Decisão\n",
    "---\n",
    "\n",
    "<img src=\"https://selecao-stg.letscode.com.br/favicon.png\" style=\"position: absolute; top: 0.75rem; right: 2rem; width: 50px\" />\n",
    "\n",
    "### Roteiro da Aula\n",
    "\n",
    "1. O que são Árvores de Decisão?\n",
    "2. Como as decisões da árvore são elaboradas?\n",
    "3. Gini e Entropia\n",
    "4. Aplicando o algoritmo da árvore de decisão\n",
    "    - Visualizando a árvore\n",
    "    - Obtendo métricas\n",
    "5. Principais parâmetros da árvore"
   ]
  },
  {
   "cell_type": "markdown",
   "metadata": {
    "tags": []
   },
   "source": [
    "## Introdução\n",
    "\n",
    "Da mesma forma que uma uma regressão logística, uma árvore de decisão representa uma função que toma como entrada uma série de atributos/*features* e retorna uma **decisão**: um valor de saída único.\n",
    "\n",
    "Uma boa analogia é com os manuais de conserto de eletrodomésticos dos anos 90: se uma situação A acontecer, você seguirá os passos descritos pelo caminho A+; caso contrário, seguirá pelo caminho A-; cada caminho levará a diferentes verificações e, consequentemente, a diferentes conclusões.  chegando à sua conclusão por meio da execução de uma série de testes, em geral de \"verdadeiro-falso\". De forma simples e direta, é um conjunto de regras *if-then-else*, sendo de fácil interpretação e implementação.\n",
    "\n",
    "Olhando para o exemplo da imagem a seguir, podemos ilustrar essa sequência: a raiz e cada nó interno na árvore correspondem ao testes de um atributo de entrada do modelo; as folhas representam a decisão para esse caminho que foi percorrido. \n",
    "\n",
    "![tree_nos](https://s3-sa-east-1.amazonaws.com/lcpi/e0995123-6add-49a7-b541-af7b4a5f6cd5.jpg)\n",
    "\n",
    "**Exemplo:**\n",
    "\n",
    "\n",
    "<img src=\"https://didatica.tech/wp-content/uploads/2020/07/image-3.png\" width=500>\n",
    "\n",
    "Porém, os testes que ocorrem nos atributos não são aleatórios: devem ser entendidos como funções de custo que buscam otimizar a homogeneidade de suas subpopulações. Queremos fazer com que cada subpopulação de cada nó esteja cada vez mais homogêneo possível, até chegar a folha, usando para isso uma estratégia de dividir para conquistar."
   ]
  },
  {
   "cell_type": "markdown",
   "metadata": {},
   "source": [
    "### Entendendo o algoritmo de Árvore de Decisão por meio do dataset da Iris\n",
    "\n",
    "<img src=\"https://miro.medium.com/max/384/0*VyeowlJuw5gXYRer.\" />\n",
    "<img src=\"https://miro.medium.com/max/700/1*HMcpfu9zlpTurI2h2mugCQ.png\" />\n",
    "<img src=\"https://miro.medium.com/max/700/1*0iIETN4VtYOFke9MK1zi-g.png\" />\n",
    "<img src=\"https://miro.medium.com/max/700/1*fXpkqRhmvuJq7SvK7XTknw.png\" />\n",
    "\n",
    "\n",
    "Vamos tomar como base uma amostra da tabela do Titanic:"
   ]
  },
  {
   "cell_type": "code",
   "execution_count": 119,
   "metadata": {},
   "outputs": [],
   "source": [
    "# Importação de bibliotecas\n",
    "\n"
   ]
  },
  {
   "cell_type": "code",
   "execution_count": null,
   "metadata": {},
   "outputs": [],
   "source": [
    "# Carregando o dataset \n"
   ]
  },
  {
   "cell_type": "code",
   "execution_count": 209,
   "metadata": {},
   "outputs": [],
   "source": [
    "# Obtendo uma amostra do dataset (random_state=50)\n"
   ]
  },
  {
   "cell_type": "markdown",
   "metadata": {},
   "source": [
    "**Para pensar:** intuitivamente, entre Sex e Parch, qual é a coluna que mais discrimina sobrevivência? Por quê?"
   ]
  },
  {
   "cell_type": "code",
   "execution_count": null,
   "metadata": {},
   "outputs": [],
   "source": []
  },
  {
   "cell_type": "code",
   "execution_count": null,
   "metadata": {},
   "outputs": [],
   "source": []
  },
  {
   "cell_type": "code",
   "execution_count": null,
   "metadata": {},
   "outputs": [],
   "source": []
  },
  {
   "cell_type": "code",
   "execution_count": null,
   "metadata": {},
   "outputs": [],
   "source": []
  },
  {
   "cell_type": "code",
   "execution_count": null,
   "metadata": {},
   "outputs": [],
   "source": []
  },
  {
   "cell_type": "code",
   "execution_count": null,
   "metadata": {},
   "outputs": [],
   "source": []
  },
  {
   "cell_type": "markdown",
   "metadata": {},
   "source": [
    "### Como a Árvore de Decisão escolhe as features que produzem a melhor separação?"
   ]
  },
  {
   "cell_type": "markdown",
   "metadata": {},
   "source": [
    "__Exemplo__\n",
    "\n",
    "Digamos que uma amostra de 30 alunos tem duas variáveis: Sexo (masculino ou feminino), Turma (IX ou X). \n",
    "\n",
    "Digamos também que 15 destes 30 jogam tênis no recreio. \n",
    "\n",
    "A árvore de decisão segregará os alunos com base nos valores das variáveis e **identificará a variável que cria os melhores conjuntos homogêneos de alunos** quanto ao target: quem joga tênis, e quem não joga."
   ]
  },
  {
   "cell_type": "markdown",
   "metadata": {},
   "source": [
    "Toda árvore começa pelo nó raiz, então, uma pergunta natural é: **qual feature utilizamos para fazer a quebra do nó raiz: sexo ou turma?**\n",
    "\n",
    "Há duas quebras possíveis:\n",
    "\n",
    "<img src=\"https://i2.wp.com/www.vooo.pro/insights/wp-content/uploads/2016/12/RDS-Vooo-Tutorial_completo_arvore_decisao_03.jpg?resize=617%2C293&ssl=1\" width=500>\n",
    "\n",
    "Vemos que, **dependendo da feature que utilizamos pra fazer a quebra**, conseguimos **graus de separações diferentes dos dados com relação ao target**:\n",
    "\n",
    "\n",
    "<table>\n",
    "<thead>\n",
    "  <tr>\n",
    "    <th colspan=\"4\"><center>Sexo</center></th>\n",
    "  </tr>\n",
    "</thead>\n",
    "<tbody>\n",
    "  <tr>\n",
    "    <td colspan=\"2\"><center>Meninas</center></td>\n",
    "    <td colspan=\"2\"><center>Meninos</center></td>\n",
    "  </tr>\n",
    "  <tr>\n",
    "    <td><center>jogam tênis</center></td>\n",
    "    <td><center>NÃO jogam tênis</center></td>\n",
    "    <td><center>jogam tênis</center></td>\n",
    "    <td><center>NÃO jogam tênis</center></td>\n",
    "  </tr>\n",
    "  <tr>\n",
    "    <td><center>2</center></td>\n",
    "    <td><center>8</center></td>\n",
    "    <td><center>13</center></td>\n",
    "    <td><center>7</center></td>\n",
    "  </tr>\n",
    "  <tr>\n",
    "    <td colspan=\"2\"><center>10</center></td>\n",
    "    <td colspan=\"2\"><center>20</center></td>\n",
    "  </tr>\n",
    "</tbody>\n",
    "</table>\n",
    "\n",
    "\n",
    "<table>\n",
    "<thead>\n",
    "  <tr>\n",
    "    <th colspan=\"4\"><center>turma</center></th>\n",
    "  </tr>\n",
    "</thead>\n",
    "<tbody>\n",
    "  <tr>\n",
    "    <td colspan=\"2\"><center>IX</center></td>\n",
    "    <td colspan=\"2\"><center>X</center></td>\n",
    "  </tr>\n",
    "  <tr>\n",
    "    <td><center>jogam tênis</center></td>\n",
    "    <td><center>NÃO jogam tênis</center></td>\n",
    "    <td><center>jogam tênis</center></td>\n",
    "    <td><center>NÃO jogam tênis</center></td>\n",
    "  </tr>\n",
    "  <tr>\n",
    "    <td><center>6</center></td>\n",
    "    <td><center>8</center></td>\n",
    "    <td><center>9</center></td>\n",
    "    <td><center>7</center></td>\n",
    "  </tr>\n",
    "  <tr>\n",
    "    <td colspan=\"2\"><center>14</center></td>\n",
    "    <td colspan=\"2\"><center>16</center></td>\n",
    "  </tr>\n",
    "</tbody>\n",
    "</table>\n",
    "\n",
    "Como decidir qual das quebrar acima **separou melhor os dados com relação ao target?**\n",
    "\n",
    "Matematicamente, o modelo pode usar dois critérios diferentes para decidir como fazer as quebras na árvore: o **critério de Gini** ou o **critério da entropia**."
   ]
  },
  {
   "cell_type": "markdown",
   "metadata": {},
   "source": [
    "______\n",
    "\n",
    "### Critério do Gini\n",
    "\n",
    "A **impureza de Gini** mede o quão \"impuras\" são as folhas das árvores construídas após as quebras nos nós. O coeficiente é dado por:\n",
    "\n",
    "$$Gini(D) = 1 - \\sum{p_{i}^2}$$\n",
    "\n",
    "Onde $p_i$ são as **proporções** de separação do target em cada quebra.\n",
    "\n",
    "Aqui estaremos interessados **em como a impureza muda após as quebras**. Nosso objetivo será **maximizar a purificação proporcionada pela quebra nos nós** -- mais precisamente, estamos interessados em determinar **qual é a quebra que proporciona a maior purificação**.\n",
    "\n",
    "- **Impureza antes da divisão**: Como não havia separação alguma, a impureza era dada simplesmente pelo balanço natural dos dados: \n",
    "\n",
    "$$G(\\text{pré-divisão}) = 1 - ((15/30)^2 + (15/30)^2) = 0.5$$"
   ]
  },
  {
   "cell_type": "markdown",
   "metadata": {},
   "source": [
    "Temos duas quebras possíveis:\n",
    "\n",
    "#### 1. Divisão por **sexo**:\n",
    "\n",
    "Após a divisão dos dados pela feature **sexo**, passamos a ter as seguintes impurezas, segundo a tabela acima: \n",
    "\n",
    "- $G(\\text{meninas}) = 1 - (\\frac{2}{10}^2 + \\frac{8}{10}^2) = 0.319$\n",
    "\n",
    "- $G(\\text{meninos}) = 1 - ( \\frac{13}{20}^2 + \\frac{7}{20}^2) = 0.454$\n",
    "\n",
    "Ou seja, após a divisão, a impureza total passa a ser a média ponderada: \n",
    "\n",
    "<br>\n",
    "\n",
    "$G(\\text{pós-divisão}) = \\frac{10}{30} \\times G(\\text{meninas}) + \\frac{20}{30} \\times G(\\text{meninos})\n",
    "= 0.33 \\times 0.319 + 0.66 \\times 0.454\n",
    "= 0.40491$\n",
    "\n",
    "Assim, **a perda de impureza proporcionada pela quebra** dos dados segundo a feature **sexo** é de:\n",
    "\n",
    "<br>\n",
    "\n",
    "$$\\Delta G_{\\text{sexo}} = G(\\text{pré-divisão}) - G(\\text{pós-divisão}) = 0.5 - 0.40491 = 0.095$$\n",
    "    \n",
    "    \n",
    "<br> "
   ]
  },
  {
   "cell_type": "markdown",
   "metadata": {},
   "source": [
    "#### 2. Divisão por **classe**:\n",
    "\n",
    "Após a divisão dos dados pela feature **classe**, passamos a ter as seguintes impurezas, segundo a tabela acima:\n",
    "\n",
    "- $G(\\text{IX}) = 1 - (\\frac{6}{14}^2 + \\frac{8}{14}^2) = 0.489$\n",
    "\n",
    "- $G(\\text{X}) = 1 - ( \\frac{9}{16}^2 + \\frac{7}{16}^2) = 0.492$\n",
    "\n",
    "Ou seja, após a divisão, a impureza total passa a ser a média ponderada: \n",
    "\n",
    "<br>\n",
    "\n",
    "$G(\\text{pós-divisão}) = \\frac{14}{30} \\times G(\\text{IX}) + \\frac{16}{30} \\times G(\\text{X})\n",
    "= 0.46 \\times 0.489 + 0.53 \\times 0.492\n",
    "= 0.4857$\n",
    "\n",
    "Assim, **a perda de impureza proporcionada pela quebra** dos dados segundo a feature **classe** é de:\n",
    "\n",
    "<br>\n",
    "\n",
    "$$\\Delta G_{\\text{classe}} = G(\\text{pré-divisão}) - G(\\text{pós-divisão}) = 0.5 - 0.4857 = 0.014$$\n",
    " "
   ]
  },
  {
   "cell_type": "markdown",
   "metadata": {},
   "source": [
    " \n",
    "Agora, como escolher a melhor quebra?\n",
    "\n",
    "> O **critério de Gini** consiste em **escolher a quebra que proporciona a maior perda de impureza**, ou, equivalentemente, **a maior purificação**.\n",
    "\n",
    "Assim, a divisão a ser escolhida seria por **sexo**. \n",
    "\n",
    "Depois, aplica-se o mesmo procedimento para os nós resultantes."
   ]
  },
  {
   "cell_type": "markdown",
   "metadata": {},
   "source": [
    "_________\n",
    "\n",
    "### Critério de entropia\n",
    "\n",
    "A **entropia** é uma quantidade definida em física e teoria da informação com o objetivo de quantificar **o grau de desordem de um sistema**, ou, equivalentemente, **o quanto de informação se tem sobre determinado sistema**.\n",
    "\n",
    "A entropia é dada por:\n",
    "\n",
    " $$E = -\\sum{p_{i} \\log_{2}{p_{i}}}$$\n",
    " \n",
    "Onde $p_i$ são as **proporções** de separação do target em cada quebra.\n",
    "\n",
    "Aqui estaremos interessados **em como a impureza muda após as quebras**. \n",
    " \n",
    "Aqui também estaremos interessados **em como a entropia muda após as quebras**. Nosso objetivo será **maximizar o ganho de informação proporcionado pela quebra nos nós** -- mais precisamente, estamos interessados em determinar **qual é a quebra que proporciona o maior ganho de informação**.\n",
    "\n",
    "- **Entropia antes da divisão**: \n",
    "\n",
    "$$E(pré-divisão) = \\frac{15}{10}log_{2}{\\frac{15}{10}} + \\frac{15}{10}log_{2}{\\frac{15}{10}} = 1$$\n",
    "\n",
    "\n",
    "Temos duas quebras possíveis:"
   ]
  },
  {
   "cell_type": "markdown",
   "metadata": {},
   "source": [
    "#### 1. Divisão por sexo: \n",
    "\n",
    "- $E(\\text{meninas}) = -1 \\times (\\frac{2}{10} \\log_{2}\\frac{2}{10} + \\frac{8}{10} \\log_{2}\\frac{8}{10}) = 0.721$\n",
    "- $E(\\text{meninos}) = -1 \\times (\\frac{13}{20} \\log_{2}\\frac{13}{20} + \\frac{7}{20} \\log_{2}\\frac{7}{20}) = 0.934$\n",
    "\n",
    "A entropia ponderada após a divisão por **sexo** é:\n",
    "\n",
    "<br>\n",
    "\n",
    "$E(\\text{pós-divisão}) = \\frac{10}{30} \\times E(\\text{meninas}) + \\frac{20}{30} \\times E(\\text{meninos}) =  0.863$\n",
    "\n",
    "Assim, o ganho de informação após a divisão por **sexo** é:\n",
    "\n",
    "<br>\n",
    "\n",
    "$$\\Delta E_{\\text{sexo}} = E(\\text{pré-divisão}) - E(\\text{pós-divisão}) = 1 - 0.863 = 0.137$$\n",
    "\n",
    "<br>"
   ]
  },
  {
   "cell_type": "markdown",
   "metadata": {},
   "source": [
    "#### 2. Divisão por classe:\n",
    "\n",
    "- $E(\\text{IX}) = -1 \\times (\\frac{6}{14} \\log_{2}\\frac{6}{14} + \\frac{8}{14} \\log_{2}\\frac{8}{14}) = 0.985$\n",
    "- $E(\\text{X}) = -1 \\times (\\frac{9}{16} \\log_{2}\\frac{9}{16} + \\frac{7}{16} \\log_{2}\\frac{7}{16}) = 0.988$\n",
    "\n",
    "A entropia ponderada após a divisão por **classe** é:\n",
    "\n",
    "<br>\n",
    "\n",
    "$E(\\text{pós-divisão}) = \\frac{10}{30} \\times E(\\text{IX}) + \\frac{20}{30} \\times E(\\text{X}) =  0.986$\n",
    "\n",
    "Assim, o ganho de informação após a divisão por **classe** é:\n",
    "\n",
    "<br>\n",
    "\n",
    "$$\\Delta E_{\\text{classe}} = E(\\text{pré-divisão}) - E(\\text{pós-divisão}) = 1 - 0.986 = 0.014$$"
   ]
  },
  {
   "cell_type": "markdown",
   "metadata": {},
   "source": [
    "Também pela entropia, a divisão a ser escolhida seria por **sexo**. \n",
    "\n",
    "Depois, aplica-se o mesmo procedimento para os nós resultantes, até obter-se nós puros."
   ]
  },
  {
   "cell_type": "markdown",
   "metadata": {},
   "source": [
    "---\n",
    "\n",
    "### Critério da Entropia\n",
    "\n",
    "Em árvores de decisão, estamos buscando separar as instâncias de forma a obter o máximo de homogeneidade possível nas folhas, observando a variável resposta. Para chegar nesse ponto, olhamos para o conjunto de dados, escolhemos uma variável e um limiar e dividimos em dois subconjuntos baseados nisso. A partir daí podemos repetir o passo anterior para cada subconjunto, e para cada subconjunto gerado nos subconjuntos, fazendo um processo recursivo até que tenhamos nosso conjunto de dados perfeitamente separado.\n",
    "\n",
    "Porém, precisamos escolher um critério para escolher uma variável e limiar para separar em dois subconjuntos. Para isso, usaremos um conceito da Teoria da Informação chamado Entropia, que mede a aleatoriedade de uma variável aleatória, sendo dada por:\n",
    "\n",
    "$$H(\\textrm{VA}) = -\\sum_i{p_i \\times \\log_{2}{p_i}}$$\n",
    "\n",
    "\n",
    "Exemplificando com uma moeda $M_1$ não viciada, podemos citar dois eventos: \n",
    "\n",
    "- 1, cara, com probabilidade $p_1 = 0.5$\n",
    "- 2, coroa, com probabilidade $p_2 = 0.5$\n",
    "\n",
    "Dessa forma, a entropia $H(M_1)$ é:\n",
    "\n",
    "$$H(M_1) = -(0.5 \\times \\log_{2}{0.5} + 0.5 \\times \\log_{2}{0.5}) = 1$$\n",
    "\n",
    "Logo, a entropia é máxima (casos binário), significando que essa variável possui um alto nível de aleatoriedade."
   ]
  },
  {
   "cell_type": "code",
   "execution_count": 9,
   "metadata": {},
   "outputs": [
    {
     "data": {
      "text/plain": [
       "1.0"
      ]
     },
     "execution_count": 9,
     "metadata": {},
     "output_type": "execute_result"
    }
   ],
   "source": [
    "-(0.5 * np.log2(0.5) + 0.5*np.log2(0.5))"
   ]
  },
  {
   "cell_type": "markdown",
   "metadata": {},
   "source": [
    "Exemplificando com uma moeda $M_2$ viciada, podemos citar dois eventos: \n",
    "\n",
    "- 1, cara, com probabilidade $p_1 = 0.1$\n",
    "- 2, coroa, com probabilidade $p_2 = 0.9$\n"
   ]
  },
  {
   "cell_type": "code",
   "execution_count": 10,
   "metadata": {},
   "outputs": [
    {
     "data": {
      "text/plain": [
       "0.4689955935892812"
      ]
     },
     "execution_count": 10,
     "metadata": {},
     "output_type": "execute_result"
    }
   ],
   "source": [
    "-(0.1*np.log2(0.1) + 0.9*np.log2(0.9))"
   ]
  },
  {
   "cell_type": "markdown",
   "metadata": {},
   "source": [
    "Podemos verificar esse pico ao pensar em moedas viciadas com probabilidades do evento 1 linearmente espaçadas entre 0 e 1:"
   ]
  },
  {
   "cell_type": "code",
   "execution_count": 11,
   "metadata": {},
   "outputs": [
    {
     "data": {
      "text/plain": [
       "[]"
      ]
     },
     "execution_count": 11,
     "metadata": {},
     "output_type": "execute_result"
    },
    {
     "data": {
      "image/png": "[encoded data removed]",
      "text/plain": [
       "<Figure size 432x288 with 1 Axes>"
      ]
     },
     "metadata": {},
     "output_type": "display_data"
    }
   ],
   "source": [
    "p1 = np.arange(0.001, 1, 0.001)\n",
    "p2 = 1 - p1\n",
    "\n",
    "entropia = -(p1*np.log2(p1) + p2*np.log2(p2))\n",
    "\n",
    "plt.plot(p1, entropia)\n",
    "plt.xlabel('Probabilidade de P1')\n",
    "plt.ylabel('Entropia')\n",
    "\n",
    "plt.plot()"
   ]
  },
  {
   "cell_type": "markdown",
   "metadata": {},
   "source": [
    "$$H(\\textrm{VA}) = -\\sum_i{p_i \\times \\log_{2}{p_i}}$$\n",
    "\n",
    "\n",
    "Exemplificando com uma moeda $M_1$ não viciada, podemos citar dois eventos: \n",
    "\n",
    "- 1, cara, com probabilidade $p_1 = 0.5$\n",
    "- 2, coroa, com probabilidade $p_2 = 0.5$\n",
    "\n",
    "Dessa forma, a entropia $H(M_1)$ é:\n",
    "\n",
    "$$H(M_1) = -(0.5 \\times \\log_{2}{0.5} + 0.5 \\times \\log_{2}{0.5}) = 1$$"
   ]
  },
  {
   "cell_type": "markdown",
   "metadata": {},
   "source": [
    "#### **Para pensar:** Qual que é a entropia da variável Survived?\n",
    "\n",
    "Primeiro, quais são as probabilidades de 0 e 1 na variável `Survived`?"
   ]
  },
  {
   "cell_type": "code",
   "execution_count": 212,
   "metadata": {},
   "outputs": [],
   "source": [
    "calc_entropy = lambda p1, p2: -(p1 * np.log2(p1) + p2 * np.log2(p2))"
   ]
  },
  {
   "cell_type": "code",
   "execution_count": null,
   "metadata": {},
   "outputs": [],
   "source": []
  },
  {
   "cell_type": "code",
   "execution_count": null,
   "metadata": {},
   "outputs": [],
   "source": []
  },
  {
   "cell_type": "markdown",
   "metadata": {},
   "source": [
    "#### **Para pensar:** E se nós dividirmos pelo `Sex`, como ficariam as entropias?"
   ]
  },
  {
   "cell_type": "code",
   "execution_count": null,
   "metadata": {},
   "outputs": [],
   "source": []
  },
  {
   "cell_type": "code",
   "execution_count": null,
   "metadata": {},
   "outputs": [],
   "source": []
  },
  {
   "cell_type": "markdown",
   "metadata": {},
   "source": [
    "## Ganho de Informação\n",
    "    \n",
    "Em casos binários, no qual uma variável aleatória assume o valor 0 ou 1, podemos escrever a entropia como\n",
    "\n",
    "$$H(\\textrm{VA}) = B\\left( \\frac{p}{p + n}\\right)= -\\big[p \\times \\log_{2}{p} + (1 - p) \\times \\log_{2}(1 - p)\\big]$$\n",
    "\n",
    "O que queremos obter com a divisão do conjunto de dados são subconjuntos que diminuam ao máximo a aleatoriedade da variável resposta do conjunto original. Logo, para cada atributo do conjunto de dados, queremos calcular o **Ganho de Informação** que mede a redução na entropia das partições obtidas de acordo os valores desse atributo. Isso é dado pela diferença entre a entropia do conjunto de exemplos original e a soma ponderada da entropia das partições, sendo a construção da árvore orientada pelo objetivo de reduzir a entropia.\n",
    "\n",
    "Ou seja, um atributo $A$ com $d$ valores possíveis para ele gera $S$ subconjuntos $S_1, S_2, ..., S_d$. Cada subconjunto $S_k$ possui $p_k$ exemplos positivos e $n_k$ exemplos negativos, nos dando uma entropia de $B\\left( \\frac{p_k}{p_k + n_k}\\right)$. Ponderando pela quantidade de exemplos dos subconjuntos, temos um conteúdo de informação esperado do atributo $A_i$ de\n",
    "\n",
    "$$\n",
    "  E(A_i) = \\sum_i{\\frac{p_k + n_k}{p + k} B\\left( \\frac{p_k}{p_k + n_k} \\right)}\n",
    "$$\n",
    "\n",
    "Dessa forma, o Ganho de Informação do atributo $A_i$ é a redução na entropia do estado anterior para o estado posterior, na forma:\n",
    "\n",
    "$$\n",
    "  \\textrm{Ganho}(A_i) =  B\\left( \\frac{p}{p + n} \\right) - E(A_i)\n",
    "$$\n",
    "\n",
    "\n",
    "### Em outras palavras\n",
    "\n",
    "O ganho de informação é calculado a partir dessa lógica. Se quando eu analiso um atributo, os registros das bases para cada lado são homogêneos ou próximos disso, temos um alto ganho de informação. Afinal, sabemos que se optarmos por determinada condição, é muito provável que saibamos exatamente a saída esperada ou estejamos mais próximos de descobrir. \n",
    "\n",
    "![](https://blog.somostera.com/hs-fs/hubfs/Blog_free_images/ganho-de-informacao-arvore-de-decisao.png?width=600&name=ganho-de-informacao-arvore-de-decisao.png)\n",
    "\n"
   ]
  },
  {
   "cell_type": "markdown",
   "metadata": {},
   "source": [
    "---"
   ]
  },
  {
   "cell_type": "markdown",
   "metadata": {},
   "source": [
    "### Em resumo...\n",
    "\n",
    "#### O que é uma Árvore de Decisão?\n",
    "\n",
    "- Um algoritmo que, a partir da definição de algumas regras, direciona a resposta de uma nova instância para alguma folha específica que trará a previsão.\n",
    "- As regras são criadas de forma a ter nós e folhas cada vez \"mais puros\" (mais homogêneos, ou com \"menos incerteza\") em relação a variável resposta.\n",
    "\n",
    "#### O que é Gini?\n",
    "\n",
    "- Refere-se ao grau de impureza de uma amostra.\n",
    "- Quanto mais misturados os dados, maior a impureza e, portanto, maior o valor do Gini.\n",
    "- O Gini varia entre 0 e 0,5.\n",
    "\n",
    "\n",
    "#### O que é Entropia?\n",
    "\n",
    "- Grau de desordem de uma amostra.\n",
    "- Nível de aleatoriedade.\n",
    "- Quanto maior a entropia, mais aleatório.\n",
    "- A entropia varia entre 0 (entropia mínima) e 1 (entropia máxima).\n",
    "\n",
    "#### O que é ganho de informação?\n",
    "\n",
    "- É a diminuição da entropia do cenário pré-quebra para o cenário pós-quebra.  \n",
    "- Quanto maior o ganho de informação, mais predizível se tornará a variável.  \n",
    "- Por outro lado, se o ganho de informação for baixo, o grau de incerteza ao se tentar prever o valor da variável não vai cair significativamente.\n",
    "\n",
    "---"
   ]
  },
  {
   "cell_type": "markdown",
   "metadata": {},
   "source": [
    "### Aplicando o algoritmo de Árvore de Decisão no dataset do Titanic (`Pclass` e `Sex`)"
   ]
  },
  {
   "cell_type": "code",
   "execution_count": null,
   "metadata": {},
   "outputs": [],
   "source": []
  },
  {
   "cell_type": "code",
   "execution_count": null,
   "metadata": {},
   "outputs": [],
   "source": []
  },
  {
   "cell_type": "code",
   "execution_count": null,
   "metadata": {},
   "outputs": [],
   "source": []
  },
  {
   "cell_type": "code",
   "execution_count": null,
   "metadata": {},
   "outputs": [],
   "source": []
  },
  {
   "cell_type": "code",
   "execution_count": null,
   "metadata": {},
   "outputs": [],
   "source": []
  },
  {
   "cell_type": "code",
   "execution_count": null,
   "metadata": {},
   "outputs": [],
   "source": []
  },
  {
   "cell_type": "markdown",
   "metadata": {},
   "source": [
    "#### Calculando as métricas do modelo"
   ]
  },
  {
   "cell_type": "code",
   "execution_count": null,
   "metadata": {},
   "outputs": [],
   "source": []
  },
  {
   "cell_type": "code",
   "execution_count": null,
   "metadata": {},
   "outputs": [],
   "source": []
  },
  {
   "cell_type": "code",
   "execution_count": null,
   "metadata": {},
   "outputs": [],
   "source": []
  },
  {
   "cell_type": "markdown",
   "metadata": {},
   "source": [
    "### Modelo com `Fare` e `Sex`"
   ]
  },
  {
   "cell_type": "code",
   "execution_count": null,
   "metadata": {},
   "outputs": [],
   "source": []
  },
  {
   "cell_type": "code",
   "execution_count": null,
   "metadata": {},
   "outputs": [],
   "source": []
  },
  {
   "cell_type": "code",
   "execution_count": null,
   "metadata": {},
   "outputs": [],
   "source": []
  },
  {
   "cell_type": "code",
   "execution_count": null,
   "metadata": {},
   "outputs": [],
   "source": []
  },
  {
   "cell_type": "code",
   "execution_count": null,
   "metadata": {},
   "outputs": [],
   "source": []
  },
  {
   "cell_type": "code",
   "execution_count": null,
   "metadata": {},
   "outputs": [],
   "source": []
  },
  {
   "cell_type": "markdown",
   "metadata": {},
   "source": [
    "#### Analisando a região de decisão do modelo\n",
    "\n",
    "> [Como plotar a região de decisão de um algoritmo de ML?](http://rasbt.github.io/mlxtend/user_guide/plotting/plot_decision_regions/)"
   ]
  },
  {
   "cell_type": "code",
   "execution_count": null,
   "metadata": {},
   "outputs": [],
   "source": []
  },
  {
   "cell_type": "code",
   "execution_count": null,
   "metadata": {},
   "outputs": [],
   "source": []
  },
  {
   "cell_type": "code",
   "execution_count": null,
   "metadata": {},
   "outputs": [],
   "source": []
  },
  {
   "cell_type": "code",
   "execution_count": null,
   "metadata": {},
   "outputs": [],
   "source": []
  },
  {
   "cell_type": "markdown",
   "metadata": {},
   "source": [
    "### Atributos mais importantes\n",
    "- max_depth\n",
    "- min_samples_split\n",
    "- min_samples_leaf"
   ]
  },
  {
   "cell_type": "markdown",
   "metadata": {},
   "source": [
    "#### Considerando a variável idade (`Fare`, `Sex`, `Age`)"
   ]
  },
  {
   "cell_type": "code",
   "execution_count": null,
   "metadata": {},
   "outputs": [],
   "source": []
  },
  {
   "cell_type": "code",
   "execution_count": null,
   "metadata": {},
   "outputs": [],
   "source": []
  },
  {
   "cell_type": "code",
   "execution_count": null,
   "metadata": {},
   "outputs": [],
   "source": []
  },
  {
   "cell_type": "code",
   "execution_count": null,
   "metadata": {},
   "outputs": [],
   "source": []
  },
  {
   "cell_type": "markdown",
   "metadata": {},
   "source": [
    "#### Calculando Métricas\n",
    "\n",
    "- Acurácia\n",
    "- Matriz de Confusão\n",
    "- ROC AUC"
   ]
  },
  {
   "cell_type": "code",
   "execution_count": null,
   "metadata": {},
   "outputs": [],
   "source": []
  },
  {
   "cell_type": "code",
   "execution_count": null,
   "metadata": {},
   "outputs": [],
   "source": []
  },
  {
   "cell_type": "code",
   "execution_count": null,
   "metadata": {},
   "outputs": [],
   "source": []
  },
  {
   "cell_type": "markdown",
   "metadata": {},
   "source": [
    "#### Divisão Treino/Teste (e visualizando um problema)"
   ]
  },
  {
   "cell_type": "code",
   "execution_count": null,
   "metadata": {},
   "outputs": [],
   "source": []
  },
  {
   "cell_type": "code",
   "execution_count": null,
   "metadata": {},
   "outputs": [],
   "source": []
  },
  {
   "cell_type": "code",
   "execution_count": null,
   "metadata": {},
   "outputs": [],
   "source": []
  },
  {
   "cell_type": "code",
   "execution_count": null,
   "metadata": {},
   "outputs": [],
   "source": []
  },
  {
   "cell_type": "code",
   "execution_count": null,
   "metadata": {},
   "outputs": [],
   "source": []
  },
  {
   "cell_type": "markdown",
   "metadata": {
    "tags": []
   },
   "source": [
    "### Parâmetros importantes\n",
    "\n",
    "- `max_depth`: profundidade máxima da árvore.\n",
    "- `min_samples_split`: Número mínimo de amostras para separá-las, gerando um novo nó.\n",
    "- `min_samples_leaf`: Número mínimo de amostras na folha."
   ]
  },
  {
   "cell_type": "code",
   "execution_count": null,
   "metadata": {},
   "outputs": [],
   "source": []
  },
  {
   "cell_type": "code",
   "execution_count": null,
   "metadata": {},
   "outputs": [],
   "source": []
  },
  {
   "cell_type": "code",
   "execution_count": null,
   "metadata": {},
   "outputs": [],
   "source": []
  },
  {
   "cell_type": "code",
   "execution_count": null,
   "metadata": {},
   "outputs": [],
   "source": []
  },
  {
   "cell_type": "markdown",
   "metadata": {},
   "source": [
    "### Por que árvores de decisão são tão populares?\n",
    "\n",
    "Como pode-se ver, árvores de decisões são conceitualmente simples, porém poderosas. Sua popularidade é, principalmente, devido a suas características singulares:\n",
    "\n",
    "1. Fácil explicabilidade e interpretação, já que podemos facilmente visualizá-las (quando não são muito profundas).\n",
    "2. Requerem pouco esforço na preparação dos dados, métodos baseados em árvores normalmente não requerem normalização dos dados. Além disso, conseguem lidar com valores faltantes, categóricos e numéricos.\n",
    "3. Complexidade logarítmica na etapa de predição.\n",
    "4. São capazes de lidar com problemas com múltiplos rótulos.\n",
    "\n",
    "### Nem tudo são flores!\n",
    "\n",
    "Árvores de decisão possuem alguns probleminhas que podem degradar seu poder preditivo, são eles:\n",
    "\n",
    "1. Árvore crescida até sua profundidade máxima pode decorar o conjunto de treino (o temido overfitting), o que pode degradar seu poder preditivo quando aplicado a novos dados. Isso pode ser mitigado \"podando\" a árvore de decisão ao atribuir uma profundidade máxima ou uma quantidade máxima de folhas.\n",
    "2. São modelos instáveis (alta variância), pequena variações nos dados de treino podem resultar em árvores completamente distintas. Isso pode ser evitado ao treinarmos várias árvores distintas e agregar suas predições (que veremos nas próximas aulas).\n",
    "3. Como vimos, o algoritmo de construção da árvore de decisão é guloso, ou seja, não garante a construção da melhor estrutura para o dados de treino em questão. Esse problema também pode ser mitigado ao treinarmos várias árvores distintas e agregar suas predições."
   ]
  },
  {
   "cell_type": "markdown",
   "metadata": {
    "tags": []
   },
   "source": [
    "### Exercício\n",
    "\n",
    "Aplique a árvore de decisão no dataset da iris. Explore o parâmetro `max_depth` e visualize a árvore."
   ]
  },
  {
   "cell_type": "code",
   "execution_count": null,
   "metadata": {},
   "outputs": [],
   "source": []
  },
  {
   "cell_type": "code",
   "execution_count": null,
   "metadata": {},
   "outputs": [],
   "source": []
  },
  {
   "cell_type": "code",
   "execution_count": null,
   "metadata": {},
   "outputs": [],
   "source": []
  },
  {
   "cell_type": "code",
   "execution_count": null,
   "metadata": {},
   "outputs": [],
   "source": []
  },
  {
   "cell_type": "code",
   "execution_count": null,
   "metadata": {},
   "outputs": [],
   "source": []
  }
 ],
 "metadata": {
  "kernelspec": {
   "display_name": "Python 3",
   "language": "python",
   "name": "python3"
  },
  "language_info": {
   "codemirror_mode": {
    "name": "ipython",
    "version": 3
   },
   "file_extension": ".py",
   "mimetype": "text/x-python",
   "name": "python",
   "nbconvert_exporter": "python",
   "pygments_lexer": "ipython3",
   "version": "3.10.2"
  }
 },
 "nbformat": 4,
 "nbformat_minor": 4
}
