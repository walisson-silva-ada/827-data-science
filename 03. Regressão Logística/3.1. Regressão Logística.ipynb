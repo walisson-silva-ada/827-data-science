{
 "cells": [
  {
   "cell_type": "markdown",
   "metadata": {},
   "source": [
    "# 3.1. Regressão Logística\n",
    "---\n",
    "\n",
    "<img src=\"https://selecao-stg.letscode.com.br/favicon.png\" style=\"position: absolute; top: 0.75rem; right: 2rem; width: 50px\" />\n",
    "\n",
    "### Roteiro da Aula\n",
    "\n",
    "1. Introdução  \n",
    "    a. Problemas de classificação    \n",
    "    b. Resolver um problema de classificação com Regressão Linear?    \n",
    "    c. A matemática por trás da Regressão Logística\n",
    "2. Aplicando a Regressão Logística nos dados do Titanic  \n",
    "    a. Analisando os coeficientes da Regressão Logística  \n",
    "    b. Adicionando mais variáveis explicativas "
   ]
  },
  {
   "cell_type": "markdown",
   "metadata": {},
   "source": [
    "## 1) Introdução\n",
    "\n",
    "**Problemas de classificação** são aqueles em que queremos determinar a que **categoria ou classe** dentro de um **conjunto discreto de classes** uma dada observação pertence, com base em suas features.\n",
    "\n",
    "Para isso, construímos um **classificador**: modelo que tem como input as features (contínuas ou discretas) e como output uma entre as classes (discretas).\n",
    "\n",
    "> Principal diferença entre problemas de regressão e classificação:\n",
    "> - Regressão: valores contínuos;\n",
    "> - Classificação: valores (classes) discretas (binárias ou não).\n",
    "\n",
    "<br />\n",
    "\n",
    "<img src=\"https://i0.wp.com/vinodsblog.com/wp-content/uploads/2018/11/Classification-vs-Regression.png?fit=2048%2C1158&ssl=1\" width=700>\n",
    "\n",
    "<br/>\n",
    "\n",
    "<img src=\"https://i.pinimg.com/originals/71/8e/6a/718e6a40e1782bead960e58d3c52663b.png\" width=300>"
   ]
  },
  {
   "cell_type": "markdown",
   "metadata": {},
   "source": [
    "Problemas de classificação são comumente divididos com relação ao **número de classes** a serem preditas (isto é, com relação à estrutura do espaço de target):\n",
    "\n",
    "- Classificação binária: duas classes (0 e 1);\n",
    "- Classificação multiclasse: $n$ classes (0, 1, ..., $n-1$), com $n > 2 \\in \\mathbb{N}$"
   ]
  },
  {
   "cell_type": "markdown",
   "metadata": {},
   "source": [
    "Exemplos de problemas de classificação:\n",
    "- Detecção de e-mails SPAM: um e-mail é SPAM ou não?;\n",
    "    - Features: palavras contidas no corpo do e-mail; remetente; assunto;\n",
    "- Detecção de doenças: que codição médica a pessoa tem?\n",
    "    - Features: sintomas fisiológicos; resultados de exames (medidas de variáveis biológicas);\n",
    "- Detecção do tipo de documento: secreto, confidencial ou não-sensível?\n",
    "    - Features: palavras no corpo do texto; título;\n",
    "- Detecção de fraudes de cartão de crédito: uma operação é fraudulenta ou não?;\n",
    "    - Features: histórico de transações; hora, local e frequência das transações; tipo de compra;\n",
    "- Modelo de risco de crédito: qual é a chance de determinada pessoa não pagar seu empréstimo?\n",
    "    - Features: histórico de pagamento; score de crédito;\n",
    "    \n",
    "    \n",
    "<img src=\"https://developers.google.com/machine-learning/guides/text-classification/images/TextClassificationExample.png\" width=500>\n",
    "\n",
    "\n",
    "\n",
    "Veremos hoje um dos mais simples e importantes classificadores: a **Regressão Logística!**"
   ]
  },
  {
   "cell_type": "markdown",
   "metadata": {},
   "source": [
    "### Importações"
   ]
  },
  {
   "cell_type": "code",
   "execution_count": null,
   "metadata": {},
   "outputs": [],
   "source": []
  },
  {
   "cell_type": "markdown",
   "metadata": {},
   "source": [
    "### Importando o Dataset"
   ]
  },
  {
   "cell_type": "code",
   "execution_count": null,
   "metadata": {},
   "outputs": [],
   "source": []
  },
  {
   "cell_type": "code",
   "execution_count": null,
   "metadata": {},
   "outputs": [],
   "source": []
  },
  {
   "cell_type": "markdown",
   "metadata": {},
   "source": [
    "### Introdução Intuitiva\n",
    "\n",
    "Uma Regressão Linear Múltipla buscar entender os relacionamentos entre diversas variáveis explicativas (x) com a variável resposta (y), que, de forma matemática, busca achar os coeficientes ($\\beta_n$) da equação:\n",
    "\n",
    "$$y = \\beta_{0} + \\beta_{1} x_{1} + \\beta_{2} x_{2} + ... + \\beta_{n} x_{n}$$\n",
    "\n",
    "No caso das Regressões Lineares, a variável resposta é contínua. Dessa forma, ao tentar estimar o preço de um imóvel usando sua área em $m^2$, quantidade de quartos e quantidade de banheiros, a Regressão Linear pode ser uma boa opção.\n",
    "\n",
    "Porém, como proceder nos casos que a variável resposta não é contínua, mas binária? Imagine que, dado o valor pago por um passageiro em uma cabine no Titanic, queremos saber se ele sobreviveu ou não? \n",
    "\n",
    "Matematicamente, podemos representar a sobrevivência como 1 e a não sobrevivência como 0, e a partir daí fazer a modelagem usando Regressão Linear. Entretanto, ao modelar dessa forma, não estamos restringindo o valor que a variável resposta pode assumir; logo, valores estranhos podem aparecer, como no gráfico."
   ]
  },
  {
   "cell_type": "code",
   "execution_count": null,
   "metadata": {},
   "outputs": [],
   "source": []
  },
  {
   "cell_type": "code",
   "execution_count": null,
   "metadata": {},
   "outputs": [],
   "source": []
  },
  {
   "cell_type": "code",
   "execution_count": null,
   "metadata": {},
   "outputs": [],
   "source": []
  },
  {
   "cell_type": "code",
   "execution_count": null,
   "metadata": {},
   "outputs": [],
   "source": []
  },
  {
   "cell_type": "markdown",
   "metadata": {},
   "source": [
    "### Verificando o mesmo efeito no dataset `breast_cancer.csv`"
   ]
  },
  {
   "cell_type": "code",
   "execution_count": null,
   "metadata": {},
   "outputs": [],
   "source": []
  },
  {
   "cell_type": "code",
   "execution_count": null,
   "metadata": {},
   "outputs": [],
   "source": []
  },
  {
   "cell_type": "markdown",
   "metadata": {},
   "source": [
    "O eixo Y indica se a pessoa sobreviveu (1) ou não (0). Já o eixo X indica o valor pago pela cabine. É possível perceber que quanto maior o valor pago pela cabine, maior a chance de sobreviver. Porém, chance é sinônimo de probabilidade (estatísticos, me perdoem), que é um valor entre 0 e 1. Dessa forma, o ponto azul na extremidade superior direita nos dá uma intuição de algo errado. Probabilidade de sobrevivência de 1,6? \n",
    "\n",
    "A variável resposta predita ao utilizar Regressão Linear para modelar o problema estará vaga, num espectro de valores infinitamente amplo. Nesse cenário de variável resposta binária, se faz necessária a aplicação de algumas transformações para que possamos ajustar um modelo de forma linear.\n",
    "\n",
    "Para isso, utilizaremos o logito (logit), que é uma função que mapeia a probabilidade de pertencimento a uma classe com amplitude de $\\pm \\infty$ , ao invés de 0 e 1. Matematicamente, é uma função do tipo $f(x) = \\log(\\frac{x}{1-x})$ , com o gráfico descrito abaixo. Seu gráfico está descrito na imagem a seguir e podemos vê-la sendo limitada com assíntotas verticais em 0 e 1."
   ]
  },
  {
   "cell_type": "code",
   "execution_count": 6,
   "metadata": {},
   "outputs": [
    {
     "data": {
      "text/plain": [
       "<matplotlib.collections.PathCollection at 0x7f7569256c50>"
      ]
     },
     "execution_count": 6,
     "metadata": {},
     "output_type": "execute_result"
    },
    {
     "data": {
      "image/png": "[encoded data removed]",
      "text/plain": [
       "<Figure size 576x288 with 1 Axes>"
      ]
     },
     "metadata": {},
     "output_type": "display_data"
    }
   ],
   "source": [
    "x = np.arange(0.001, 1, 0.001)\n",
    "y = np.log(x / (1 - x))\n",
    "\n",
    "plt.figure(figsize = (8, 4))\n",
    "\n",
    "plt.scatter(x, y, alpha = 0.05, s=50)"
   ]
  },
  {
   "cell_type": "markdown",
   "metadata": {},
   "source": [
    "Porém, na forma como o gráfico está descrito, o que está sendo limitado é o eixo X, que **no padrão seguido nas aulas** é a nossa variável explicativa. Entretanto, o que precisamos é que a nossa variável resposta, eixo Y, esteja limitada entre 0 e 1. Dessa forma, precisamos do inverso do logito, que é a função logística, dada por $f(x) = \\frac{1}{1 + e^{-x}}$. Aplicando a função logística, temos:"
   ]
  },
  {
   "cell_type": "code",
   "execution_count": 23,
   "metadata": {},
   "outputs": [
    {
     "data": {
      "text/plain": [
       "<matplotlib.collections.PathCollection at 0x7f4bbdae80a0>"
      ]
     },
     "execution_count": 23,
     "metadata": {},
     "output_type": "execute_result"
    },
    {
     "data": {
      "image/png": "[encoded data removed]",
      "text/plain": [
       "<Figure size 576x288 with 1 Axes>"
      ]
     },
     "metadata": {},
     "output_type": "display_data"
    }
   ],
   "source": [
    "x = np.arange(-10, 10, 0.01)\n",
    "y = 1/(1 + np.exp(-x))\n",
    "\n",
    "plt.figure(figsize = (8, 4))\n",
    "\n",
    "plt.scatter(x, y, alpha = 0.01, s=50)"
   ]
  },
  {
   "cell_type": "markdown",
   "metadata": {},
   "source": [
    "Como queremos que nossa variável resposta seja uma probabilidade $p$ entre 0 e 1 (redundância proposital), podemos aplicar a função logística na função de Regressão Linear, obtendo:\n",
    "\n",
    "$$y = p = \\frac{1}{1 + e^{-(\\beta_{0} + \\beta_{1} x_{1} + \\beta_{2} x_{2} + ... + \\beta_{n} x_{n})}}$$\n",
    "\n",
    "<div>\n",
    "  <img style=\"display: block; margin: 4rem auto 2rem;\" src=\"https://s3-sa-east-1.amazonaws.com/lcpi/e5ecf372-6790-49db-9bad-95bc4b19df27.png\" width=\"500\">\n",
    "</div>"
   ]
  },
  {
   "cell_type": "markdown",
   "metadata": {},
   "source": [
    "### Visualizando como a equação linear altera o formato da Regressão Logística"
   ]
  },
  {
   "cell_type": "code",
   "execution_count": 6,
   "metadata": {},
   "outputs": [],
   "source": [
    "sigmoid = lambda x: 1/(1 + np.exp(-x))"
   ]
  },
  {
   "cell_type": "code",
   "execution_count": 7,
   "metadata": {},
   "outputs": [],
   "source": [
    "def regressao_linear(x, b0, b1):\n",
    "  return b0 + b1*x"
   ]
  },
  {
   "cell_type": "code",
   "execution_count": null,
   "metadata": {},
   "outputs": [],
   "source": [
    "x = np.linspace(-10, 10, 1000)\n",
    "\n",
    "b0 = 1\n",
    "b1_list = [-0.1, -0.5, 0.5, 0.1]\n",
    "\n",
    "for b1 in b1_list:\n",
    "  y = sigmoid(regressao_linear(x, b0, b1))\n",
    "\n",
    "  plt.plot(x, y, label=f\"b0={b0} | b1={b1}\")\n",
    "  plt.legend()\n",
    "\n",
    "plt.show()"
   ]
  },
  {
   "cell_type": "code",
   "execution_count": null,
   "metadata": {},
   "outputs": [],
   "source": []
  },
  {
   "cell_type": "markdown",
   "metadata": {},
   "source": [
    "Porém, seria interessante que mantivéssemos a equação em um formato linear, como é na Regressão Linear, afinal, única coisa que queremos modificar é a resposta. Para tirar a função exponencial do denominador da função, usaremos chances ($Odds$) ao invés de probabilidades. Chamaremos de $Odds$ a proporção entre sobrevivência (1) e não sobrevivência (0), ou, em outras palavras, a probabilidade de um evento ocorrer sobre a probabilidade dele não ocorrer. Representamos da seguinte forma:\n",
    "\n",
    "$$Odds(Y = 1) = \\frac{p}{1 - p} $$\n",
    "\n",
    "**Para pensar:** observando apenas a variável resposta (*Survived*) do Titanic, quais são as chances de sobrevivência? Esses valores sempre estarão compreendidos entre 0 e 1?"
   ]
  },
  {
   "cell_type": "markdown",
   "metadata": {},
   "source": [
    "- 1: sobreviveu  \n",
    "- 0: não sobreviveu  "
   ]
  },
  {
   "cell_type": "code",
   "execution_count": 24,
   "metadata": {},
   "outputs": [
    {
     "data": {
      "text/plain": [
       "0    0.616162\n",
       "1    0.383838\n",
       "Name: Survived, dtype: float64"
      ]
     },
     "execution_count": 24,
     "metadata": {},
     "output_type": "execute_result"
    }
   ],
   "source": [
    "df.Survived.value_counts(True)"
   ]
  },
  {
   "cell_type": "markdown",
   "metadata": {},
   "source": [
    "Chances de sobrevivência:"
   ]
  },
  {
   "cell_type": "code",
   "execution_count": null,
   "metadata": {},
   "outputs": [],
   "source": []
  },
  {
   "cell_type": "markdown",
   "metadata": {},
   "source": [
    "Chances de não sobrevivência:"
   ]
  },
  {
   "cell_type": "code",
   "execution_count": null,
   "metadata": {},
   "outputs": [],
   "source": []
  },
  {
   "cell_type": "markdown",
   "metadata": {},
   "source": [
    "**Para pensar:** o que obtemos ao isolar o $p$ na função da $Odds$?\n",
    "\n",
    "$$\n",
    "p = \\frac{Odds}{Odds + 1}\n",
    "$$"
   ]
  },
  {
   "cell_type": "raw",
   "metadata": {},
   "source": [
    "# p = o/(1 + o)"
   ]
  },
  {
   "cell_type": "markdown",
   "metadata": {},
   "source": [
    "Dessa forma, já podemos igualar a duas funções $p$. Porém, antes disso, vamos multiplicar a primeira por $\\frac{e^{(\\beta_{0} + \\beta_{1} x_{1} + \\beta_{2} x_{2} + ... + \\beta_{n} x_{n})}}{e^{(\\beta_{0} + \\beta_{1} x_{1} + \\beta_{2} x_{2} + ... + \\beta_{n} x_{n})}}$. \n",
    "\n",
    "**Para pensar:** o que obtemos?\n",
    "\n",
    "$$\n",
    "y = p = \\frac{e^x}{1 + e^x}\n",
    "$$"
   ]
  },
  {
   "cell_type": "raw",
   "metadata": {},
   "source": [
    "# p = e**x / (e**x + 1)"
   ]
  },
  {
   "cell_type": "markdown",
   "metadata": {},
   "source": [
    "em que,\n",
    "\n",
    "$$\n",
    "    x = \\beta_{0} + \\beta_{1} x_{1} + \\beta_{2} x_{2} + \\dots + \\beta_{n} x_{n}\n",
    "$$"
   ]
  },
  {
   "cell_type": "markdown",
   "metadata": {},
   "source": [
    "**Para pensar:** e agora, igualando...\n",
    "\n",
    "$$\n",
    "Odds = e^x\n",
    "$$"
   ]
  },
  {
   "cell_type": "code",
   "execution_count": 4,
   "metadata": {},
   "outputs": [],
   "source": [
    "e = np.e"
   ]
  },
  {
   "cell_type": "code",
   "execution_count": null,
   "metadata": {},
   "outputs": [
    {
     "data": {
      "text/plain": [
       "2.718281828459045"
      ]
     },
     "execution_count": 26,
     "metadata": {},
     "output_type": "execute_result"
    }
   ],
   "source": [
    "e"
   ]
  },
  {
   "cell_type": "raw",
   "metadata": {},
   "source": [
    "o = e**x"
   ]
  },
  {
   "cell_type": "raw",
   "metadata": {},
   "source": [
    "ln(o) = x"
   ]
  },
  {
   "cell_type": "markdown",
   "metadata": {},
   "source": [
    "$$\n",
    "    \\ln{(Odds)} = \\beta_{0} + \\beta_{1} x_{1} + \\beta_{2} x_{2} + ... + \\beta_{n} x_{n}\n",
    "$$\n",
    "\n",
    "Dessa forma, estamos mapeando em chances qualquer valor $(-\\infty, \\infty)$, usando um modelo linear para prever essa probabilidade. Por sua vez, podemos mapear esse valor para definir a sobrevivência ou não sobrevivência a partir de um ponto de corte: qualquer valor de probabilidade acima de 0.5, por exemplo, pode ser definido como sobrevivência.\n",
    "\n",
    "___\n",
    "\n",
    "### Função de perda e algoritmo de aprendizagem\n",
    "\n",
    "A função de perda para a regressão logística é a famosa [binary cross-entropy](https://towardsdatascience.com/understanding-binary-cross-entropy-log-loss-a-visual-explanation-a3ac6025181a), também conhecida como [log loss](https://developers.google.com/machine-learning/crash-course/logistic-regression/model-training).\n",
    "\n",
    "Esta função será de enorme importância no estudo de **redes neurais**.\n",
    "\n",
    "As principais implementações do algoritmo de aprendizagem da regressão logística se baseia no [método de máxima verossimilhança](https://pt.wikipedia.org/wiki/M%C3%A1xima_verossimilhan%C3%A7a). \n",
    "\n",
    "\n",
    "_________\n",
    "\n",
    "### Aplicando uma Regressão Logística aos dados do Titanic"
   ]
  },
  {
   "cell_type": "code",
   "execution_count": null,
   "metadata": {},
   "outputs": [],
   "source": []
  },
  {
   "cell_type": "code",
   "execution_count": null,
   "metadata": {},
   "outputs": [],
   "source": []
  },
  {
   "cell_type": "code",
   "execution_count": null,
   "metadata": {},
   "outputs": [],
   "source": []
  },
  {
   "cell_type": "code",
   "execution_count": null,
   "metadata": {},
   "outputs": [],
   "source": []
  },
  {
   "cell_type": "code",
   "execution_count": null,
   "metadata": {},
   "outputs": [],
   "source": []
  },
  {
   "cell_type": "markdown",
   "metadata": {},
   "source": [
    "### Visualizando a predição feita com a Regressão Logística"
   ]
  },
  {
   "cell_type": "code",
   "execution_count": null,
   "metadata": {},
   "outputs": [],
   "source": []
  },
  {
   "cell_type": "code",
   "execution_count": null,
   "metadata": {},
   "outputs": [],
   "source": []
  },
  {
   "cell_type": "markdown",
   "metadata": {},
   "source": [
    "### Coeficientes da Regressão Logística\n",
    "\n",
    "Trazendo para o exemplo do Titanic, podemos visualizar os coeficientes da equação. "
   ]
  },
  {
   "cell_type": "code",
   "execution_count": null,
   "metadata": {},
   "outputs": [],
   "source": []
  },
  {
   "cell_type": "code",
   "execution_count": null,
   "metadata": {},
   "outputs": [],
   "source": []
  },
  {
   "cell_type": "markdown",
   "metadata": {},
   "source": [
    "**O que está errado na frase?**\n",
    "\n",
    "Ao aumentar um dólar na taxa paga no Titanic, estaremos aumentando a nossa chance de sobrevivência em 0.01 vezes."
   ]
  },
  {
   "cell_type": "markdown",
   "metadata": {
    "tags": []
   },
   "source": [
    "**Frase correta**\n",
    "\n",
    "Ao aumentar um dólar na taxa paga no Titanic, estaremos aumentando o **logaritmo das chances** de sobrevivência em 0.01 vezes."
   ]
  },
  {
   "cell_type": "markdown",
   "metadata": {},
   "source": [
    "**Para pensar:** assim, podemos interpretar que cada dólar a mais pago na cabine do Titanic aumenta as chances de sobrevivência do passageiro em quanto?"
   ]
  },
  {
   "cell_type": "code",
   "execution_count": null,
   "metadata": {},
   "outputs": [],
   "source": []
  },
  {
   "cell_type": "code",
   "execution_count": null,
   "metadata": {},
   "outputs": [],
   "source": []
  },
  {
   "cell_type": "markdown",
   "metadata": {},
   "source": [
    "Até agora estamos modelando as chances/probabilidades de sobrevivência em termos do valor pago na cabine. Porém, da mesma forma que na Regressão Linear, na Regressão Logística também podemos fazer uma análise multivariada e modelar com $N$ variáveis. Dessa forma, a vantagem da interpretabilidade do modelo fica ainda mais forte.\n",
    "\n",
    "**Para pensar:** o que é mais importante na determinação das chances de sobrevivência do passageiro: o preço pago pela cabine, o sexo, a quantidade de irmãos ou parentes?"
   ]
  },
  {
   "cell_type": "code",
   "execution_count": null,
   "metadata": {},
   "outputs": [],
   "source": []
  },
  {
   "cell_type": "code",
   "execution_count": null,
   "metadata": {},
   "outputs": [],
   "source": []
  },
  {
   "cell_type": "code",
   "execution_count": null,
   "metadata": {},
   "outputs": [],
   "source": []
  },
  {
   "cell_type": "code",
   "execution_count": null,
   "metadata": {},
   "outputs": [],
   "source": []
  },
  {
   "cell_type": "code",
   "execution_count": null,
   "metadata": {},
   "outputs": [],
   "source": []
  },
  {
   "cell_type": "code",
   "execution_count": null,
   "metadata": {},
   "outputs": [],
   "source": []
  },
  {
   "cell_type": "code",
   "execution_count": null,
   "metadata": {},
   "outputs": [],
   "source": []
  },
  {
   "cell_type": "code",
   "execution_count": null,
   "metadata": {},
   "outputs": [],
   "source": []
  },
  {
   "cell_type": "code",
   "execution_count": null,
   "metadata": {},
   "outputs": [],
   "source": []
  },
  {
   "cell_type": "code",
   "execution_count": null,
   "metadata": {},
   "outputs": [],
   "source": []
  },
  {
   "cell_type": "markdown",
   "metadata": {},
   "source": [
    "**Para pensar:** E se a gente adicionar a variável idade? Como ficam as importâncias das variáveis?"
   ]
  },
  {
   "cell_type": "code",
   "execution_count": null,
   "metadata": {},
   "outputs": [],
   "source": []
  },
  {
   "cell_type": "code",
   "execution_count": null,
   "metadata": {},
   "outputs": [],
   "source": []
  },
  {
   "cell_type": "code",
   "execution_count": null,
   "metadata": {},
   "outputs": [],
   "source": []
  },
  {
   "cell_type": "code",
   "execution_count": null,
   "metadata": {},
   "outputs": [],
   "source": []
  },
  {
   "cell_type": "code",
   "execution_count": null,
   "metadata": {},
   "outputs": [],
   "source": []
  },
  {
   "cell_type": "markdown",
   "metadata": {},
   "source": [
    "### Atividade\n",
    "\n",
    "Plot a decision region considerando apenas a coluna `Fare` e a coluna `Age`."
   ]
  },
  {
   "cell_type": "code",
   "execution_count": null,
   "metadata": {},
   "outputs": [],
   "source": []
  },
  {
   "cell_type": "code",
   "execution_count": null,
   "metadata": {},
   "outputs": [],
   "source": []
  },
  {
   "cell_type": "code",
   "execution_count": null,
   "metadata": {},
   "outputs": [],
   "source": []
  },
  {
   "cell_type": "code",
   "execution_count": null,
   "metadata": {},
   "outputs": [],
   "source": []
  },
  {
   "cell_type": "code",
   "execution_count": null,
   "metadata": {},
   "outputs": [],
   "source": []
  },
  {
   "cell_type": "markdown",
   "metadata": {
    "tags": []
   },
   "source": [
    "## Métricas de Avaliação de Modelos"
   ]
  },
  {
   "cell_type": "markdown",
   "metadata": {},
   "source": [
    "**O modelo melhorou ao utilizar mais variáveis?**"
   ]
  },
  {
   "cell_type": "code",
   "execution_count": null,
   "metadata": {
    "tags": []
   },
   "outputs": [],
   "source": []
  }
 ],
 "metadata": {
  "kernelspec": {
   "display_name": "Python 3",
   "language": "python",
   "name": "python3"
  },
  "language_info": {
   "codemirror_mode": {
    "name": "ipython",
    "version": 3
   },
   "file_extension": ".py",
   "mimetype": "text/x-python",
   "name": "python",
   "nbconvert_exporter": "python",
   "pygments_lexer": "ipython3",
   "version": "3.10.2"
  }
 },
 "nbformat": 4,
 "nbformat_minor": 4
}
