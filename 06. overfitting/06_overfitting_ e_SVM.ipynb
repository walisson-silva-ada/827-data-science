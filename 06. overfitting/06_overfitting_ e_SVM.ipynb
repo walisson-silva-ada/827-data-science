{
 "cells": [
  {
   "cell_type": "markdown",
   "id": "e3c4ab4a",
   "metadata": {},
   "source": [
    "# Support Vector Machine: Para casa!\n",
    "\n",
    "Todos os modelos de classificação possuem um [fronteira de decisão](https://ml-playground.com/). Isso é facilmente visto no algoritmo de Vizinhos Mais Próximos. Porém, apesar dessas técnicas criarem uma *fronteira de decisão*, elas não são construídas em torno desse conceito. É nesse campo que entram as Support Vector Machine. O objetivo desse tipo de algoritmo é encontrar uma fronteira que consiga separar o conjunto de dados em classes positivas ou negativas, sendo embasadas no aprendizado estatístico e desenvolvidas por Vapnik.\n",
    "\n",
    "\n",
    "Dado dois conjunto de dados de classes diferentes em um plano de duas dimensões, existe um conjunto infinito de linhas que podem seperar tais classes. Porém, existem linhas que separam de forma *pior* que outras. No algoritmo do Support Vector Machine, estamos buscando a linha que *melhor* separa os dados, maximizando a distância entre os pontos e a fronteira. Ao levar tal técnica para problemas com mais de duas dimensões, não estaremos buscando linhas separadoras, dado que estamos em espaços no \\\\(RN\\\\); porém, estaremos procurando melhor hiperplano.\n",
    "\n",
    "<center><img src=\"https://s3-sa-east-1.amazonaws.com/lcpi/fceb4ea0-9de8-4048-9cc4-c9d4355b671c.png\" width = 25%/></center>\n",
    "\n",
    "Chamamos de $\\vec{u}$ uma nova instância a qual queremos classificar, e $\\vec{w}$ o vetor que define a fronteira entre os dados. Para classificar a $\\vec{u}$, projetamos a instância em $\\vec{w}$: quanto maior for o tamanho dessa projeção, maior a chance de $\\vec{u}$ ser da classe positiva. Dessa forma, tomando um $c$ como parâmetro, temos a regra:\n",
    "\n",
    "$$\\vec{w} . \\vec{u} \\geq c $$\n",
    "\n",
    "$$\\vec{w} . \\vec{u} - c \\geq 0 \\implies \\textrm{classe positiva} $$\n",
    "\n",
    "O ponto é: como descobrir $\\vec{w}$ e $c$?\n",
    "\n",
    "Podemos fazer \n",
    "\n",
    "$$\\vec{w} . \\vec{x_{+}} + b \\geq 1 \\implies \\textrm{classe positiva} $$\n",
    "$$\\vec{w} . \\vec{x_{-}} + b \\leq 1 \\implies \\textrm{classe negativa} $$\n",
    "\n",
    "Garantindo assim uma certa margem entre os pontos. Porém, temos duas equações. Podemos transformá-la em uma ao adicionar um $y_i$ que:\n",
    "\n",
    "$$y_i = 1 \\implies \\textrm{classe positiva} $$\n",
    "$$y_i = -1 \\implies \\textrm{classe negativa} $$\n",
    "\n",
    "Assim:\n",
    "\n",
    "$$y_i (\\vec{w} . \\vec{x_{i}} + b) - 1 \\geq 0$$\n",
    "\n",
    "Adicionamos uma segunda restrição, de igualdade:\n",
    "\n",
    "$$y_i (\\vec{w} . \\vec{x_{i}} + b) - 1 = 0$$\n",
    "\n",
    "Ora, podemos calcular a distância entre as fronteiras de $\\vec{x}_{+}$ e $\\vec{x}_{-}$ e fazendo o produto escalar entre essa diferença e o vetor unitário de $\\vec{w}$:\n",
    "\n",
    "$$\\textrm{largura} = (\\vec{x}_{+} - \\vec{x}_{-}) . \\vec{w}_{unitario}$$\n",
    "\n",
    "$$\\textrm{largura} = (\\vec{x}_{+} - \\vec{x}_{-}) . \\frac{\\vec{w}}{||\\vec{w}||}$$\n",
    "\n",
    "$$\\textrm{largura} = \\frac{\\vec{w} . \\vec{x}_{+} - \\vec{w} . \\vec{x}_{-}}{||\\vec{w}||} = \\frac{2}{||\\vec{w}||}$$\n",
    "\n",
    "Para maximizar a largura, queremos minimizar $||\\vec{w}||$. \n",
    "\n",
    "Como queremos minimizar $||\\vec{w}||$, não tem problemas em minimizar $\\frac{1}{2}||\\vec{w}||^2$ (famoso pulo do gato, vai facilitar as derivadas no futuro).\n",
    "\n",
    "Como existem restrições, podemos usar [Lagrange](https://pt.wikipedia.org/wiki/Multiplicadores_de_Lagrange) , ficando com (equação 1):\n",
    "\n",
    "$$L = \\frac{1}{2}||\\vec{w}||^2 - \\sum_i \\alpha_i[y_i(\\vec{x}_i \\vec{w}_i + b) - 1]$$\n",
    "\n",
    "Como só temos duas variáveis $\\vec{w}$ e $b$ sem contar com os coeficientes lagrangianos, vamos derivar em relação a cada uma delas. Primeiro, em relação a $\\vec{w}$:\n",
    "\n",
    "$$\\frac{\\partial L}{\\partial w} = \\vec{w} - \\sum_i \\alpha_iy_i\\vec{x}_i$$\n",
    "\n",
    "Igualando a 0 (equação 2):\n",
    "\n",
    "$$\\vec{w} - \\sum_i \\alpha_iy_i\\vec{x}_i = 0 \\implies \\vec{w} = \\sum_i \\alpha_iy_i\\vec{x}_i (2)$$\n",
    "\n",
    "Agora, em relação a $b$:\n",
    "\n",
    "$$\\frac{\\partial L}{\\partial b} = - \\sum_i \\alpha_i y_i$$\n",
    "\n",
    "Igualando a 0 (equação 3):\n",
    "\n",
    "$$\\sum_i \\alpha_i y_i = 0$$\n",
    "\n",
    "Agora podemos substituir (2) e (3) em (1), chegando em:\n",
    "\n",
    "$$L = \\sum_i\\alpha_i - \\frac{1}{2}\\left(\\sum_i \\alpha_iy_i\\vec{x}_i\\right)\\left(\\sum_j \\alpha_jy_j\\vec{x}_j\\right) $$\n",
    "\n",
    "Ao minimizar Lagrange, achando os valores dos coeficientes, teremos muitos coeficientes zerados, sobrando apenas os poucos que definem os vetores de suporte.\n",
    "\n",
    "Dessa forma:\n",
    "\n",
    "$$g(\\vec{x}) = \\textrm{sinal}(f(\\vec{x}))$$\n",
    "\n",
    "$$f(\\vec{x}) = \\vec{w} . \\vec{x} - b = \\sum_i \\alpha_i y_i \\vec{x}_i \\vec{x} + b$$\n",
    "\n",
    "PhD de Vapnik acaba aqui. Esse algoritmo, apesar de **lindo**, é pouco prático *as is*, porque traça fronteiras lineares, mas o mundo não é linear. Então, durante 20 anos, o SVM ficou \"engavatado\" até que a ideia do Kernel Trick apareceu. "
   ]
  },
  {
   "cell_type": "code",
   "execution_count": null,
   "id": "1e39ba4c",
   "metadata": {},
   "outputs": [],
   "source": []
  },
  {
   "cell_type": "markdown",
   "id": "726a23a6",
   "metadata": {},
   "source": [
    "## Kernel trick: Exemplo"
   ]
  },
  {
   "cell_type": "code",
   "execution_count": null,
   "id": "eeac5373",
   "metadata": {
    "ExecuteTime": {
     "end_time": "2022-02-22T12:20:24.493107Z",
     "start_time": "2022-02-22T12:20:21.460286Z"
    }
   },
   "outputs": [],
   "source": [
    "import pandas as pd\n",
    "import numpy as np\n",
    "import seaborn as sns\n",
    "import matplotlib.pyplot as plt\n",
    "from mlxtend.plotting import plot_decision_regions"
   ]
  },
  {
   "cell_type": "code",
   "execution_count": null,
   "id": "ea3b0658",
   "metadata": {
    "ExecuteTime": {
     "end_time": "2021-09-02T14:19:49.728067Z",
     "start_time": "2021-09-02T14:19:49.705529Z"
    }
   },
   "outputs": [],
   "source": [
    "x1_mais = [-3, -2.5, -2, 2, 2.5, 3]\n",
    "x2_mais = [0]*len(x1_mais)\n",
    "\n",
    "x1_menos = [-1, 0, 1]\n",
    "x2_menos = [0]*len(x1_menos)"
   ]
  },
  {
   "cell_type": "code",
   "execution_count": null,
   "id": "3ebfad6f",
   "metadata": {
    "ExecuteTime": {
     "end_time": "2021-09-02T14:19:50.164017Z",
     "start_time": "2021-09-02T14:19:50.144780Z"
    }
   },
   "outputs": [],
   "source": [
    "# x2 serve para ilustrar o Kernel trick\n",
    "\n",
    "df = pd.DataFrame({\n",
    "    'x1': x1_mais + x1_menos,\n",
    "    'x2': x2_mais + x2_menos,\n",
    "    'y':  [1]*len(x1_mais) + [-1]*len(x1_menos)\n",
    "})\n",
    "\n",
    "df"
   ]
  },
  {
   "cell_type": "code",
   "execution_count": null,
   "id": "90bce3fa",
   "metadata": {
    "ExecuteTime": {
     "end_time": "2021-09-02T14:19:50.958894Z",
     "start_time": "2021-09-02T14:19:50.794369Z"
    }
   },
   "outputs": [],
   "source": [
    "# olhe os dados!\n"
   ]
  },
  {
   "cell_type": "markdown",
   "id": "e62e3fa3",
   "metadata": {},
   "source": [
    "**Para pensar:** Você consegue traçar uma única linha reta que separe esses dois conjuntos de pontos?\n",
    "\n",
    "**Resposta:**  ?\n",
    "\n",
    "**Como resolver?** "
   ]
  },
  {
   "cell_type": "code",
   "execution_count": null,
   "id": "485b8d06",
   "metadata": {
    "ExecuteTime": {
     "end_time": "2021-09-02T14:19:52.218821Z",
     "start_time": "2021-09-02T14:19:52.194848Z"
    }
   },
   "outputs": [],
   "source": []
  },
  {
   "cell_type": "code",
   "execution_count": null,
   "id": "9adfac67",
   "metadata": {
    "ExecuteTime": {
     "end_time": "2021-09-02T14:19:53.047544Z",
     "start_time": "2021-09-02T14:19:52.896490Z"
    }
   },
   "outputs": [],
   "source": []
  },
  {
   "cell_type": "markdown",
   "id": "81c9bf0b",
   "metadata": {},
   "source": [
    "**Para pensar:**  O problema se tornou linearmente separável!"
   ]
  },
  {
   "cell_type": "code",
   "execution_count": null,
   "id": "80a8c379",
   "metadata": {},
   "outputs": [],
   "source": []
  },
  {
   "cell_type": "markdown",
   "id": "baf75f71",
   "metadata": {},
   "source": [
    "## Kernel trick: Pratica"
   ]
  },
  {
   "cell_type": "markdown",
   "id": "fc18f341",
   "metadata": {},
   "source": [
    "No SVM, o 'kernel trick' automatiza o processo ilustrado acima, o que torna esse modelo recomendável para tratar de problemas que não são separáveis linearmente!\n",
    "\n",
    "SVM pode ser usado para regressão e classificação:\n",
    "\n",
    "        - SVR: Support Vector Regressor \n",
    "        - SVC: Support Vector Classifier"
   ]
  },
  {
   "cell_type": "code",
   "execution_count": null,
   "id": "e7393d0a",
   "metadata": {
    "ExecuteTime": {
     "end_time": "2021-09-01T15:54:14.541820Z",
     "start_time": "2021-09-01T15:54:14.526309Z"
    }
   },
   "outputs": [],
   "source": []
  },
  {
   "cell_type": "markdown",
   "id": "f408820a",
   "metadata": {},
   "source": [
    "**Execício:** Modele o problema acima sem criar a nova feature!"
   ]
  },
  {
   "cell_type": "code",
   "execution_count": null,
   "id": "c65b62c9",
   "metadata": {
    "ExecuteTime": {
     "end_time": "2021-09-01T15:57:21.568176Z",
     "start_time": "2021-09-01T15:57:21.547318Z"
    }
   },
   "outputs": [],
   "source": []
  },
  {
   "cell_type": "code",
   "execution_count": null,
   "id": "4ef4d9d3",
   "metadata": {
    "ExecuteTime": {
     "end_time": "2021-09-01T15:57:22.378320Z",
     "start_time": "2021-09-01T15:57:22.365344Z"
    }
   },
   "outputs": [],
   "source": [
    "df['y']"
   ]
  },
  {
   "cell_type": "markdown",
   "id": "9ca7422e",
   "metadata": {},
   "source": [
    " O SVC usou o kernel='rbf' para achar o melhor hiperplano que separa nossos dados fake e doidos!"
   ]
  },
  {
   "cell_type": "markdown",
   "id": "7a0540d3",
   "metadata": {},
   "source": [
    "**Desafio:** Você consegue modelar esse problema (y_pred = df['y']) com outras técnicas que aprendeu até agora?"
   ]
  },
  {
   "cell_type": "code",
   "execution_count": null,
   "id": "47ac5d40",
   "metadata": {},
   "outputs": [],
   "source": []
  },
  {
   "cell_type": "markdown",
   "id": "5af2faac",
   "metadata": {},
   "source": [
    "## Polynomial kernels"
   ]
  },
  {
   "cell_type": "markdown",
   "id": "1066b1ac",
   "metadata": {},
   "source": [
    "### Construir um dataset aleatório, a princípio"
   ]
  },
  {
   "cell_type": "code",
   "execution_count": null,
   "id": "743ea3c1",
   "metadata": {
    "ExecuteTime": {
     "end_time": "2022-02-22T12:20:09.460314Z",
     "start_time": "2022-02-22T12:20:08.405157Z"
    },
    "scrolled": true
   },
   "outputs": [],
   "source": [
    "# numero de pontos\n",
    "n = 500\n",
    "\n",
    "# assegurar reprodutibilidade\n",
    "np.random.seed(13)\n",
    "\n",
    "# dataset\n",
    "X = np.random.randn(n, 2)\n",
    "plt.scatter(X[:,0], X[:,1]);"
   ]
  },
  {
   "cell_type": "markdown",
   "id": "c42b0b1f",
   "metadata": {},
   "source": [
    "### Criar o target apropriado"
   ]
  },
  {
   "cell_type": "code",
   "execution_count": null,
   "id": "be8570e2",
   "metadata": {
    "ExecuteTime": {
     "end_time": "2021-09-02T14:22:43.041017Z",
     "start_time": "2021-09-02T14:22:42.895678Z"
    },
    "scrolled": true
   },
   "outputs": [],
   "source": [
    "noise = 0.2\n",
    "\n",
    "epsilon = noise * np.random.randn(n, )\n",
    "x1 = X[:, 0]\n",
    "x2 = X[:, 1]\n",
    "\n",
    "y_bool = np.logical_xor(\n",
    "    x1 > epsilon, \n",
    "    x2 > epsilon\n",
    "    )\n",
    "y = np.where(y_bool, 1,0)\n",
    "\n",
    "# verificar o dataset\n",
    "plt.scatter(X[:, 0], X[:, 1], c=y)"
   ]
  },
  {
   "cell_type": "markdown",
   "id": "376a5fe7",
   "metadata": {},
   "source": [
    "### Modelos lineares"
   ]
  },
  {
   "cell_type": "markdown",
   "id": "f8eaff66",
   "metadata": {},
   "source": [
    "**Exercício:** Treine um modelo linear de sua escolha e use a função `plot_decision_regions` para verificar gráficamente a qualidade do resultado."
   ]
  },
  {
   "cell_type": "code",
   "execution_count": null,
   "id": "0f7f16d7",
   "metadata": {
    "ExecuteTime": {
     "end_time": "2021-09-02T14:23:11.847045Z",
     "start_time": "2021-09-02T14:23:11.635537Z"
    }
   },
   "outputs": [],
   "source": []
  },
  {
   "cell_type": "markdown",
   "id": "09c08050",
   "metadata": {},
   "source": [
    "Qual a acurácia desse modelo?"
   ]
  },
  {
   "cell_type": "code",
   "execution_count": null,
   "id": "2eb86e3b",
   "metadata": {
    "ExecuteTime": {
     "end_time": "2021-09-02T14:23:25.181784Z",
     "start_time": "2021-09-02T14:23:25.165470Z"
    }
   },
   "outputs": [],
   "source": []
  },
  {
   "cell_type": "markdown",
   "id": "79be5ce2",
   "metadata": {},
   "source": [
    "Outro modelo?"
   ]
  },
  {
   "cell_type": "code",
   "execution_count": null,
   "id": "b7ab9437",
   "metadata": {
    "ExecuteTime": {
     "end_time": "2021-09-02T14:24:53.224972Z",
     "start_time": "2021-09-02T14:24:50.918436Z"
    }
   },
   "outputs": [],
   "source": []
  },
  {
   "cell_type": "code",
   "execution_count": null,
   "id": "dc496312",
   "metadata": {
    "ExecuteTime": {
     "end_time": "2021-09-02T14:25:35.064501Z",
     "start_time": "2021-09-02T14:25:35.041994Z"
    }
   },
   "outputs": [],
   "source": []
  },
  {
   "cell_type": "code",
   "execution_count": null,
   "id": "a55c3f85",
   "metadata": {
    "ExecuteTime": {
     "end_time": "2021-09-02T14:26:19.914635Z",
     "start_time": "2021-09-02T14:26:18.322323Z"
    }
   },
   "outputs": [],
   "source": []
  },
  {
   "cell_type": "markdown",
   "id": "784cda2a",
   "metadata": {},
   "source": [
    "### Polynomial kernel\n",
    "\n",
    "Mais detalhes [aqui](https://towardsdatascience.com/the-kernel-trick-c98cdbcaeb3f)."
   ]
  },
  {
   "cell_type": "code",
   "execution_count": null,
   "id": "6b915d4d",
   "metadata": {
    "ExecuteTime": {
     "end_time": "2021-09-02T14:29:47.942361Z",
     "start_time": "2021-09-02T14:29:47.132820Z"
    }
   },
   "outputs": [],
   "source": []
  },
  {
   "cell_type": "code",
   "execution_count": null,
   "id": "48f074c1",
   "metadata": {
    "ExecuteTime": {
     "end_time": "2021-09-02T14:30:34.812258Z",
     "start_time": "2021-09-02T14:30:34.791255Z"
    }
   },
   "outputs": [],
   "source": []
  },
  {
   "cell_type": "markdown",
   "id": "e8ba8323",
   "metadata": {},
   "source": [
    "# Overfitting "
   ]
  },
  {
   "cell_type": "markdown",
   "id": "f5b090c2",
   "metadata": {},
   "source": [
    "Overfitting (sobre-ajuste) é um termo usado em estatística para descrever quando um modelo estatístico se ajusta muito bem ao conjunto de dados anteriormente observado, mas se mostra ineficaz para prever novos resultados."
   ]
  },
  {
   "cell_type": "markdown",
   "id": "69529bb0",
   "metadata": {},
   "source": [
    "**Pergunta:** Até que ponto podemos melhorar um modelo?"
   ]
  },
  {
   "cell_type": "code",
   "execution_count": null,
   "id": "bc81fec3",
   "metadata": {
    "ExecuteTime": {
     "end_time": "2021-09-02T14:38:34.429972Z",
     "start_time": "2021-09-02T14:38:34.195600Z"
    }
   },
   "outputs": [],
   "source": [
    "# outro dataset\n",
    "from sklearn.datasets import make_moons\n",
    "n = 200\n",
    "X_moon,y_moon = make_moons(n_samples=n, noise=0.25, random_state=0)\n",
    "plt.scatter(X_moon[:,0], X_moon[:,1], c=y_moon)"
   ]
  },
  {
   "cell_type": "code",
   "execution_count": null,
   "id": "4e838aa2",
   "metadata": {},
   "outputs": [],
   "source": []
  },
  {
   "cell_type": "markdown",
   "id": "ecfca6d1",
   "metadata": {},
   "source": [
    "## Faça um modelo inicial"
   ]
  },
  {
   "cell_type": "code",
   "execution_count": null,
   "id": "75129965",
   "metadata": {
    "ExecuteTime": {
     "end_time": "2021-09-02T14:40:26.969657Z",
     "start_time": "2021-09-02T14:40:26.345014Z"
    }
   },
   "outputs": [],
   "source": [
    "# tente com diferentes graus de polinomios!\n",
    "# note que só X e Y são diferentes do exemplo anterior\n",
    "\n"
   ]
  },
  {
   "cell_type": "code",
   "execution_count": null,
   "id": "7039dae2",
   "metadata": {
    "ExecuteTime": {
     "end_time": "2021-09-02T14:40:48.076186Z",
     "start_time": "2021-09-02T14:40:47.604041Z"
    }
   },
   "outputs": [],
   "source": []
  },
  {
   "cell_type": "code",
   "execution_count": null,
   "id": "097fc6d6",
   "metadata": {
    "ExecuteTime": {
     "end_time": "2021-09-02T14:41:01.655868Z",
     "start_time": "2021-09-02T14:41:01.014801Z"
    }
   },
   "outputs": [],
   "source": []
  },
  {
   "cell_type": "markdown",
   "id": "9f96e52c",
   "metadata": {},
   "source": [
    "## Melhore seu modelo\n",
    "### RBF kernel\n",
    "\n",
    "Mais detalhes [aqui](https://en.wikipedia.org/wiki/Radial_basis_function_kernel)."
   ]
  },
  {
   "cell_type": "code",
   "execution_count": null,
   "id": "b40ad6cb",
   "metadata": {
    "ExecuteTime": {
     "end_time": "2021-09-02T14:44:15.664036Z",
     "start_time": "2021-09-02T14:44:14.212711Z"
    }
   },
   "outputs": [],
   "source": [
    "s"
   ]
  },
  {
   "cell_type": "code",
   "execution_count": null,
   "id": "96aa31e3",
   "metadata": {},
   "outputs": [],
   "source": []
  },
  {
   "cell_type": "markdown",
   "id": "3c432ee9",
   "metadata": {},
   "source": [
    "## Cuidado: Não podemos melhorar para sempre!"
   ]
  },
  {
   "cell_type": "code",
   "execution_count": null,
   "id": "aaad1ef1",
   "metadata": {
    "ExecuteTime": {
     "end_time": "2021-09-02T14:50:04.029979Z",
     "start_time": "2021-09-02T14:50:00.956950Z"
    }
   },
   "outputs": [],
   "source": [
    "# cuidado com overfiting!!!!! -- modelo ruim para exemplificar!\n",
    "s"
   ]
  },
  {
   "cell_type": "code",
   "execution_count": null,
   "id": "1369b047",
   "metadata": {
    "ExecuteTime": {
     "end_time": "2021-09-02T14:52:40.041385Z",
     "start_time": "2021-09-02T14:52:40.025387Z"
    }
   },
   "outputs": [],
   "source": []
  },
  {
   "cell_type": "code",
   "execution_count": null,
   "id": "48f6a17d",
   "metadata": {
    "ExecuteTime": {
     "end_time": "2021-09-02T15:01:27.280149Z",
     "start_time": "2021-09-02T15:01:24.944679Z"
    }
   },
   "outputs": [],
   "source": [
    "s"
   ]
  },
  {
   "cell_type": "markdown",
   "id": "d398f96d",
   "metadata": {},
   "source": [
    "### Outros classificadores?\n",
    "\n",
    "Explore o [Playgrond](https://ml-playground.com/#)!"
   ]
  },
  {
   "cell_type": "code",
   "execution_count": null,
   "id": "0d3f7569",
   "metadata": {},
   "outputs": [],
   "source": []
  }
 ],
 "metadata": {
  "kernelspec": {
   "display_name": "Python 3",
   "language": "python",
   "name": "python3"
  },
  "language_info": {
   "codemirror_mode": {
    "name": "ipython",
    "version": 3
   },
   "file_extension": ".py",
   "mimetype": "text/x-python",
   "name": "python",
   "nbconvert_exporter": "python",
   "pygments_lexer": "ipython3",
   "version": "3.8.8"
  },
  "toc": {
   "base_numbering": 1,
   "nav_menu": {},
   "number_sections": true,
   "sideBar": true,
   "skip_h1_title": false,
   "title_cell": "Table of Contents",
   "title_sidebar": "Contents",
   "toc_cell": false,
   "toc_position": {
    "height": "calc(100% - 180px)",
    "left": "10px",
    "top": "150px",
    "width": "287.891px"
   },
   "toc_section_display": true,
   "toc_window_display": true
  },
  "varInspector": {
   "cols": {
    "lenName": 16,
    "lenType": 16,
    "lenVar": 40
   },
   "kernels_config": {
    "python": {
     "delete_cmd_postfix": "",
     "delete_cmd_prefix": "del ",
     "library": "var_list.py",
     "varRefreshCmd": "print(var_dic_list())"
    },
    "r": {
     "delete_cmd_postfix": ") ",
     "delete_cmd_prefix": "rm(",
     "library": "var_list.r",
     "varRefreshCmd": "cat(var_dic_list()) "
    }
   },
   "types_to_exclude": [
    "module",
    "function",
    "builtin_function_or_method",
    "instance",
    "_Feature"
   ],
   "window_display": false
  }
 },
 "nbformat": 4,
 "nbformat_minor": 5
}
