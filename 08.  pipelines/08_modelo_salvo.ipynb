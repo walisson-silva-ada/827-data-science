{
 "cells": [
  {
   "cell_type": "code",
   "execution_count": 5,
   "id": "f78a06d3",
   "metadata": {
    "ExecuteTime": {
     "end_time": "2022-02-25T18:26:00.160712Z",
     "start_time": "2022-02-25T18:26:00.151712Z"
    }
   },
   "outputs": [],
   "source": [
    "import pandas as pd\n",
    "import numpy as np"
   ]
  },
  {
   "cell_type": "code",
   "execution_count": 3,
   "id": "e65e7c26",
   "metadata": {
    "ExecuteTime": {
     "end_time": "2022-02-25T18:25:39.422299Z",
     "start_time": "2022-02-25T18:25:38.257247Z"
    }
   },
   "outputs": [],
   "source": [
    "modelo_salvo = pd.read_pickle('meu_model.pkl')"
   ]
  },
  {
   "cell_type": "code",
   "execution_count": 11,
   "id": "2263c3e9",
   "metadata": {
    "ExecuteTime": {
     "end_time": "2022-02-25T18:30:26.327749Z",
     "start_time": "2022-02-25T18:30:26.307144Z"
    }
   },
   "outputs": [],
   "source": [
    "test_data = pd.DataFrame(\n",
    "    [\n",
    "        {'gender': 'Male', 'height': 170, 'weight': 72},\n",
    "        {'gender': 'Female', 'height': np.nan, 'weight': 60}\n",
    "    ]\n",
    ")"
   ]
  },
  {
   "cell_type": "code",
   "execution_count": 12,
   "id": "e75e870b",
   "metadata": {
    "ExecuteTime": {
     "end_time": "2022-02-25T18:30:26.747608Z",
     "start_time": "2022-02-25T18:30:26.720277Z"
    }
   },
   "outputs": [
    {
     "data": {
      "text/plain": [
       "array([72., 60.])"
      ]
     },
     "execution_count": 12,
     "metadata": {},
     "output_type": "execute_result"
    }
   ],
   "source": [
    "modelo_salvo.predict(test_data)"
   ]
  },
  {
   "cell_type": "code",
   "execution_count": null,
   "id": "7ef8f466",
   "metadata": {},
   "outputs": [],
   "source": []
  }
 ],
 "metadata": {
  "kernelspec": {
   "display_name": "Python 3",
   "language": "python",
   "name": "python3"
  },
  "language_info": {
   "codemirror_mode": {
    "name": "ipython",
    "version": 3
   },
   "file_extension": ".py",
   "mimetype": "text/x-python",
   "name": "python",
   "nbconvert_exporter": "python",
   "pygments_lexer": "ipython3",
   "version": "3.8.8"
  },
  "toc": {
   "base_numbering": 1,
   "nav_menu": {},
   "number_sections": true,
   "sideBar": true,
   "skip_h1_title": false,
   "title_cell": "Table of Contents",
   "title_sidebar": "Contents",
   "toc_cell": false,
   "toc_position": {},
   "toc_section_display": true,
   "toc_window_display": false
  }
 },
 "nbformat": 4,
 "nbformat_minor": 5
}
