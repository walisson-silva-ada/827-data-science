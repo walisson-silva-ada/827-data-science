{
 "cells": [
  {
   "cell_type": "markdown",
   "id": "9824c03e",
   "metadata": {},
   "source": [
    "# Pipelines + Project flow (minimal)"
   ]
  },
  {
   "cell_type": "markdown",
   "id": "ff6883d8",
   "metadata": {},
   "source": [
    "# Utilidades do Sklearn\n",
    "- [MinMaxScaler](https://scikit-learn.org/stable/modules/generated/sklearn.preprocessing.MinMaxScaler.html)\n",
    "\n",
    "\n",
    "\n",
    "- [StandardScaler](https://scikit-learn.org/stable/modules/generated/sklearn.preprocessing.StandardScaler.html)\n",
    "\n",
    "\n",
    "\n",
    "- [Binarizer](https://scikit-learn.org/stable/modules/generated/sklearn.preprocessing.Binarizer.html)\n",
    "\n",
    "\n",
    "\n",
    "- [KBinsDiscretizer](https://scikit-learn.org/stable/modules/generated/sklearn.preprocessing.KBinsDiscretizer.html)\n",
    "\n",
    "\n",
    "\n",
    "- [OneHotEncoder](https://scikit-learn.org/stable/modules/generated/sklearn.preprocessing.OneHotEncoder.html)\n",
    "\n",
    "\n",
    "\n",
    "- [LabelEncoder](https://scikit-learn.org/stable/modules/generated/sklearn.preprocessing.LabelEncoder.html)\n",
    "\n",
    "\n",
    "\n",
    "- [OrdinalEncoder](https://scikit-learn.org/stable/modules/generated/sklearn.preprocessing.OrdinalEncoder.html)\n",
    "\n",
    "\n",
    "\n",
    "- [SimpleImputer](https://scikit-learn.org/stable/modules/generated/sklearn.impute.SimpleImputer.html#sklearn.impute.SimpleImputer)\n",
    "\n",
    "\n",
    "- etc..."
   ]
  },
  {
   "cell_type": "markdown",
   "id": "4bc73db8",
   "metadata": {},
   "source": [
    "## Execício\n",
    "Considere o seguinte dataset com alturas e pesos de algumas pessoas."
   ]
  },
  {
   "cell_type": "code",
   "execution_count": null,
   "id": "63da24d6",
   "metadata": {
    "ExecuteTime": {
     "end_time": "2020-11-17T16:37:44.922399Z",
     "start_time": "2020-11-17T16:37:44.733400Z"
    },
    "pycharm": {
     "name": "#%%\n"
    }
   },
   "outputs": [],
   "source": [
    "import pandas as pd\n",
    "import numpy as np\n",
    "data = pd.DataFrame(\n",
    "    [\n",
    "        {'gender': 'Male', 'height': 180, 'weight': 82},\n",
    "        {'gender': 'Female', 'height': np.nan, 'weight': 72},\n",
    "        {'gender': 'Male', 'height': 170, 'weight': 75},\n",
    "        {'gender': 'Female', 'height': 165, 'weight': 60},\n",
    "        {'gender': 'Male', 'height': 177, 'weight': 76},\n",
    "    ])\n",
    "\n",
    "test_data = pd.DataFrame(\n",
    "    [\n",
    "        {'gender': 'Male', 'height': 170, 'weight': 72},\n",
    "        {'gender': 'Female', 'height': np.nan, 'weight': 60}\n",
    "    ]\n",
    ")\n",
    "\n",
    "data"
   ]
  },
  {
   "cell_type": "code",
   "execution_count": null,
   "id": "58dfd2d8",
   "metadata": {},
   "outputs": [],
   "source": [
    "test_data"
   ]
  },
  {
   "cell_type": "markdown",
   "id": "4cb7c220",
   "metadata": {},
   "source": [
    "**Tarefas**\n",
    "1. Transformar a coluna `gender` com `OneHotEncoder`\n",
    "2. Inserir dados faltantes na coluna `height`\n",
    "3. Juntar as duas transformações\n",
    "4. Aplicar as mesmas transformaçoes aos dados de teste\n",
    "5. Criar um modelo linear que preveja o peso de uma pessoa, dados o gênero e a altura.\n",
    "6. Use os dados de teste para estimar a qualidade das predições."
   ]
  },
  {
   "cell_type": "markdown",
   "id": "cd647fc0",
   "metadata": {},
   "source": [
    "### Transformar a coluna gender com OneHotEncoder"
   ]
  },
  {
   "cell_type": "code",
   "execution_count": null,
   "id": "fa0b818b",
   "metadata": {
    "ExecuteTime": {
     "end_time": "2022-02-25T11:51:04.731232Z",
     "start_time": "2022-02-25T11:51:01.246507Z"
    }
   },
   "outputs": [],
   "source": [
    "from sklearn.preprocessing import OneHotEncoder\n",
    "\n"
   ]
  },
  {
   "cell_type": "code",
   "execution_count": null,
   "id": "35a8eca2",
   "metadata": {},
   "outputs": [],
   "source": []
  },
  {
   "cell_type": "code",
   "execution_count": null,
   "id": "fdecf307",
   "metadata": {},
   "outputs": [],
   "source": []
  },
  {
   "cell_type": "markdown",
   "id": "a1402f30",
   "metadata": {},
   "source": [
    "### Inserir dados faltantes na coluna `height`"
   ]
  },
  {
   "cell_type": "code",
   "execution_count": null,
   "id": "94a50264",
   "metadata": {
    "ExecuteTime": {
     "end_time": "2022-02-25T11:51:10.978892Z",
     "start_time": "2022-02-25T11:51:10.480132Z"
    }
   },
   "outputs": [],
   "source": [
    "from sklearn.impute import SimpleImputer\n"
   ]
  },
  {
   "cell_type": "markdown",
   "id": "4c280d96",
   "metadata": {},
   "source": [
    "### Juntar as duas transformações"
   ]
  },
  {
   "cell_type": "code",
   "execution_count": null,
   "id": "669ce99b",
   "metadata": {},
   "outputs": [],
   "source": []
  },
  {
   "cell_type": "markdown",
   "id": "dd3a6b98",
   "metadata": {},
   "source": [
    "### Criar um modelo linear que preveja o peso de uma pessoa, dados o gênero e a altura.\n"
   ]
  },
  {
   "cell_type": "code",
   "execution_count": null,
   "id": "b0b1e414",
   "metadata": {},
   "outputs": [],
   "source": [
    "from sklearn.linear_model import LinearRegression\n",
    "\n"
   ]
  },
  {
   "cell_type": "markdown",
   "id": "6f70ed0f",
   "metadata": {},
   "source": [
    "### Use os dados de teste para estimar a qualidade das predições."
   ]
  },
  {
   "cell_type": "code",
   "execution_count": null,
   "id": "467f2a43",
   "metadata": {
    "scrolled": true
   },
   "outputs": [],
   "source": [
    "# dados teste não transformados\n"
   ]
  },
  {
   "cell_type": "markdown",
   "id": "791ba1a4",
   "metadata": {},
   "source": [
    "### Aplicar as mesmas transformaçoes aos dados de teste\n",
    "- Por que transformamos os dados de teste?"
   ]
  },
  {
   "cell_type": "code",
   "execution_count": null,
   "id": "569ad8eb",
   "metadata": {},
   "outputs": [],
   "source": [
    "test_data"
   ]
  },
  {
   "cell_type": "code",
   "execution_count": null,
   "id": "daffd945",
   "metadata": {},
   "outputs": [],
   "source": [
    "# aplicamos só o método transform para evitar data leakage (vazamento de dados)\n",
    "\n"
   ]
  },
  {
   "cell_type": "code",
   "execution_count": null,
   "id": "a49ad6b9",
   "metadata": {},
   "outputs": [],
   "source": [
    "# dados de teste transformados\n"
   ]
  },
  {
   "cell_type": "code",
   "execution_count": null,
   "id": "551a8ee0",
   "metadata": {},
   "outputs": [],
   "source": []
  },
  {
   "cell_type": "markdown",
   "id": "202ff205",
   "metadata": {},
   "source": [
    "**Para pensar:** O que houve com a coluna que não foi tradada? Como adicioná-la ao resultado final?"
   ]
  },
  {
   "cell_type": "markdown",
   "id": "0176b61c",
   "metadata": {},
   "source": [
    "<details>\n",
    "    <summary> Depois que pensar, clique aqui! </summary>\n",
    "        \n",
    "> Adicionaria as colunas no dataset transformado!\n",
    "\n",
    "</details> "
   ]
  },
  {
   "cell_type": "markdown",
   "id": "02c2f4a5",
   "metadata": {},
   "source": [
    "**Para pensar:** Quais as vantagens e desvantagens do método acima? Ele é escalável?"
   ]
  },
  {
   "cell_type": "markdown",
   "id": "6182cc30",
   "metadata": {},
   "source": [
    "<details>\n",
    "    <summary> Depois que pensar, clique aqui! </summary>\n",
    "        \n",
    "> Desvatangem: \n",
    ">- parece muito mais complicado (dá muito mais voltas!)\n",
    ">- não é escalável: muito trabalho manual\n",
    ">- por ser manual, sujeito à erros\n",
    "\n",
    "> Vantagem:\n",
    ">- fácil de aplicar nos dados de teste (só fazer .transform())\n",
    ">- é \"humam-readable\" (perceptível, fácilmente compreensível)\n",
    "    \n",
    "</details>"
   ]
  },
  {
   "cell_type": "code",
   "execution_count": null,
   "id": "a238e59c",
   "metadata": {},
   "outputs": [],
   "source": []
  },
  {
   "cell_type": "markdown",
   "id": "43f330c0",
   "metadata": {},
   "source": [
    "## [Column Transformer ](https://scikit-learn.org/stable/modules/generated/sklearn.compose.ColumnTransformer.html)\n",
    "\n",
    "Refaça o execício acima de forma mais 'elegante' (e segura e escalável etc)"
   ]
  },
  {
   "cell_type": "markdown",
   "id": "2fb017bb",
   "metadata": {},
   "source": [
    "### passos 1, 2 e 3 de uma vez só: criar X_treino"
   ]
  },
  {
   "cell_type": "code",
   "execution_count": null,
   "id": "e4f9b208",
   "metadata": {},
   "outputs": [],
   "source": [
    "from sklearn.compose import ColumnTransformer\n",
    "\n"
   ]
  },
  {
   "cell_type": "markdown",
   "id": "6edd70ea",
   "metadata": {},
   "source": [
    "### passo 4 de forma beeeeeem mais simple: criar X_teste\n"
   ]
  },
  {
   "cell_type": "code",
   "execution_count": null,
   "id": "35871fbb",
   "metadata": {},
   "outputs": [],
   "source": []
  },
  {
   "cell_type": "markdown",
   "id": "a702fa1e",
   "metadata": {},
   "source": [
    "### criar o modelo com os dados do ColumnTransformer"
   ]
  },
  {
   "cell_type": "code",
   "execution_count": null,
   "id": "5d36aa94",
   "metadata": {},
   "outputs": [],
   "source": [
    "X_treino = ?\n",
    "y_treino = ?\n",
    "\n",
    "lr = LinearRegression()\n",
    "\n",
    "lr.fit(X_treino, y_treino) "
   ]
  },
  {
   "cell_type": "markdown",
   "id": "43e1e5ad",
   "metadata": {},
   "source": [
    "### Use os dados de teste para estimar a qualidade das predições."
   ]
  },
  {
   "cell_type": "code",
   "execution_count": null,
   "id": "9509be7f",
   "metadata": {},
   "outputs": [],
   "source": [
    "X_teste = ?\n",
    "y_teste = ?\n",
    "\n",
    "y_pred = lr.predict(X_teste)\n",
    "\n",
    "\n",
    "print('R2 score:', r2_score(y_teste, y_pred))\n",
    "print('mean square error:', mean_squared_error(y_teste, y_pred))\n",
    "## note que o resultado é exatamente igual ao resultado anterior (manual)"
   ]
  },
  {
   "cell_type": "markdown",
   "id": "751014db",
   "metadata": {},
   "source": [
    "**Para pensar:** Será que há um jeito elegante de fazer todo o fluxo de ML? 👇🏻"
   ]
  },
  {
   "cell_type": "markdown",
   "id": "788d9474",
   "metadata": {},
   "source": [
    "# [Pipeline](https://scikit-learn.org/stable/modules/generated/sklearn.pipeline.Pipeline.html)\n",
    "\n",
    "**Tarefa:** Refaça o problema acima usando Pipeline. Note as vantagens dessa técnica!"
   ]
  },
  {
   "cell_type": "markdown",
   "id": "3eca8809",
   "metadata": {},
   "source": [
    "## refazendo passos 1 a 5 com pipeline!"
   ]
  },
  {
   "cell_type": "code",
   "execution_count": null,
   "id": "260af41c",
   "metadata": {},
   "outputs": [],
   "source": [
    "from sklearn.pipeline import Pipeline\n",
    "\n"
   ]
  },
  {
   "cell_type": "markdown",
   "id": "9b1e0d31",
   "metadata": {},
   "source": [
    "## refazendo passo 6 com pipeline!\n",
    "- note que os dados de teste ainda não foram preprocessados!"
   ]
  },
  {
   "cell_type": "code",
   "execution_count": null,
   "id": "98d5d133",
   "metadata": {},
   "outputs": [],
   "source": [
    "y_pred = ?\n",
    "y_teste = ?\n",
    "\n",
    "print('R2 score:', r2_score(y_teste, y_pred))\n",
    "print('mean square error:', mean_squared_error(y_teste, y_pred))\n",
    "## note que o resultado é exatamente igual ao resultado anterior (manual)"
   ]
  },
  {
   "cell_type": "code",
   "execution_count": null,
   "id": "841c302b",
   "metadata": {},
   "outputs": [],
   "source": []
  },
  {
   "cell_type": "markdown",
   "id": "7290b0e3",
   "metadata": {},
   "source": [
    "**Para pensar:** Podemos aplicar mais de uma transformação em cada coluna? 👇🏻"
   ]
  },
  {
   "cell_type": "markdown",
   "id": "a70a088c",
   "metadata": {},
   "source": [
    "## Pipeline + ColumnTransform\n",
    "- Refaça o execício acima normalizando os dados de altura usando com MinMaxScaler"
   ]
  },
  {
   "cell_type": "code",
   "execution_count": null,
   "id": "393916f1",
   "metadata": {},
   "outputs": [],
   "source": [
    "from sklearn.preprocessing import MinMaxScaler\n",
    "\n"
   ]
  },
  {
   "cell_type": "code",
   "execution_count": null,
   "id": "85172b15",
   "metadata": {},
   "outputs": [],
   "source": [
    "## passando a variável 'weight' sem nenhuma transformação!\n"
   ]
  },
  {
   "cell_type": "code",
   "execution_count": null,
   "id": "ca45ea5e",
   "metadata": {},
   "outputs": [],
   "source": []
  },
  {
   "cell_type": "markdown",
   "id": "a56f5b4b",
   "metadata": {},
   "source": [
    "# Salvando e reutilizando o modelo"
   ]
  },
  {
   "cell_type": "code",
   "execution_count": null,
   "id": "2d0b1644",
   "metadata": {},
   "outputs": [],
   "source": []
  },
  {
   "cell_type": "code",
   "execution_count": null,
   "id": "cd71fe19",
   "metadata": {},
   "outputs": [],
   "source": []
  },
  {
   "cell_type": "code",
   "execution_count": null,
   "id": "04b5a5cc",
   "metadata": {},
   "outputs": [],
   "source": []
  },
  {
   "cell_type": "code",
   "execution_count": null,
   "id": "8a0f7d36",
   "metadata": {},
   "outputs": [],
   "source": []
  }
 ],
 "metadata": {
  "kernelspec": {
   "display_name": "Python 3",
   "language": "python",
   "name": "python3"
  },
  "language_info": {
   "codemirror_mode": {
    "name": "ipython",
    "version": 3
   },
   "file_extension": ".py",
   "mimetype": "text/x-python",
   "name": "python",
   "nbconvert_exporter": "python",
   "pygments_lexer": "ipython3",
   "version": "3.8.8"
  },
  "toc": {
   "base_numbering": 1,
   "nav_menu": {},
   "number_sections": true,
   "sideBar": true,
   "skip_h1_title": false,
   "title_cell": "Table of Contents",
   "title_sidebar": "Contents",
   "toc_cell": false,
   "toc_position": {},
   "toc_section_display": true,
   "toc_window_display": true
  }
 },
 "nbformat": 4,
 "nbformat_minor": 5
}
