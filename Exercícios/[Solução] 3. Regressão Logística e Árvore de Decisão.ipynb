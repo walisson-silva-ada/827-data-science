{
 "cells": [
  {
   "cell_type": "markdown",
   "metadata": {},
   "source": [
    "# Exercícios\n",
    "\n",
    "#### Problemas de Classificação\n",
    "\n",
    "---\n",
    "\n",
    "<img src=\"https://selecao.letscode.com.br/favicon.png\" width=\"40px\" style=\"position: absolute; top: 0px; right: 40px; border-radius: 5px;\" />"
   ]
  },
  {
   "cell_type": "code",
   "execution_count": 27,
   "metadata": {
    "execution": {
     "iopub.execute_input": "2022-03-07T18:29:08.966356Z",
     "iopub.status.busy": "2022-03-07T18:29:08.966176Z",
     "iopub.status.idle": "2022-03-07T18:29:08.970818Z",
     "shell.execute_reply": "2022-03-07T18:29:08.970248Z",
     "shell.execute_reply.started": "2022-03-07T18:29:08.966335Z"
    },
    "tags": []
   },
   "outputs": [],
   "source": [
    "import numpy as np\n",
    "import pandas as pd\n",
    "import matplotlib.pyplot as plt\n",
    "import seaborn as sns\n",
    "from sklearn.linear_model import LogisticRegression\n",
    "from sklearn.ensemble import BaggingClassifier, RandomForestClassifier, AdaBoostClassifier\n",
    "from sklearn.metrics import accuracy_score, precision_score, recall_score, roc_auc_score, confusion_matrix\n",
    "from sklearn.model_selection import train_test_split, cross_validate\n",
    "from sklearn.pipeline import Pipeline\n",
    "from sklearn.preprocessing import MinMaxScaler, StandardScaler\n",
    "from sklearn.impute import SimpleImputer\n",
    "from sklearn.compose import ColumnTransformer\n",
    "\n",
    "sns.set()"
   ]
  },
  {
   "cell_type": "markdown",
   "metadata": {},
   "source": [
    "## 1. Marketing\n",
    "\n",
    "Neste primeiro caso, você irá utilizar um dataset de marketing (propagandas/advertising) (que está disponível no <a href=\"https://www.kaggle.com/fayomi/advertising\">Kaggle</a>).\n",
    "\n",
    "A sua base de dados contém as seguintes colunas:\n",
    "\n",
    "* 'Daily Time Spent on Site': tempo que o cliente ficou no site (em minutos);\n",
    "* 'Age': idade do cliente (em anos);\n",
    "* 'Area Income': média salarial (por ano) da região geográfica do cliente;\n",
    "* 'Daily Internet Usage': tempo médio (em minutos) que o cliente fica na internet;\n",
    "* 'Ad Topic Line': título do anúncio;\n",
    "* 'City': cidade do cliente;\n",
    "* 'Male': dummy indicando se o cliente é do sexo masculino (1) ou não (0);\n",
    "* 'Country': país do cliente;\n",
    "* 'Timestamp': marcação de tempo em que o cliente clickou no anúncio OU fechou a página\n",
    "* 'Clicked on Ad': dummy indicando se o cliente clickou no anúncio (1) ou não (0).\n",
    "\n",
    "Seu objetivo é criar um modelo que possa prever se um determinado usuário clicará em um anúncio online ou não, com base em suas características pessoais/comportamentais, bem como informações relativas ao anúncio.\n",
    "\n",
    "Suas variáveis independentes (preditores/features) podem ser as primeiras 9 colunas, enquanto sua variável dependente (resposta/target) é a última coluna (\"Clicked on Ad\").\n",
    "\n",
    "Ou seja, seu modelo deve ser capaz de dizer se um usuário com um conjunto particular das 9 features vai clicar no anúncio ou não.\n",
    "\n",
    "> [Clique aqui](https://s3-sa-east-1.amazonaws.com/lcpi/50f53645-6236-4e71-b9b1-5ba0372e16a7.csv) para fazer o download do dataset."
   ]
  },
  {
   "cell_type": "code",
   "execution_count": 3,
   "metadata": {
    "execution": {
     "iopub.execute_input": "2022-03-07T18:12:09.671530Z",
     "iopub.status.busy": "2022-03-07T18:12:09.671325Z",
     "iopub.status.idle": "2022-03-07T18:12:09.929835Z",
     "shell.execute_reply": "2022-03-07T18:12:09.929368Z",
     "shell.execute_reply.started": "2022-03-07T18:12:09.671509Z"
    }
   },
   "outputs": [],
   "source": [
    "df = pd.read_csv('https://s3-sa-east-1.amazonaws.com/lcpi/50f53645-6236-4e71-b9b1-5ba0372e16a7.csv')"
   ]
  },
  {
   "cell_type": "code",
   "execution_count": 4,
   "metadata": {
    "execution": {
     "iopub.execute_input": "2022-03-07T18:12:24.575090Z",
     "iopub.status.busy": "2022-03-07T18:12:24.574898Z",
     "iopub.status.idle": "2022-03-07T18:12:24.594332Z",
     "shell.execute_reply": "2022-03-07T18:12:24.593263Z",
     "shell.execute_reply.started": "2022-03-07T18:12:24.575062Z"
    }
   },
   "outputs": [
    {
     "data": {
      "text/html": [
       "<div>\n",
       "<style scoped>\n",
       "    .dataframe tbody tr th:only-of-type {\n",
       "        vertical-align: middle;\n",
       "    }\n",
       "\n",
       "    .dataframe tbody tr th {\n",
       "        vertical-align: top;\n",
       "    }\n",
       "\n",
       "    .dataframe thead th {\n",
       "        text-align: right;\n",
       "    }\n",
       "</style>\n",
       "<table border=\"1\" class=\"dataframe\">\n",
       "  <thead>\n",
       "    <tr style=\"text-align: right;\">\n",
       "      <th></th>\n",
       "      <th>Daily Time Spent on Site</th>\n",
       "      <th>Age</th>\n",
       "      <th>Area Income</th>\n",
       "      <th>Daily Internet Usage</th>\n",
       "      <th>Ad Topic Line</th>\n",
       "      <th>City</th>\n",
       "      <th>Male</th>\n",
       "      <th>Country</th>\n",
       "      <th>Timestamp</th>\n",
       "      <th>Clicked on Ad</th>\n",
       "    </tr>\n",
       "  </thead>\n",
       "  <tbody>\n",
       "    <tr>\n",
       "      <th>0</th>\n",
       "      <td>68.95</td>\n",
       "      <td>35</td>\n",
       "      <td>61833.90</td>\n",
       "      <td>256.09</td>\n",
       "      <td>Cloned 5thgeneration orchestration</td>\n",
       "      <td>Wrightburgh</td>\n",
       "      <td>0</td>\n",
       "      <td>Tunisia</td>\n",
       "      <td>2016-03-27 00:53:11</td>\n",
       "      <td>0</td>\n",
       "    </tr>\n",
       "    <tr>\n",
       "      <th>1</th>\n",
       "      <td>80.23</td>\n",
       "      <td>31</td>\n",
       "      <td>68441.85</td>\n",
       "      <td>193.77</td>\n",
       "      <td>Monitored national standardization</td>\n",
       "      <td>West Jodi</td>\n",
       "      <td>1</td>\n",
       "      <td>Nauru</td>\n",
       "      <td>2016-04-04 01:39:02</td>\n",
       "      <td>0</td>\n",
       "    </tr>\n",
       "    <tr>\n",
       "      <th>2</th>\n",
       "      <td>69.47</td>\n",
       "      <td>26</td>\n",
       "      <td>59785.94</td>\n",
       "      <td>236.50</td>\n",
       "      <td>Organic bottom-line service-desk</td>\n",
       "      <td>Davidton</td>\n",
       "      <td>0</td>\n",
       "      <td>San Marino</td>\n",
       "      <td>2016-03-13 20:35:42</td>\n",
       "      <td>0</td>\n",
       "    </tr>\n",
       "    <tr>\n",
       "      <th>3</th>\n",
       "      <td>74.15</td>\n",
       "      <td>29</td>\n",
       "      <td>54806.18</td>\n",
       "      <td>245.89</td>\n",
       "      <td>Triple-buffered reciprocal time-frame</td>\n",
       "      <td>West Terrifurt</td>\n",
       "      <td>1</td>\n",
       "      <td>Italy</td>\n",
       "      <td>2016-01-10 02:31:19</td>\n",
       "      <td>0</td>\n",
       "    </tr>\n",
       "    <tr>\n",
       "      <th>4</th>\n",
       "      <td>68.37</td>\n",
       "      <td>35</td>\n",
       "      <td>73889.99</td>\n",
       "      <td>225.58</td>\n",
       "      <td>Robust logistical utilization</td>\n",
       "      <td>South Manuel</td>\n",
       "      <td>0</td>\n",
       "      <td>Iceland</td>\n",
       "      <td>2016-06-03 03:36:18</td>\n",
       "      <td>0</td>\n",
       "    </tr>\n",
       "  </tbody>\n",
       "</table>\n",
       "</div>"
      ],
      "text/plain": [
       "   Daily Time Spent on Site  Age  Area Income  Daily Internet Usage  \\\n",
       "0                     68.95   35     61833.90                256.09   \n",
       "1                     80.23   31     68441.85                193.77   \n",
       "2                     69.47   26     59785.94                236.50   \n",
       "3                     74.15   29     54806.18                245.89   \n",
       "4                     68.37   35     73889.99                225.58   \n",
       "\n",
       "                           Ad Topic Line            City  Male     Country  \\\n",
       "0     Cloned 5thgeneration orchestration     Wrightburgh     0     Tunisia   \n",
       "1     Monitored national standardization       West Jodi     1       Nauru   \n",
       "2       Organic bottom-line service-desk        Davidton     0  San Marino   \n",
       "3  Triple-buffered reciprocal time-frame  West Terrifurt     1       Italy   \n",
       "4          Robust logistical utilization    South Manuel     0     Iceland   \n",
       "\n",
       "             Timestamp  Clicked on Ad  \n",
       "0  2016-03-27 00:53:11              0  \n",
       "1  2016-04-04 01:39:02              0  \n",
       "2  2016-03-13 20:35:42              0  \n",
       "3  2016-01-10 02:31:19              0  \n",
       "4  2016-06-03 03:36:18              0  "
      ]
     },
     "execution_count": 4,
     "metadata": {},
     "output_type": "execute_result"
    }
   ],
   "source": [
    "df.head()"
   ]
  },
  {
   "cell_type": "code",
   "execution_count": 11,
   "metadata": {
    "execution": {
     "iopub.execute_input": "2022-03-07T18:14:38.234369Z",
     "iopub.status.busy": "2022-03-07T18:14:38.233976Z",
     "iopub.status.idle": "2022-03-07T18:14:38.247696Z",
     "shell.execute_reply": "2022-03-07T18:14:38.246997Z",
     "shell.execute_reply.started": "2022-03-07T18:14:38.234342Z"
    }
   },
   "outputs": [
    {
     "name": "stdout",
     "output_type": "stream",
     "text": [
      "<class 'pandas.core.frame.DataFrame'>\n",
      "RangeIndex: 1000 entries, 0 to 999\n",
      "Data columns (total 10 columns):\n",
      " #   Column                    Non-Null Count  Dtype  \n",
      "---  ------                    --------------  -----  \n",
      " 0   Daily Time Spent on Site  1000 non-null   float64\n",
      " 1   Age                       1000 non-null   int64  \n",
      " 2   Area Income               1000 non-null   float64\n",
      " 3   Daily Internet Usage      1000 non-null   float64\n",
      " 4   Ad Topic Line             1000 non-null   object \n",
      " 5   City                      1000 non-null   object \n",
      " 6   Male                      1000 non-null   int64  \n",
      " 7   Country                   1000 non-null   object \n",
      " 8   Timestamp                 1000 non-null   object \n",
      " 9   Clicked on Ad             1000 non-null   int64  \n",
      "dtypes: float64(3), int64(3), object(4)\n",
      "memory usage: 78.2+ KB\n"
     ]
    }
   ],
   "source": [
    "df.info()"
   ]
  },
  {
   "cell_type": "code",
   "execution_count": 12,
   "metadata": {
    "execution": {
     "iopub.execute_input": "2022-03-07T18:14:50.981660Z",
     "iopub.status.busy": "2022-03-07T18:14:50.981460Z",
     "iopub.status.idle": "2022-03-07T18:14:50.987850Z",
     "shell.execute_reply": "2022-03-07T18:14:50.987103Z",
     "shell.execute_reply.started": "2022-03-07T18:14:50.981639Z"
    }
   },
   "outputs": [
    {
     "data": {
      "text/plain": [
       "Daily Time Spent on Site    0\n",
       "Age                         0\n",
       "Area Income                 0\n",
       "Daily Internet Usage        0\n",
       "Ad Topic Line               0\n",
       "City                        0\n",
       "Male                        0\n",
       "Country                     0\n",
       "Timestamp                   0\n",
       "Clicked on Ad               0\n",
       "dtype: int64"
      ]
     },
     "execution_count": 12,
     "metadata": {},
     "output_type": "execute_result"
    }
   ],
   "source": [
    "df.isnull().sum()"
   ]
  },
  {
   "cell_type": "code",
   "execution_count": 5,
   "metadata": {
    "execution": {
     "iopub.execute_input": "2022-03-07T18:13:04.278319Z",
     "iopub.status.busy": "2022-03-07T18:13:04.278094Z",
     "iopub.status.idle": "2022-03-07T18:13:04.282736Z",
     "shell.execute_reply": "2022-03-07T18:13:04.282164Z",
     "shell.execute_reply.started": "2022-03-07T18:13:04.278295Z"
    }
   },
   "outputs": [
    {
     "data": {
      "text/plain": [
       "array([0, 1])"
      ]
     },
     "execution_count": 5,
     "metadata": {},
     "output_type": "execute_result"
    }
   ],
   "source": [
    "df['Clicked on Ad'].unique()"
   ]
  },
  {
   "cell_type": "code",
   "execution_count": 6,
   "metadata": {
    "execution": {
     "iopub.execute_input": "2022-03-07T18:13:14.816073Z",
     "iopub.status.busy": "2022-03-07T18:13:14.815866Z",
     "iopub.status.idle": "2022-03-07T18:13:14.822353Z",
     "shell.execute_reply": "2022-03-07T18:13:14.821534Z",
     "shell.execute_reply.started": "2022-03-07T18:13:14.816052Z"
    }
   },
   "outputs": [
    {
     "data": {
      "text/plain": [
       "0    500\n",
       "1    500\n",
       "Name: Clicked on Ad, dtype: int64"
      ]
     },
     "execution_count": 6,
     "metadata": {},
     "output_type": "execute_result"
    }
   ],
   "source": [
    "df['Clicked on Ad'].value_counts()"
   ]
  },
  {
   "cell_type": "code",
   "execution_count": 7,
   "metadata": {
    "execution": {
     "iopub.execute_input": "2022-03-07T18:13:35.470030Z",
     "iopub.status.busy": "2022-03-07T18:13:35.469842Z",
     "iopub.status.idle": "2022-03-07T18:13:35.628212Z",
     "shell.execute_reply": "2022-03-07T18:13:35.627165Z",
     "shell.execute_reply.started": "2022-03-07T18:13:35.470010Z"
    }
   },
   "outputs": [
    {
     "data": {
      "text/plain": [
       "<AxesSubplot:xlabel='Clicked on Ad', ylabel='count'>"
      ]
     },
     "execution_count": 7,
     "metadata": {},
     "output_type": "execute_result"
    },
    {
     "data": {
      "image/png": "[encoded data removed]",
      "text/plain": [
       "<Figure size 432x288 with 1 Axes>"
      ]
     },
     "metadata": {},
     "output_type": "display_data"
    }
   ],
   "source": [
    "sns.countplot(x=df['Clicked on Ad'])"
   ]
  },
  {
   "cell_type": "markdown",
   "metadata": {},
   "source": [
    "#### Analisando colunas categóricas"
   ]
  },
  {
   "cell_type": "code",
   "execution_count": 9,
   "metadata": {
    "execution": {
     "iopub.execute_input": "2022-03-07T18:14:20.273011Z",
     "iopub.status.busy": "2022-03-07T18:14:20.272824Z",
     "iopub.status.idle": "2022-03-07T18:14:20.286707Z",
     "shell.execute_reply": "2022-03-07T18:14:20.285901Z",
     "shell.execute_reply.started": "2022-03-07T18:14:20.272989Z"
    },
    "tags": []
   },
   "outputs": [
    {
     "data": {
      "text/html": [
       "<div>\n",
       "<style scoped>\n",
       "    .dataframe tbody tr th:only-of-type {\n",
       "        vertical-align: middle;\n",
       "    }\n",
       "\n",
       "    .dataframe tbody tr th {\n",
       "        vertical-align: top;\n",
       "    }\n",
       "\n",
       "    .dataframe thead th {\n",
       "        text-align: right;\n",
       "    }\n",
       "</style>\n",
       "<table border=\"1\" class=\"dataframe\">\n",
       "  <thead>\n",
       "    <tr style=\"text-align: right;\">\n",
       "      <th></th>\n",
       "      <th>Ad Topic Line</th>\n",
       "      <th>City</th>\n",
       "      <th>Country</th>\n",
       "      <th>Timestamp</th>\n",
       "    </tr>\n",
       "  </thead>\n",
       "  <tbody>\n",
       "    <tr>\n",
       "      <th>0</th>\n",
       "      <td>Cloned 5thgeneration orchestration</td>\n",
       "      <td>Wrightburgh</td>\n",
       "      <td>Tunisia</td>\n",
       "      <td>2016-03-27 00:53:11</td>\n",
       "    </tr>\n",
       "    <tr>\n",
       "      <th>1</th>\n",
       "      <td>Monitored national standardization</td>\n",
       "      <td>West Jodi</td>\n",
       "      <td>Nauru</td>\n",
       "      <td>2016-04-04 01:39:02</td>\n",
       "    </tr>\n",
       "    <tr>\n",
       "      <th>2</th>\n",
       "      <td>Organic bottom-line service-desk</td>\n",
       "      <td>Davidton</td>\n",
       "      <td>San Marino</td>\n",
       "      <td>2016-03-13 20:35:42</td>\n",
       "    </tr>\n",
       "    <tr>\n",
       "      <th>3</th>\n",
       "      <td>Triple-buffered reciprocal time-frame</td>\n",
       "      <td>West Terrifurt</td>\n",
       "      <td>Italy</td>\n",
       "      <td>2016-01-10 02:31:19</td>\n",
       "    </tr>\n",
       "    <tr>\n",
       "      <th>4</th>\n",
       "      <td>Robust logistical utilization</td>\n",
       "      <td>South Manuel</td>\n",
       "      <td>Iceland</td>\n",
       "      <td>2016-06-03 03:36:18</td>\n",
       "    </tr>\n",
       "  </tbody>\n",
       "</table>\n",
       "</div>"
      ],
      "text/plain": [
       "                           Ad Topic Line            City     Country  \\\n",
       "0     Cloned 5thgeneration orchestration     Wrightburgh     Tunisia   \n",
       "1     Monitored national standardization       West Jodi       Nauru   \n",
       "2       Organic bottom-line service-desk        Davidton  San Marino   \n",
       "3  Triple-buffered reciprocal time-frame  West Terrifurt       Italy   \n",
       "4          Robust logistical utilization    South Manuel     Iceland   \n",
       "\n",
       "             Timestamp  \n",
       "0  2016-03-27 00:53:11  \n",
       "1  2016-04-04 01:39:02  \n",
       "2  2016-03-13 20:35:42  \n",
       "3  2016-01-10 02:31:19  \n",
       "4  2016-06-03 03:36:18  "
      ]
     },
     "execution_count": 9,
     "metadata": {},
     "output_type": "execute_result"
    }
   ],
   "source": [
    "df.select_dtypes(include=['object']).head()"
   ]
  },
  {
   "cell_type": "code",
   "execution_count": 10,
   "metadata": {
    "execution": {
     "iopub.execute_input": "2022-03-07T18:14:28.438170Z",
     "iopub.status.busy": "2022-03-07T18:14:28.437881Z",
     "iopub.status.idle": "2022-03-07T18:14:28.443904Z",
     "shell.execute_reply": "2022-03-07T18:14:28.443317Z",
     "shell.execute_reply.started": "2022-03-07T18:14:28.438144Z"
    }
   },
   "outputs": [
    {
     "data": {
      "text/plain": [
       "1000"
      ]
     },
     "execution_count": 10,
     "metadata": {},
     "output_type": "execute_result"
    }
   ],
   "source": [
    "df['Ad Topic Line'].nunique()"
   ]
  },
  {
   "cell_type": "code",
   "execution_count": 13,
   "metadata": {
    "execution": {
     "iopub.execute_input": "2022-03-07T18:15:29.768862Z",
     "iopub.status.busy": "2022-03-07T18:15:29.768458Z",
     "iopub.status.idle": "2022-03-07T18:15:29.774170Z",
     "shell.execute_reply": "2022-03-07T18:15:29.773371Z",
     "shell.execute_reply.started": "2022-03-07T18:15:29.768818Z"
    }
   },
   "outputs": [
    {
     "data": {
      "text/plain": [
       "969"
      ]
     },
     "execution_count": 13,
     "metadata": {},
     "output_type": "execute_result"
    }
   ],
   "source": [
    "df['City'].nunique()"
   ]
  },
  {
   "cell_type": "code",
   "execution_count": 14,
   "metadata": {
    "execution": {
     "iopub.execute_input": "2022-03-07T18:15:43.878453Z",
     "iopub.status.busy": "2022-03-07T18:15:43.878198Z",
     "iopub.status.idle": "2022-03-07T18:15:43.886752Z",
     "shell.execute_reply": "2022-03-07T18:15:43.885457Z",
     "shell.execute_reply.started": "2022-03-07T18:15:43.878401Z"
    }
   },
   "outputs": [
    {
     "data": {
      "text/plain": [
       "237"
      ]
     },
     "execution_count": 14,
     "metadata": {},
     "output_type": "execute_result"
    }
   ],
   "source": [
    "df['Country'].nunique()"
   ]
  },
  {
   "cell_type": "markdown",
   "metadata": {},
   "source": [
    "### Obtendo os dados de entrada e saída"
   ]
  },
  {
   "cell_type": "code",
   "execution_count": 16,
   "metadata": {
    "execution": {
     "iopub.execute_input": "2022-03-07T18:17:21.617928Z",
     "iopub.status.busy": "2022-03-07T18:17:21.617728Z",
     "iopub.status.idle": "2022-03-07T18:17:21.623900Z",
     "shell.execute_reply": "2022-03-07T18:17:21.622989Z",
     "shell.execute_reply.started": "2022-03-07T18:17:21.617908Z"
    },
    "tags": []
   },
   "outputs": [],
   "source": [
    "X = df.select_dtypes(exclude=['object']).drop(columns=['Clicked on Ad'])\n",
    "y = df['Clicked on Ad']"
   ]
  },
  {
   "cell_type": "code",
   "execution_count": 17,
   "metadata": {
    "execution": {
     "iopub.execute_input": "2022-03-07T18:17:35.008815Z",
     "iopub.status.busy": "2022-03-07T18:17:35.008641Z",
     "iopub.status.idle": "2022-03-07T18:17:35.017514Z",
     "shell.execute_reply": "2022-03-07T18:17:35.016731Z",
     "shell.execute_reply.started": "2022-03-07T18:17:35.008796Z"
    }
   },
   "outputs": [
    {
     "data": {
      "text/html": [
       "<div>\n",
       "<style scoped>\n",
       "    .dataframe tbody tr th:only-of-type {\n",
       "        vertical-align: middle;\n",
       "    }\n",
       "\n",
       "    .dataframe tbody tr th {\n",
       "        vertical-align: top;\n",
       "    }\n",
       "\n",
       "    .dataframe thead th {\n",
       "        text-align: right;\n",
       "    }\n",
       "</style>\n",
       "<table border=\"1\" class=\"dataframe\">\n",
       "  <thead>\n",
       "    <tr style=\"text-align: right;\">\n",
       "      <th></th>\n",
       "      <th>Daily Time Spent on Site</th>\n",
       "      <th>Age</th>\n",
       "      <th>Area Income</th>\n",
       "      <th>Daily Internet Usage</th>\n",
       "      <th>Male</th>\n",
       "    </tr>\n",
       "  </thead>\n",
       "  <tbody>\n",
       "    <tr>\n",
       "      <th>0</th>\n",
       "      <td>68.95</td>\n",
       "      <td>35</td>\n",
       "      <td>61833.90</td>\n",
       "      <td>256.09</td>\n",
       "      <td>0</td>\n",
       "    </tr>\n",
       "    <tr>\n",
       "      <th>1</th>\n",
       "      <td>80.23</td>\n",
       "      <td>31</td>\n",
       "      <td>68441.85</td>\n",
       "      <td>193.77</td>\n",
       "      <td>1</td>\n",
       "    </tr>\n",
       "    <tr>\n",
       "      <th>2</th>\n",
       "      <td>69.47</td>\n",
       "      <td>26</td>\n",
       "      <td>59785.94</td>\n",
       "      <td>236.50</td>\n",
       "      <td>0</td>\n",
       "    </tr>\n",
       "    <tr>\n",
       "      <th>3</th>\n",
       "      <td>74.15</td>\n",
       "      <td>29</td>\n",
       "      <td>54806.18</td>\n",
       "      <td>245.89</td>\n",
       "      <td>1</td>\n",
       "    </tr>\n",
       "    <tr>\n",
       "      <th>4</th>\n",
       "      <td>68.37</td>\n",
       "      <td>35</td>\n",
       "      <td>73889.99</td>\n",
       "      <td>225.58</td>\n",
       "      <td>0</td>\n",
       "    </tr>\n",
       "  </tbody>\n",
       "</table>\n",
       "</div>"
      ],
      "text/plain": [
       "   Daily Time Spent on Site  Age  Area Income  Daily Internet Usage  Male\n",
       "0                     68.95   35     61833.90                256.09     0\n",
       "1                     80.23   31     68441.85                193.77     1\n",
       "2                     69.47   26     59785.94                236.50     0\n",
       "3                     74.15   29     54806.18                245.89     1\n",
       "4                     68.37   35     73889.99                225.58     0"
      ]
     },
     "execution_count": 17,
     "metadata": {},
     "output_type": "execute_result"
    }
   ],
   "source": [
    "X.head()"
   ]
  },
  {
   "cell_type": "code",
   "execution_count": 18,
   "metadata": {
    "execution": {
     "iopub.execute_input": "2022-03-07T18:17:37.998275Z",
     "iopub.status.busy": "2022-03-07T18:17:37.998089Z",
     "iopub.status.idle": "2022-03-07T18:17:38.002606Z",
     "shell.execute_reply": "2022-03-07T18:17:38.002131Z",
     "shell.execute_reply.started": "2022-03-07T18:17:37.998256Z"
    }
   },
   "outputs": [
    {
     "data": {
      "text/plain": [
       "0    0\n",
       "1    0\n",
       "2    0\n",
       "3    0\n",
       "4    0\n",
       "Name: Clicked on Ad, dtype: int64"
      ]
     },
     "execution_count": 18,
     "metadata": {},
     "output_type": "execute_result"
    }
   ],
   "source": [
    "y.head()"
   ]
  },
  {
   "cell_type": "code",
   "execution_count": 20,
   "metadata": {
    "execution": {
     "iopub.execute_input": "2022-03-07T18:18:41.565982Z",
     "iopub.status.busy": "2022-03-07T18:18:41.565758Z",
     "iopub.status.idle": "2022-03-07T18:18:41.570908Z",
     "shell.execute_reply": "2022-03-07T18:18:41.570072Z",
     "shell.execute_reply.started": "2022-03-07T18:18:41.565958Z"
    }
   },
   "outputs": [],
   "source": [
    "X_train, X_test, y_train, y_test = train_test_split(X, y, test_size=0.3, random_state=2)"
   ]
  },
  {
   "cell_type": "markdown",
   "metadata": {},
   "source": [
    "#### Análise de modelos com Validação Cruzada"
   ]
  },
  {
   "cell_type": "code",
   "execution_count": 23,
   "metadata": {
    "execution": {
     "iopub.execute_input": "2022-03-07T18:20:06.474894Z",
     "iopub.status.busy": "2022-03-07T18:20:06.474644Z",
     "iopub.status.idle": "2022-03-07T18:20:06.662802Z",
     "shell.execute_reply": "2022-03-07T18:20:06.662337Z",
     "shell.execute_reply.started": "2022-03-07T18:20:06.474870Z"
    },
    "tags": []
   },
   "outputs": [
    {
     "data": {
      "text/plain": [
       "{'fit_time': array([0.02584124, 0.01853776, 0.03038669, 0.01799893, 0.01171231]),\n",
       " 'score_time': array([0.00887203, 0.006953  , 0.00688314, 0.00500464, 0.00593019]),\n",
       " 'test_precision': array([0.95238095, 0.9       , 0.94285714, 0.87671233, 0.95522388]),\n",
       " 'train_precision': array([0.92142857, 0.93065693, 0.91605839, 0.93772894, 0.91941392]),\n",
       " 'test_recall': array([0.82191781, 0.8630137 , 0.91666667, 0.88888889, 0.88888889]),\n",
       " 'train_recall': array([0.89273356, 0.88235294, 0.86551724, 0.88275862, 0.86551724]),\n",
       " 'test_roc_auc': array([0.92782662, 0.96237988, 0.97303922, 0.92463235, 0.97916667]),\n",
       " 'train_roc_auc': array([0.961261  , 0.95168478, 0.94881226, 0.96228608, 0.94915709])}"
      ]
     },
     "execution_count": 23,
     "metadata": {},
     "output_type": "execute_result"
    }
   ],
   "source": [
    "cross_validate(estimator=LogisticRegression(), X=X_train, y=y_train,\\\n",
    "               scoring=['precision', 'recall', 'roc_auc'], return_train_score=True)"
   ]
  },
  {
   "cell_type": "code",
   "execution_count": 25,
   "metadata": {
    "execution": {
     "iopub.execute_input": "2022-03-07T18:21:23.131223Z",
     "iopub.status.busy": "2022-03-07T18:21:23.131012Z",
     "iopub.status.idle": "2022-03-07T18:21:24.136351Z",
     "shell.execute_reply": "2022-03-07T18:21:24.135901Z",
     "shell.execute_reply.started": "2022-03-07T18:21:23.131201Z"
    },
    "tags": []
   },
   "outputs": [
    {
     "data": {
      "text/plain": [
       "{'fit_time': array([0.18515086, 0.13192129, 0.13503003, 0.13658714, 0.1342988 ]),\n",
       " 'score_time': array([0.02372813, 0.02800131, 0.02272129, 0.0243504 , 0.02593923]),\n",
       " 'test_precision': array([0.98529412, 0.94666667, 0.97260274, 0.91780822, 0.98611111]),\n",
       " 'train_precision': array([0.97909408, 0.99293286, 0.98932384, 0.9862069 , 0.99288256]),\n",
       " 'test_recall': array([0.91780822, 0.97260274, 0.98611111, 0.93055556, 0.98611111]),\n",
       " 'train_recall': array([0.97231834, 0.97231834, 0.95862069, 0.9862069 , 0.96206897]),\n",
       " 'test_roc_auc': array([0.97321611, 0.99366183, 0.99775327, 0.97406046, 0.99938725]),\n",
       " 'train_roc_auc': array([0.99736973, 0.99481607, 0.99421456, 0.99773946, 0.99404853])}"
      ]
     },
     "execution_count": 25,
     "metadata": {},
     "output_type": "execute_result"
    }
   ],
   "source": [
    "cross_validate(estimator=RandomForestClassifier(max_depth=4), X=X_train, y=y_train,\\\n",
    "               scoring=['precision', 'recall', 'roc_auc'], return_train_score=True)"
   ]
  },
  {
   "cell_type": "code",
   "execution_count": 26,
   "metadata": {
    "execution": {
     "iopub.execute_input": "2022-03-07T18:22:14.348513Z",
     "iopub.status.busy": "2022-03-07T18:22:14.348237Z",
     "iopub.status.idle": "2022-03-07T18:22:14.967431Z",
     "shell.execute_reply": "2022-03-07T18:22:14.966899Z",
     "shell.execute_reply.started": "2022-03-07T18:22:14.348481Z"
    }
   },
   "outputs": [
    {
     "data": {
      "text/plain": [
       "{'fit_time': array([0.11369181, 0.0719533 , 0.07187533, 0.06935263, 0.06948137]),\n",
       " 'score_time': array([0.02303433, 0.0198307 , 0.01767325, 0.0206852 , 0.01659656]),\n",
       " 'test_precision': array([0.94117647, 0.93333333, 0.97297297, 0.90540541, 0.97183099]),\n",
       " 'train_precision': array([0.99649123, 0.99647887, 0.9964539 , 0.99653979, 0.99298246]),\n",
       " 'test_recall': array([0.87671233, 0.95890411, 1.        , 0.93055556, 0.95833333]),\n",
       " 'train_recall': array([0.98269896, 0.97923875, 0.96896552, 0.99310345, 0.97586207]),\n",
       " 'test_roc_auc': array([0.95072582, 0.98691474, 0.99857026, 0.96037582, 0.99040033]),\n",
       " 'train_roc_auc': array([0.99985955, 0.99968079, 0.99936143, 0.99996169, 0.999106  ])}"
      ]
     },
     "execution_count": 26,
     "metadata": {},
     "output_type": "execute_result"
    }
   ],
   "source": [
    "cross_validate(estimator=AdaBoostClassifier(), X=X_train, y=y_train,\\\n",
    "               scoring=['precision', 'recall', 'roc_auc'], return_train_score=True)"
   ]
  },
  {
   "cell_type": "markdown",
   "metadata": {},
   "source": [
    "### Criando uma pipeline"
   ]
  },
  {
   "cell_type": "code",
   "execution_count": 28,
   "metadata": {
    "execution": {
     "iopub.execute_input": "2022-03-07T18:30:53.099641Z",
     "iopub.status.busy": "2022-03-07T18:30:53.099075Z",
     "iopub.status.idle": "2022-03-07T18:30:53.106940Z",
     "shell.execute_reply": "2022-03-07T18:30:53.106283Z",
     "shell.execute_reply.started": "2022-03-07T18:30:53.099579Z"
    }
   },
   "outputs": [
    {
     "data": {
      "text/plain": [
       "Index(['Daily Time Spent on Site', 'Age', 'Area Income',\n",
       "       'Daily Internet Usage', 'Male'],\n",
       "      dtype='object')"
      ]
     },
     "execution_count": 28,
     "metadata": {},
     "output_type": "execute_result"
    }
   ],
   "source": [
    "X.columns"
   ]
  },
  {
   "cell_type": "code",
   "execution_count": 32,
   "metadata": {
    "execution": {
     "iopub.execute_input": "2022-03-07T18:31:39.666371Z",
     "iopub.status.busy": "2022-03-07T18:31:39.666163Z",
     "iopub.status.idle": "2022-03-07T18:31:39.669247Z",
     "shell.execute_reply": "2022-03-07T18:31:39.668676Z",
     "shell.execute_reply.started": "2022-03-07T18:31:39.666347Z"
    },
    "tags": []
   },
   "outputs": [],
   "source": [
    "ct = ColumnTransformer([\n",
    "    ('scaler', StandardScaler(),\\\n",
    "         ['Daily Time Spent on Site', 'Age', 'Area Income', 'Daily Internet Usage'])\n",
    "])"
   ]
  },
  {
   "cell_type": "code",
   "execution_count": 34,
   "metadata": {
    "execution": {
     "iopub.execute_input": "2022-03-07T18:32:37.621962Z",
     "iopub.status.busy": "2022-03-07T18:32:37.621654Z",
     "iopub.status.idle": "2022-03-07T18:32:37.627019Z",
     "shell.execute_reply": "2022-03-07T18:32:37.625972Z",
     "shell.execute_reply.started": "2022-03-07T18:32:37.621925Z"
    },
    "tags": []
   },
   "outputs": [],
   "source": [
    "pipe = Pipeline([\n",
    "    ('preprocessing', ct),\n",
    "    ('model', LogisticRegression(solver='liblinear'))\n",
    "])"
   ]
  },
  {
   "cell_type": "code",
   "execution_count": 35,
   "metadata": {
    "execution": {
     "iopub.execute_input": "2022-03-07T18:32:53.379025Z",
     "iopub.status.busy": "2022-03-07T18:32:53.378701Z",
     "iopub.status.idle": "2022-03-07T18:32:53.399938Z",
     "shell.execute_reply": "2022-03-07T18:32:53.399285Z",
     "shell.execute_reply.started": "2022-03-07T18:32:53.378978Z"
    }
   },
   "outputs": [
    {
     "data": {
      "text/plain": [
       "Pipeline(steps=[('preprocessing',\n",
       "                 ColumnTransformer(transformers=[('scaler', StandardScaler(),\n",
       "                                                  ['Daily Time Spent on Site',\n",
       "                                                   'Age', 'Area Income',\n",
       "                                                   'Daily Internet Usage'])])),\n",
       "                ('model', LogisticRegression(solver='liblinear'))])"
      ]
     },
     "execution_count": 35,
     "metadata": {},
     "output_type": "execute_result"
    }
   ],
   "source": [
    "pipe.fit(X_train, y_train)"
   ]
  },
  {
   "cell_type": "code",
   "execution_count": 36,
   "metadata": {
    "execution": {
     "iopub.execute_input": "2022-03-07T18:33:20.992063Z",
     "iopub.status.busy": "2022-03-07T18:33:20.991872Z",
     "iopub.status.idle": "2022-03-07T18:33:21.000006Z",
     "shell.execute_reply": "2022-03-07T18:33:20.999538Z",
     "shell.execute_reply.started": "2022-03-07T18:33:20.992036Z"
    }
   },
   "outputs": [],
   "source": [
    "y_pred = pipe.predict(X_test)\n",
    "y_proba = pipe.predict_proba(X_test)[:,1]"
   ]
  },
  {
   "cell_type": "code",
   "execution_count": 37,
   "metadata": {
    "execution": {
     "iopub.execute_input": "2022-03-07T18:33:43.506377Z",
     "iopub.status.busy": "2022-03-07T18:33:43.506172Z",
     "iopub.status.idle": "2022-03-07T18:33:43.511069Z",
     "shell.execute_reply": "2022-03-07T18:33:43.510625Z",
     "shell.execute_reply.started": "2022-03-07T18:33:43.506351Z"
    }
   },
   "outputs": [
    {
     "data": {
      "text/plain": [
       "array([[160,   2],\n",
       "       [  3, 135]])"
      ]
     },
     "execution_count": 37,
     "metadata": {},
     "output_type": "execute_result"
    }
   ],
   "source": [
    "confusion_matrix(y_test, y_pred)"
   ]
  },
  {
   "cell_type": "code",
   "execution_count": 38,
   "metadata": {
    "execution": {
     "iopub.execute_input": "2022-03-07T18:36:33.659116Z",
     "iopub.status.busy": "2022-03-07T18:36:33.658886Z",
     "iopub.status.idle": "2022-03-07T18:36:33.669959Z",
     "shell.execute_reply": "2022-03-07T18:36:33.668857Z",
     "shell.execute_reply.started": "2022-03-07T18:36:33.659092Z"
    }
   },
   "outputs": [],
   "source": [
    "def classification_compare_models(X, y, models):\n",
    "    scores = {}\n",
    "    \n",
    "    for name, model in models.items():\n",
    "        pipe = Pipeline([\n",
    "            ('scaler', MinMaxScaler()),\n",
    "            ('model', model)\n",
    "        ])\n",
    "        \n",
    "        X_train, X_test, y_train, y_test = train_test_split(X, y, test_size=0.3, random_state=2)\n",
    "        \n",
    "        pipe.fit(X_train, y_train)\n",
    "\n",
    "        y_pred = pipe.predict(X_test)\n",
    "        y_proba = pipe.predict_proba(X_test)[:,1]\n",
    "\n",
    "        precision0,\\\n",
    "        recall0,\\\n",
    "        precision1,\\\n",
    "        recall1,\\\n",
    "        roc_auc = precision_score(y_test, y_pred, pos_label=0),\\\n",
    "                    recall_score(y_test, y_pred, pos_label=0),\\\n",
    "                    precision_score(y_test, y_pred),\\\n",
    "                    recall_score(y_test, y_pred),\\\n",
    "                    roc_auc_score(y_test, y_proba)\n",
    "        \n",
    "        scores.setdefault(name, [precision0, recall0, precision1, recall1, roc_auc])\n",
    "        \n",
    "    return pd.DataFrame(scores, index=['precision0', 'recall0', 'precision1', 'recall1', 'roc_auc'])"
   ]
  },
  {
   "cell_type": "code",
   "execution_count": 40,
   "metadata": {
    "execution": {
     "iopub.execute_input": "2022-03-07T18:38:20.943951Z",
     "iopub.status.busy": "2022-03-07T18:38:20.943750Z",
     "iopub.status.idle": "2022-03-07T18:38:21.273083Z",
     "shell.execute_reply": "2022-03-07T18:38:21.272132Z",
     "shell.execute_reply.started": "2022-03-07T18:38:20.943932Z"
    },
    "tags": []
   },
   "outputs": [
    {
     "data": {
      "text/html": [
       "<div>\n",
       "<style scoped>\n",
       "    .dataframe tbody tr th:only-of-type {\n",
       "        vertical-align: middle;\n",
       "    }\n",
       "\n",
       "    .dataframe tbody tr th {\n",
       "        vertical-align: top;\n",
       "    }\n",
       "\n",
       "    .dataframe thead th {\n",
       "        text-align: right;\n",
       "    }\n",
       "</style>\n",
       "<table border=\"1\" class=\"dataframe\">\n",
       "  <thead>\n",
       "    <tr style=\"text-align: right;\">\n",
       "      <th></th>\n",
       "      <th>LogisticRegression</th>\n",
       "      <th>RandomForest</th>\n",
       "      <th>AdaBoost</th>\n",
       "    </tr>\n",
       "  </thead>\n",
       "  <tbody>\n",
       "    <tr>\n",
       "      <th>precision0</th>\n",
       "      <td>0.963636</td>\n",
       "      <td>0.987179</td>\n",
       "      <td>0.974843</td>\n",
       "    </tr>\n",
       "    <tr>\n",
       "      <th>recall0</th>\n",
       "      <td>0.981481</td>\n",
       "      <td>0.950617</td>\n",
       "      <td>0.956790</td>\n",
       "    </tr>\n",
       "    <tr>\n",
       "      <th>precision1</th>\n",
       "      <td>0.977778</td>\n",
       "      <td>0.944444</td>\n",
       "      <td>0.950355</td>\n",
       "    </tr>\n",
       "    <tr>\n",
       "      <th>recall1</th>\n",
       "      <td>0.956522</td>\n",
       "      <td>0.985507</td>\n",
       "      <td>0.971014</td>\n",
       "    </tr>\n",
       "    <tr>\n",
       "      <th>roc_auc</th>\n",
       "      <td>0.997585</td>\n",
       "      <td>0.996064</td>\n",
       "      <td>0.984031</td>\n",
       "    </tr>\n",
       "  </tbody>\n",
       "</table>\n",
       "</div>"
      ],
      "text/plain": [
       "            LogisticRegression  RandomForest  AdaBoost\n",
       "precision0            0.963636      0.987179  0.974843\n",
       "recall0               0.981481      0.950617  0.956790\n",
       "precision1            0.977778      0.944444  0.950355\n",
       "recall1               0.956522      0.985507  0.971014\n",
       "roc_auc               0.997585      0.996064  0.984031"
      ]
     },
     "execution_count": 40,
     "metadata": {},
     "output_type": "execute_result"
    }
   ],
   "source": [
    "classification_compare_models(X, y,\\\n",
    "                              models={\n",
    "                                'LogisticRegression': LogisticRegression(solver='liblinear'),\n",
    "                                'RandomForest': RandomForestClassifier(max_depth=4),\n",
    "                                'AdaBoost': AdaBoostClassifier(),\n",
    "                              })"
   ]
  },
  {
   "cell_type": "code",
   "execution_count": 41,
   "metadata": {
    "execution": {
     "iopub.execute_input": "2022-03-07T18:39:55.633427Z",
     "iopub.status.busy": "2022-03-07T18:39:55.633167Z",
     "iopub.status.idle": "2022-03-07T18:39:55.636212Z",
     "shell.execute_reply": "2022-03-07T18:39:55.635729Z",
     "shell.execute_reply.started": "2022-03-07T18:39:55.633387Z"
    }
   },
   "outputs": [],
   "source": [
    "from sklearn.model_selection import RandomizedSearchCV"
   ]
  },
  {
   "cell_type": "code",
   "execution_count": 55,
   "metadata": {
    "execution": {
     "iopub.execute_input": "2022-03-07T18:47:37.411132Z",
     "iopub.status.busy": "2022-03-07T18:47:37.410934Z",
     "iopub.status.idle": "2022-03-07T18:47:37.414655Z",
     "shell.execute_reply": "2022-03-07T18:47:37.413870Z",
     "shell.execute_reply.started": "2022-03-07T18:47:37.411110Z"
    },
    "tags": []
   },
   "outputs": [],
   "source": [
    "params = {\n",
    "    'criterion': ['gini', 'entropy'],\n",
    "    'max_depth': np.arange(1, 10),\n",
    "    'min_samples_split': np.arange(4, 30, 2)\n",
    "}\n",
    "\n",
    "rscv = RandomizedSearchCV(estimator=RandomForestClassifier(), param_distributions=params, scoring='roc_auc',\\\n",
    "                            random_state=2, cv=5)"
   ]
  },
  {
   "cell_type": "code",
   "execution_count": 56,
   "metadata": {
    "execution": {
     "iopub.execute_input": "2022-03-07T18:47:37.804667Z",
     "iopub.status.busy": "2022-03-07T18:47:37.804329Z",
     "iopub.status.idle": "2022-03-07T18:47:46.373129Z",
     "shell.execute_reply": "2022-03-07T18:47:46.372426Z",
     "shell.execute_reply.started": "2022-03-07T18:47:37.804637Z"
    },
    "tags": []
   },
   "outputs": [
    {
     "data": {
      "text/plain": [
       "RandomizedSearchCV(cv=5, estimator=RandomForestClassifier(),\n",
       "                   param_distributions={'criterion': ['gini', 'entropy'],\n",
       "                                        'max_depth': array([1, 2, 3, 4, 5, 6, 7, 8, 9]),\n",
       "                                        'min_samples_split': array([ 4,  6,  8, 10, 12, 14, 16, 18, 20, 22, 24, 26, 28])},\n",
       "                   random_state=2, scoring='roc_auc')"
      ]
     },
     "execution_count": 56,
     "metadata": {},
     "output_type": "execute_result"
    }
   ],
   "source": [
    "rscv.fit(X_train, y_train)"
   ]
  },
  {
   "cell_type": "code",
   "execution_count": 57,
   "metadata": {
    "execution": {
     "iopub.execute_input": "2022-03-07T18:47:46.374362Z",
     "iopub.status.busy": "2022-03-07T18:47:46.374133Z",
     "iopub.status.idle": "2022-03-07T18:47:46.380661Z",
     "shell.execute_reply": "2022-03-07T18:47:46.379590Z",
     "shell.execute_reply.started": "2022-03-07T18:47:46.374335Z"
    },
    "tags": []
   },
   "outputs": [
    {
     "data": {
      "text/plain": [
       "0.988147121964713"
      ]
     },
     "execution_count": 57,
     "metadata": {},
     "output_type": "execute_result"
    }
   ],
   "source": [
    "rscv.best_score_"
   ]
  },
  {
   "cell_type": "code",
   "execution_count": 58,
   "metadata": {
    "execution": {
     "iopub.execute_input": "2022-03-07T18:47:46.383031Z",
     "iopub.status.busy": "2022-03-07T18:47:46.382655Z",
     "iopub.status.idle": "2022-03-07T18:47:46.395332Z",
     "shell.execute_reply": "2022-03-07T18:47:46.393185Z",
     "shell.execute_reply.started": "2022-03-07T18:47:46.382986Z"
    },
    "tags": []
   },
   "outputs": [
    {
     "data": {
      "text/plain": [
       "{'min_samples_split': 6, 'max_depth': 8, 'criterion': 'entropy'}"
      ]
     },
     "execution_count": 58,
     "metadata": {},
     "output_type": "execute_result"
    }
   ],
   "source": [
    "rscv.best_params_"
   ]
  },
  {
   "cell_type": "markdown",
   "metadata": {},
   "source": [
    "## 2. Empréstimo\n",
    "\n",
    "Para este projeto, estaremos explorando dados disponíveis publicamente de LendingClub.com. Lending Club conecta pessoas que precisam de dinheiro (mutuários) com pessoas que têm dinheiro (investidores). Felizmente, como investidor, você gostaria de investir em pessoas que mostraram um perfil de ter uma alta probabilidade de pagá-lo de volta. Vamos tentar criar um modelo que ajude a prever isso.\n",
    "\n",
    "O clube de empréstimo teve um ano muito interessante em 2016, então vamos verificar alguns de seus dados e ter em mente o contexto. Esses dados são de antes mesmo de serem públicos. Utilizaremos os dados de empréstimos de 2007-2010 e tentaremos classificar e prever se o mutuário pagou o empréstimo na íntegra.\n",
    "\n",
    "Aqui estão o que as colunas representam:\n",
    "* credit.policy: 1 se o cliente atender aos critérios de subscrição de crédito da LendingClub.com e 0 caso contrário.\n",
    "* purpose: O objetivo do empréstimo (leva valores \"credit_card\", \"debt_consolidation\", \"educacional\", \"grande compra\", \"small_business\" e \"all_other\").\n",
    "* int.rate: a taxa de juros do empréstimo (uma taxa de 11% seria armazenada como 0,11). Os mutuários julgados por LendingClub.com para serem mais arriscados recebem taxas de juros mais elevadas.\n",
    "* installment: as parcelas mensais devidas pelo mutuário se o empréstimo for financiado.\n",
    "* log.annual.inc: O log natural da renda anual auto-relatada do mutuário.\n",
    "* dti: Ratio dívida / rendimento do tomador do empréstimo (montante da dívida dividido pela receita anual).\n",
    "* fico: a pontuação de crédito FICO do mutuário.\n",
    "* days.with.cr.line: O número de dias em que o mutuário teve uma linha de crédito.\n",
    "* revol.bal: Saldo rotativo do mutuário (montante não pago no final do ciclo de cobrança do cartão de crédito).\n",
    "* revol.util: taxa de utilização da linha rotativa do mutuário (o valor da linha de crédito usada em relação ao crédito total disponível).\n",
    "* inq.last.6mths: número de consultas do mutuário por credores nos últimos 6 meses.\n",
    "* delinq.2yrs: o número de vezes que o mutuário havia passado mais de 30 dias em um pagamento nos últimos 2 anos.\n",
    "* pub.rec: O número de registros públicos depreciativos do mutuário (arquivamentos de falências, ônus fiscais ou julgamentos).\n",
    "* `not.fully.paid`: Se o cliente pagou o empréstimo na íntegra. Nossa variável resposta.\n",
    "\n",
    "> [Clique aqui](https://s3-sa-east-1.amazonaws.com/lcpi/5e9ae1dc-5f52-4ba4-a997-a1c1614d5e05.csv) para fazer o download do dataset."
   ]
  },
  {
   "cell_type": "code",
   "execution_count": null,
   "metadata": {},
   "outputs": [],
   "source": []
  },
  {
   "cell_type": "code",
   "execution_count": null,
   "metadata": {},
   "outputs": [],
   "source": []
  },
  {
   "cell_type": "code",
   "execution_count": null,
   "metadata": {},
   "outputs": [],
   "source": []
  },
  {
   "cell_type": "code",
   "execution_count": null,
   "metadata": {},
   "outputs": [],
   "source": []
  },
  {
   "cell_type": "code",
   "execution_count": null,
   "metadata": {},
   "outputs": [],
   "source": []
  },
  {
   "cell_type": "code",
   "execution_count": null,
   "metadata": {},
   "outputs": [],
   "source": []
  },
  {
   "cell_type": "code",
   "execution_count": null,
   "metadata": {},
   "outputs": [],
   "source": []
  },
  {
   "cell_type": "code",
   "execution_count": null,
   "metadata": {},
   "outputs": [],
   "source": []
  },
  {
   "cell_type": "code",
   "execution_count": null,
   "metadata": {},
   "outputs": [],
   "source": []
  },
  {
   "cell_type": "code",
   "execution_count": null,
   "metadata": {},
   "outputs": [],
   "source": []
  },
  {
   "cell_type": "code",
   "execution_count": null,
   "metadata": {},
   "outputs": [],
   "source": []
  },
  {
   "cell_type": "markdown",
   "metadata": {},
   "source": [
    "## 3. Risco de Crédito\n",
    "\n",
    "Neste caso, você irá utilizar um [dataset de risco de crédito](https://www.kaggle.com/uciml/german-credit). O seu objetivo é determinar a quais clientes será concedido crédito, com base em diversas informações que você tem de cada um deles.\n",
    "\n",
    "1. Age (numérico)\n",
    "2. Sex (male, female)\n",
    "3. Job (0 - unskilled and non-resident, 1 - unskilled and resident, 2 - skilled, 3 - highly skilled)\n",
    "4. Housing (text: own, rent, or free)\n",
    "5. Saving accounts (text - little, moderate, quite rich, rich)\n",
    "6. Checking account (numeric, in DM - Deutsch Mark)\n",
    "7. Credit amount (numeric, in DM)\n",
    "8. Duration (numeric, in month)\n",
    "9. Purpose (text: car, furniture/equipment, radio/TV, domestic appliances, repairs, education, business, vacation/others)"
   ]
  },
  {
   "cell_type": "code",
   "execution_count": null,
   "metadata": {},
   "outputs": [],
   "source": []
  },
  {
   "cell_type": "code",
   "execution_count": null,
   "metadata": {},
   "outputs": [],
   "source": []
  },
  {
   "cell_type": "code",
   "execution_count": null,
   "metadata": {},
   "outputs": [],
   "source": []
  },
  {
   "cell_type": "markdown",
   "metadata": {},
   "source": [
    "## 4. Jogadores de Basquete\n",
    "\n",
    "Imagine que você é um ténico e, por isso, deseja criar um modelo capaz de prever se, de acordo com um conjunto de característica de um jogador, ele vai ser capaz de ter ou não uma carreira de 5 anos ou mais. Para isso, você dispõe de um dataset ([clique aqui](https://s3-sa-east-1.amazonaws.com/lcpi/5282bfa7-cbb8-4bf2-9537-6e7c237daf39.csv) para o download) que contém informações passadas de jogadores, bem como a informação como essa informação do seu tempo de carrreira. Cada observação representa um jogador e cada coluna uma característica de desempenho. A coluna `target_5y` define se o jogador teve uma carreira profissional inferior a 5 anos [0], ou se teve uma carreira de 5 anos ou mais [1].\n",
    "\n",
    "Utilize o conjunto de dados para criar um modelo que seja capaz de prever se um outro jogador ([clique aqui](https://s3-sa-east-1.amazonaws.com/lcpi/2d3db466-9a44-4b33-964c-1598457d2a85.csv) para fazer o download dos dados deste jogador), que você está interessado em contratar, vai ter uma carreira igual ou superior a 5 anos. Qual seria a probabilidade disso acontecer?"
   ]
  },
  {
   "cell_type": "code",
   "execution_count": null,
   "metadata": {},
   "outputs": [],
   "source": []
  },
  {
   "cell_type": "code",
   "execution_count": null,
   "metadata": {},
   "outputs": [],
   "source": []
  },
  {
   "cell_type": "code",
   "execution_count": null,
   "metadata": {},
   "outputs": [],
   "source": []
  },
  {
   "cell_type": "markdown",
   "metadata": {},
   "source": [
    "## 5. Prevendo campanha de investimento no Banco\n",
    "\n",
    "Você possui dados de campanhas de marketing direto de uma instituição bancária portuguesa. As campanhas de marketing foram baseadas em ligações telefônicas. Muitas vezes, era necessário mais de um contato para o mesmo cliente, para verificar se o possível cliente aceitaria ('sim') ou não ('não') se inscrever em um programa de depósito bancário a prazo (algo como um investimento em CDB).\n",
    "\n",
    "O objetivo da classificação é prever se o cliente irá se inscrever (yes/no) nesse investimento (variável `y`).\n",
    "\n",
    "> [Clique aqui](https://s3-sa-east-1.amazonaws.com/lcpi/5febb4d1-a2c5-4cc6-b72a-81c72ca67ffe.csv) para fazer o download do dataset."
   ]
  },
  {
   "cell_type": "code",
   "execution_count": null,
   "metadata": {},
   "outputs": [],
   "source": []
  },
  {
   "cell_type": "code",
   "execution_count": null,
   "metadata": {},
   "outputs": [],
   "source": []
  },
  {
   "cell_type": "code",
   "execution_count": null,
   "metadata": {},
   "outputs": [],
   "source": []
  },
  {
   "cell_type": "code",
   "execution_count": null,
   "metadata": {},
   "outputs": [],
   "source": []
  }
 ],
 "metadata": {
  "kernelspec": {
   "display_name": "Python 3",
   "language": "python",
   "name": "python3"
  },
  "language_info": {
   "codemirror_mode": {
    "name": "ipython",
    "version": 3
   },
   "file_extension": ".py",
   "mimetype": "text/x-python",
   "name": "python",
   "nbconvert_exporter": "python",
   "pygments_lexer": "ipython3",
   "version": "3.10.2"
  }
 },
 "nbformat": 4,
 "nbformat_minor": 4
}
