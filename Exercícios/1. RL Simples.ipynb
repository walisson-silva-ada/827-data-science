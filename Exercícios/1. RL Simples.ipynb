{
 "cells": [
  {
   "cell_type": "markdown",
   "metadata": {},
   "source": [
    "# Exercícios\n",
    "\n",
    "#### Regressão Linear Simples\n",
    "\n",
    "---\n",
    "\n",
    "<img src=\"https://selecao.letscode.com.br/favicon.png\" width=\"40px\" style=\"position: absolute; top: 0px; right: 40px; border-radius: 5px;\" />"
   ]
  },
  {
   "cell_type": "markdown",
   "metadata": {},
   "source": [
    "### Regressão Linear Simples: Previsão de Limite de Crédito\n",
    "\n",
    "Neste case, você deverá aplicar a regressão linear simples para estimar o limite de crédito de clientes de um banco, a partir do score deles no Serasa. O seu dataset (disponível no link abaixo) contém duas colunas: `Score` e `Limit`. Aplique a regressão linear, utilizando o `LinearRegression` do `sklearn` e, também, o `OLS` do `statsmodels`.\n",
    "\n",
    "Observe as características do erro, bem como calcule as métricas vistas durante a aula.\n",
    "\n",
    "> [Link para o download do dataset](https://s3-sa-east-1.amazonaws.com/lcpi/7c85cb96-165c-49a6-90f6-e35575a4dafe.csv)"
   ]
  },
  {
   "cell_type": "code",
   "execution_count": null,
   "metadata": {},
   "outputs": [],
   "source": []
  },
  {
   "cell_type": "code",
   "execution_count": null,
   "metadata": {},
   "outputs": [],
   "source": []
  },
  {
   "cell_type": "code",
   "execution_count": null,
   "metadata": {},
   "outputs": [],
   "source": []
  },
  {
   "cell_type": "code",
   "execution_count": null,
   "metadata": {},
   "outputs": [],
   "source": []
  },
  {
   "cell_type": "code",
   "execution_count": null,
   "metadata": {},
   "outputs": [],
   "source": []
  }
 ],
 "metadata": {
  "kernelspec": {
   "display_name": "Python 3",
   "language": "python",
   "name": "python3"
  },
  "language_info": {
   "codemirror_mode": {
    "name": "ipython",
    "version": 3
   },
   "file_extension": ".py",
   "mimetype": "text/x-python",
   "name": "python",
   "nbconvert_exporter": "python",
   "pygments_lexer": "ipython3",
   "version": "3.8.10"
  }
 },
 "nbformat": 4,
 "nbformat_minor": 4
}
