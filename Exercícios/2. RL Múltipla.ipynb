{
 "cells": [
  {
   "cell_type": "markdown",
   "metadata": {},
   "source": [
    "# Exercícios\n",
    "\n",
    "#### Regressão Linear Múltipla\n",
    "\n",
    "---\n",
    "\n",
    "<img src=\"https://selecao.letscode.com.br/favicon.png\" width=\"40px\" style=\"position: absolute; top: 0px; right: 40px; border-radius: 5px;\" />"
   ]
  },
  {
   "cell_type": "markdown",
   "metadata": {},
   "source": [
    "## Q1. Previsão do Saldo Médio do Cartão de Crédito\n",
    "\n",
    "Neste case, você deverá aplicar a regressão linear múltipla para estimar o saldo médido do cartão de crédito de clientes de um banco, a partir das demais informações contidas no conjunto de dados (`credit_regression.csv`), os quais são descritos abaixo. Aplique a regressão linear, utilizando o `LinearRegression` do `sklearn` e, também, o `OLS` do `statsmodels`.\n",
    "\n",
    "* ID - Identificação\n",
    "* Income - Renda\n",
    "* Limit - Limite de crédito\n",
    "* Rating - Score do Serasa\n",
    "* Age - Idade\n",
    "* Education - Anos de educação\n",
    "* Gender - Gênero\n",
    "* Student - É estudante? (Sim ou Não)\n",
    "* Married - É casado(a)? (Sim ou Não)\n",
    "* Ethnicity - Afro-americano, asiático ou branco\n",
    "* Balance - Saldo médio do cartão de crédito em dólares\n",
    "\n",
    "> [Link para o download do dataset](https://s3-sa-east-1.amazonaws.com/lcpi/ab0a9e91-89d1-4897-b384-51a86c50b804.csv)"
   ]
  },
  {
   "cell_type": "code",
   "execution_count": null,
   "metadata": {},
   "outputs": [],
   "source": []
  },
  {
   "cell_type": "markdown",
   "metadata": {},
   "source": [
    "## Q2. Estimando o Preço de Venda de Casas\n",
    "\n",
    "O arquivo `usa_housing.csv` consiste em um dataset que contém informações sobre o preço de casas em determinadas regiões dos Estados Unidos. Uma descrição das colunas desse dataframes é apresentada abaixo:\n",
    "\n",
    "* `Avg. Area Income`: Média da renda dos residentes de onde a casa está localizada.\n",
    "* `Avg. Area House Age`: Média de idade das casas da mesma cidade.\n",
    "* `Avg. Area Number of Rooms`: Número médio de quartos para casas na mesma cidade.\n",
    "* `Avg. Area Number of Bedrooms`: Número médio de quartos para casas na mesma cidade.\n",
    "* `Area Population`: A população da cidade onde a casa está localizada.\n",
    "* `Price`: Preço de venda da casa.\n",
    "* `Address`: Endereço da casa.\n",
    "\n",
    "Utilize os dados contidos nele para criar um modelo de regressão linear que seja capaz de estimar o preço de venda das casas.\n",
    "\n",
    "> [Clique aqui](https://s3-sa-east-1.amazonaws.com/lcpi/7cf57d48-ac3d-4748-9d81-5b4d6677fcff.csv) para fazer o download do dataset."
   ]
  },
  {
   "cell_type": "code",
   "execution_count": null,
   "metadata": {},
   "outputs": [],
   "source": []
  }
 ],
 "metadata": {
  "kernelspec": {
   "display_name": "Python 3",
   "language": "python",
   "name": "python3"
  },
  "language_info": {
   "codemirror_mode": {
    "name": "ipython",
    "version": 3
   },
   "file_extension": ".py",
   "mimetype": "text/x-python",
   "name": "python",
   "nbconvert_exporter": "python",
   "pygments_lexer": "ipython3",
   "version": "3.8.10"
  }
 },
 "nbformat": 4,
 "nbformat_minor": 4
}
