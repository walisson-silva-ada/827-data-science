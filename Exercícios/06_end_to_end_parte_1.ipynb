{
 "cells": [
  {
   "cell_type": "markdown",
   "id": "797e452a",
   "metadata": {},
   "source": [
    "# End-to-end: parte 1\n",
    "\n",
    "\n",
    "\n",
    "Vamos trabalhar em trios para juntar o que vimos de engenharia e ciência de dados até agora.\n",
    "\n",
    "1. Crie um fluxo de dados no Databricks para a base do Titanic.\n",
    "    1. Insira os dados brutos na primeria camada.\n",
    "    1. Salve as transformações / limpezas na segunda camada.\n",
    "    1. Selecione e salve as colunas relevantes e features criadas na terceira camada.\n",
    "    1. Crie uma pipeline para o processo.\n",
    "        1. Pipeline, nesse caso, será um único script que gere todas as tabelas acima.\n",
    "    \n",
    "1. A partir da tabela de consumo (terceira camada), crie um modelo para prever as pessoas que teriam sobrevivido ao naufragio.\n",
    "    1. Modelo simples.\n",
    "    1. Utilizando bagging.\n",
    "    1. Utilizando boosting.\n",
    "    1. Utilizando stacking.\n",
    "    \n",
    "1. Apresente os resultados no formato:\n",
    "\n",
    "|id_modelo|método|roc_auc|tempo_de_treino|\n",
    "|---|---|---|---|"
   ]
  },
  {
   "cell_type": "code",
   "execution_count": null,
   "id": "a7188154",
   "metadata": {},
   "outputs": [],
   "source": []
  }
 ],
 "metadata": {
  "kernelspec": {
   "display_name": "Python 3",
   "language": "python",
   "name": "python3"
  },
  "language_info": {
   "codemirror_mode": {
    "name": "ipython",
    "version": 3
   },
   "file_extension": ".py",
   "mimetype": "text/x-python",
   "name": "python",
   "nbconvert_exporter": "python",
   "pygments_lexer": "ipython3",
   "version": "3.8.8"
  },
  "toc": {
   "base_numbering": 1,
   "nav_menu": {},
   "number_sections": true,
   "sideBar": true,
   "skip_h1_title": false,
   "title_cell": "Table of Contents",
   "title_sidebar": "Contents",
   "toc_cell": false,
   "toc_position": {},
   "toc_section_display": true,
   "toc_window_display": false
  }
 },
 "nbformat": 4,
 "nbformat_minor": 5
}
